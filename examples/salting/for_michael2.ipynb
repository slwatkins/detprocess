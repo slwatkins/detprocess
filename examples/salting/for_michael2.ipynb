{
 "cells": [
  {
   "cell_type": "code",
   "execution_count": 1,
   "metadata": {},
   "outputs": [
    {
     "name": "stderr",
     "output_type": "stream",
     "text": [
      "<frozen importlib._bootstrap>:241: RuntimeWarning: numpy.ndarray size changed, may indicate binary incompatibility. Expected 80 from C header, got 96 from PyObject\n"
     ]
    },
    {
     "ename": "KeyboardInterrupt",
     "evalue": "",
     "output_type": "error",
     "traceback": [
      "\u001b[0;31m---------------------------------------------------------------------------\u001b[0m",
      "\u001b[0;31mKeyboardInterrupt\u001b[0m                         Traceback (most recent call last)",
      "Cell \u001b[0;32mIn[1], line 1\u001b[0m\n\u001b[0;32m----> 1\u001b[0m \u001b[38;5;28;01mimport\u001b[39;00m \u001b[38;5;21;01mdetprocess\u001b[39;00m\n\u001b[1;32m      3\u001b[0m \u001b[38;5;28;01mimport\u001b[39;00m \u001b[38;5;21;01mnumpy\u001b[39;00m \u001b[38;5;28;01mas\u001b[39;00m \u001b[38;5;21;01mnp\u001b[39;00m\n\u001b[1;32m      4\u001b[0m np\u001b[38;5;241m.\u001b[39mset_printoptions(linewidth\u001b[38;5;241m=\u001b[39m\u001b[38;5;241m1000\u001b[39m)\n",
      "File \u001b[0;32m~/miniconda3/envs/pythonstandard/lib/python3.10/site-packages/detprocess/__init__.py:1\u001b[0m\n\u001b[0;32m----> 1\u001b[0m \u001b[38;5;28;01mfrom\u001b[39;00m \u001b[38;5;21;01m.\u001b[39;00m \u001b[38;5;28;01mimport\u001b[39;00m process\n\u001b[1;32m      2\u001b[0m \u001b[38;5;28;01mfrom\u001b[39;00m \u001b[38;5;21;01m.\u001b[39;00m\u001b[38;5;21;01mprocess\u001b[39;00m \u001b[38;5;28;01mimport\u001b[39;00m \u001b[38;5;241m*\u001b[39m\n\u001b[1;32m      3\u001b[0m \u001b[38;5;28;01mfrom\u001b[39;00m \u001b[38;5;21;01m.\u001b[39;00m \u001b[38;5;28;01mimport\u001b[39;00m core\n",
      "File \u001b[0;32m~/miniconda3/envs/pythonstandard/lib/python3.10/site-packages/detprocess/process/__init__.py:1\u001b[0m\n\u001b[0;32m----> 1\u001b[0m \u001b[38;5;28;01mfrom\u001b[39;00m \u001b[38;5;21;01m.\u001b[39;00m\u001b[38;5;21;01mfeatures\u001b[39;00m \u001b[38;5;28;01mimport\u001b[39;00m \u001b[38;5;241m*\u001b[39m\n\u001b[1;32m      2\u001b[0m \u001b[38;5;28;01mfrom\u001b[39;00m \u001b[38;5;21;01m.\u001b[39;00m\u001b[38;5;21;01mtriggers\u001b[39;00m \u001b[38;5;28;01mimport\u001b[39;00m \u001b[38;5;241m*\u001b[39m\n\u001b[1;32m      3\u001b[0m \u001b[38;5;28;01mfrom\u001b[39;00m \u001b[38;5;21;01m.\u001b[39;00m\u001b[38;5;21;01mprocessing_data\u001b[39;00m \u001b[38;5;28;01mimport\u001b[39;00m \u001b[38;5;241m*\u001b[39m\n",
      "File \u001b[0;32m~/miniconda3/envs/pythonstandard/lib/python3.10/site-packages/detprocess/process/features.py:21\u001b[0m\n\u001b[1;32m     19\u001b[0m \u001b[38;5;28;01mfrom\u001b[39;00m \u001b[38;5;21;01mitertools\u001b[39;00m \u001b[38;5;28;01mimport\u001b[39;00m groupby\n\u001b[1;32m     20\u001b[0m \u001b[38;5;28;01mimport\u001b[39;00m \u001b[38;5;21;01mcopy\u001b[39;00m\n\u001b[0;32m---> 21\u001b[0m \u001b[38;5;28;01mfrom\u001b[39;00m \u001b[38;5;21;01mdetprocess\u001b[39;00m\u001b[38;5;21;01m.\u001b[39;00m\u001b[38;5;21;01mcore\u001b[39;00m\u001b[38;5;21;01m.\u001b[39;00m\u001b[38;5;21;01malgorithms\u001b[39;00m  \u001b[38;5;28;01mimport\u001b[39;00m FeatureExtractors\n\u001b[1;32m     22\u001b[0m \u001b[38;5;28;01mfrom\u001b[39;00m \u001b[38;5;21;01mdetprocess\u001b[39;00m\u001b[38;5;21;01m.\u001b[39;00m\u001b[38;5;21;01mprocess\u001b[39;00m\u001b[38;5;21;01m.\u001b[39;00m\u001b[38;5;21;01mprocessing_data\u001b[39;00m  \u001b[38;5;28;01mimport\u001b[39;00m ProcessingData\n\u001b[1;32m     23\u001b[0m \u001b[38;5;28;01mfrom\u001b[39;00m \u001b[38;5;21;01mdetprocess\u001b[39;00m\u001b[38;5;21;01m.\u001b[39;00m\u001b[38;5;21;01mutils\u001b[39;00m \u001b[38;5;28;01mimport\u001b[39;00m utils\n",
      "File \u001b[0;32m~/miniconda3/envs/pythonstandard/lib/python3.10/site-packages/detprocess/core/__init__.py:1\u001b[0m\n\u001b[0;32m----> 1\u001b[0m \u001b[38;5;28;01mfrom\u001b[39;00m \u001b[38;5;21;01m.\u001b[39;00m\u001b[38;5;21;01malgorithms\u001b[39;00m \u001b[38;5;28;01mimport\u001b[39;00m \u001b[38;5;241m*\u001b[39m\n\u001b[1;32m      2\u001b[0m \u001b[38;5;28;01mfrom\u001b[39;00m \u001b[38;5;21;01m.\u001b[39;00m\u001b[38;5;21;01moftrigger\u001b[39;00m \u001b[38;5;28;01mimport\u001b[39;00m \u001b[38;5;241m*\u001b[39m\n\u001b[1;32m      3\u001b[0m \u001b[38;5;28;01mfrom\u001b[39;00m \u001b[38;5;21;01m.\u001b[39;00m\u001b[38;5;21;01meventbuilder\u001b[39;00m \u001b[38;5;28;01mimport\u001b[39;00m \u001b[38;5;241m*\u001b[39m\n",
      "File \u001b[0;32m~/miniconda3/envs/pythonstandard/lib/python3.10/site-packages/detprocess/core/algorithms.py:3\u001b[0m\n\u001b[1;32m      1\u001b[0m \u001b[38;5;28;01mimport\u001b[39;00m \u001b[38;5;21;01mnumpy\u001b[39;00m \u001b[38;5;28;01mas\u001b[39;00m \u001b[38;5;21;01mnp\u001b[39;00m\n\u001b[1;32m      2\u001b[0m \u001b[38;5;28;01mimport\u001b[39;00m \u001b[38;5;21;01mqetpy\u001b[39;00m \u001b[38;5;28;01mas\u001b[39;00m \u001b[38;5;21;01mqp\u001b[39;00m\n\u001b[0;32m----> 3\u001b[0m \u001b[38;5;28;01mfrom\u001b[39;00m \u001b[38;5;21;01mdetprocess\u001b[39;00m\u001b[38;5;21;01m.\u001b[39;00m\u001b[38;5;21;01mutils\u001b[39;00m \u001b[38;5;28;01mimport\u001b[39;00m utils\n\u001b[1;32m      4\u001b[0m \u001b[38;5;28;01mimport\u001b[39;00m \u001b[38;5;21;01mrandom\u001b[39;00m\n\u001b[1;32m      7\u001b[0m __all__ \u001b[38;5;241m=\u001b[39m [\n\u001b[1;32m      8\u001b[0m     \u001b[38;5;124m'\u001b[39m\u001b[38;5;124mFeatureExtractors\u001b[39m\u001b[38;5;124m'\u001b[39m,\n\u001b[1;32m      9\u001b[0m ]\n",
      "File \u001b[0;32m~/miniconda3/envs/pythonstandard/lib/python3.10/site-packages/detprocess/utils/__init__.py:1\u001b[0m\n\u001b[0;32m----> 1\u001b[0m \u001b[38;5;28;01mfrom\u001b[39;00m \u001b[38;5;21;01m.\u001b[39;00m\u001b[38;5;21;01mutils\u001b[39;00m \u001b[38;5;28;01mimport\u001b[39;00m \u001b[38;5;241m*\u001b[39m\n",
      "File \u001b[0;32m~/miniconda3/envs/pythonstandard/lib/python3.10/site-packages/detprocess/utils/utils.py:10\u001b[0m\n\u001b[1;32m      8\u001b[0m \u001b[38;5;28;01mimport\u001b[39;00m \u001b[38;5;21;01mre\u001b[39;00m\n\u001b[1;32m      9\u001b[0m \u001b[38;5;28;01mfrom\u001b[39;00m \u001b[38;5;21;01mpprint\u001b[39;00m \u001b[38;5;28;01mimport\u001b[39;00m pprint\n\u001b[0;32m---> 10\u001b[0m \u001b[38;5;28;01mfrom\u001b[39;00m \u001b[38;5;21;01mpytesdaq\u001b[39;00m\u001b[38;5;21;01m.\u001b[39;00m\u001b[38;5;21;01mio\u001b[39;00m \u001b[38;5;28;01mimport\u001b[39;00m convert_length_msec_to_samples\n\u001b[1;32m     11\u001b[0m \u001b[38;5;28;01mfrom\u001b[39;00m \u001b[38;5;21;01mqetpy\u001b[39;00m\u001b[38;5;21;01m.\u001b[39;00m\u001b[38;5;21;01mutils\u001b[39;00m \u001b[38;5;28;01mimport\u001b[39;00m convert_channel_name_to_list, convert_channel_list_to_name\n\u001b[1;32m     14\u001b[0m __all__ \u001b[38;5;241m=\u001b[39m [\u001b[38;5;124m'\u001b[39m\u001b[38;5;124msplit_channel_name\u001b[39m\u001b[38;5;124m'\u001b[39m, \u001b[38;5;124m'\u001b[39m\u001b[38;5;124mextract_window_indices\u001b[39m\u001b[38;5;124m'\u001b[39m,\n\u001b[1;32m     15\u001b[0m            \u001b[38;5;124m'\u001b[39m\u001b[38;5;124mfind_linear_segment\u001b[39m\u001b[38;5;124m'\u001b[39m, \u001b[38;5;124m'\u001b[39m\u001b[38;5;124mread_config\u001b[39m\u001b[38;5;124m'\u001b[39m]\n",
      "File \u001b[0;32m~/miniconda3/envs/pythonstandard/lib/python3.10/site-packages/pytesdaq/__init__.py:2\u001b[0m\n\u001b[1;32m      1\u001b[0m \u001b[38;5;28;01mfrom\u001b[39;00m \u001b[38;5;21;01m.\u001b[39;00m \u001b[38;5;28;01mimport\u001b[39;00m config\n\u001b[0;32m----> 2\u001b[0m \u001b[38;5;28;01mfrom\u001b[39;00m \u001b[38;5;21;01m.\u001b[39;00m \u001b[38;5;28;01mimport\u001b[39;00m daq\n\u001b[1;32m      3\u001b[0m \u001b[38;5;28;01mfrom\u001b[39;00m \u001b[38;5;21;01m.\u001b[39;00m \u001b[38;5;28;01mimport\u001b[39;00m display\n\u001b[1;32m      4\u001b[0m \u001b[38;5;28;01mfrom\u001b[39;00m \u001b[38;5;21;01m.\u001b[39;00m \u001b[38;5;28;01mimport\u001b[39;00m instruments\n",
      "File \u001b[0;32m~/miniconda3/envs/pythonstandard/lib/python3.10/site-packages/pytesdaq/daq/__init__.py:4\u001b[0m\n\u001b[1;32m      1\u001b[0m \u001b[38;5;124;03m\"\"\"\u001b[39;00m\n\u001b[1;32m      2\u001b[0m \u001b[38;5;124;03mDAQ module  \u001b[39;00m\n\u001b[1;32m      3\u001b[0m \u001b[38;5;124;03m\"\"\"\u001b[39;00m\n\u001b[0;32m----> 4\u001b[0m \u001b[38;5;28;01mfrom\u001b[39;00m \u001b[38;5;21;01m.\u001b[39;00m\u001b[38;5;21;01mdaq\u001b[39;00m \u001b[38;5;28;01mimport\u001b[39;00m DAQ\n\u001b[1;32m      5\u001b[0m \u001b[38;5;28;01mfrom\u001b[39;00m \u001b[38;5;21;01m.\u001b[39;00m\u001b[38;5;21;01mnidaqtask\u001b[39;00m \u001b[38;5;28;01mimport\u001b[39;00m \u001b[38;5;241m*\u001b[39m\n\u001b[1;32m      6\u001b[0m \u001b[38;5;28;01mfrom\u001b[39;00m \u001b[38;5;21;01m.\u001b[39;00m\u001b[38;5;21;01mpolaris\u001b[39;00m  \u001b[38;5;28;01mimport\u001b[39;00m \u001b[38;5;241m*\u001b[39m\n",
      "File \u001b[0;32m~/miniconda3/envs/pythonstandard/lib/python3.10/site-packages/pytesdaq/daq/daq.py:6\u001b[0m\n\u001b[1;32m      3\u001b[0m \u001b[38;5;28;01mimport\u001b[39;00m \u001b[38;5;21;01mstruct\u001b[39;00m\n\u001b[1;32m      5\u001b[0m \u001b[38;5;28;01mfrom\u001b[39;00m \u001b[38;5;21;01mpytesdaq\u001b[39;00m\u001b[38;5;21;01m.\u001b[39;00m\u001b[38;5;21;01mconfig\u001b[39;00m \u001b[38;5;28;01mimport\u001b[39;00m settings\n\u001b[0;32m----> 6\u001b[0m \u001b[38;5;28;01mfrom\u001b[39;00m \u001b[38;5;21;01mpytesdaq\u001b[39;00m\u001b[38;5;21;01m.\u001b[39;00m\u001b[38;5;21;01mdaq\u001b[39;00m \u001b[38;5;28;01mimport\u001b[39;00m polaris\n\u001b[1;32m      7\u001b[0m \u001b[38;5;28;01mfrom\u001b[39;00m \u001b[38;5;21;01mpytesdaq\u001b[39;00m\u001b[38;5;21;01m.\u001b[39;00m\u001b[38;5;21;01mdaq\u001b[39;00m \u001b[38;5;28;01mimport\u001b[39;00m nidaqtask\n\u001b[1;32m     10\u001b[0m \u001b[38;5;28;01mclass\u001b[39;00m \u001b[38;5;21;01mDAQ\u001b[39;00m:\n",
      "File \u001b[0;32m~/miniconda3/envs/pythonstandard/lib/python3.10/site-packages/pytesdaq/daq/polaris.py:7\u001b[0m\n\u001b[1;32m      4\u001b[0m \u001b[38;5;28;01mfrom\u001b[39;00m \u001b[38;5;21;01mdatetime\u001b[39;00m \u001b[38;5;28;01mimport\u001b[39;00m datetime\n\u001b[1;32m      5\u001b[0m \u001b[38;5;28;01mimport\u001b[39;00m \u001b[38;5;21;01mfcntl\u001b[39;00m\n\u001b[0;32m----> 7\u001b[0m \u001b[38;5;28;01mfrom\u001b[39;00m \u001b[38;5;21;01mnidaqmx\u001b[39;00m\u001b[38;5;21;01m.\u001b[39;00m\u001b[38;5;21;01mutils\u001b[39;00m \u001b[38;5;28;01mimport\u001b[39;00m flatten_channel_string\n\u001b[1;32m      8\u001b[0m \u001b[38;5;28;01mfrom\u001b[39;00m \u001b[38;5;21;01mpytesdaq\u001b[39;00m\u001b[38;5;21;01m.\u001b[39;00m\u001b[38;5;21;01mutils\u001b[39;00m \u001b[38;5;28;01mimport\u001b[39;00m arg_utils\n\u001b[1;32m     11\u001b[0m \u001b[38;5;28;01mclass\u001b[39;00m \u001b[38;5;21;01mPolarisTask\u001b[39;00m:\n",
      "File \u001b[0;32m~/miniconda3/envs/pythonstandard/lib/python3.10/site-packages/nidaqmx/__init__.py:1\u001b[0m\n\u001b[0;32m----> 1\u001b[0m \u001b[38;5;28;01mfrom\u001b[39;00m \u001b[38;5;21;01mnidaqmx\u001b[39;00m\u001b[38;5;21;01m.\u001b[39;00m\u001b[38;5;21;01merrors\u001b[39;00m \u001b[38;5;28;01mimport\u001b[39;00m DaqError, DaqReadError, DaqWriteError, DaqWarning, DaqResourceWarning\n\u001b[1;32m      2\u001b[0m \u001b[38;5;28;01mfrom\u001b[39;00m \u001b[38;5;21;01mnidaqmx\u001b[39;00m\u001b[38;5;21;01m.\u001b[39;00m\u001b[38;5;21;01mgrpc_session_options\u001b[39;00m \u001b[38;5;28;01mimport\u001b[39;00m \u001b[38;5;241m*\u001b[39m\n\u001b[1;32m      3\u001b[0m \u001b[38;5;28;01mfrom\u001b[39;00m \u001b[38;5;21;01mnidaqmx\u001b[39;00m\u001b[38;5;21;01m.\u001b[39;00m\u001b[38;5;21;01mscale\u001b[39;00m \u001b[38;5;28;01mimport\u001b[39;00m Scale\n",
      "File \u001b[0;32m~/miniconda3/envs/pythonstandard/lib/python3.10/site-packages/nidaqmx/errors.py:4\u001b[0m\n\u001b[1;32m      1\u001b[0m \u001b[38;5;28;01mimport\u001b[39;00m \u001b[38;5;21;01mwarnings\u001b[39;00m\n\u001b[1;32m      2\u001b[0m \u001b[38;5;28;01mimport\u001b[39;00m \u001b[38;5;21;01mdeprecation\u001b[39;00m\n\u001b[0;32m----> 4\u001b[0m \u001b[38;5;28;01mfrom\u001b[39;00m \u001b[38;5;21;01mnidaqmx\u001b[39;00m\u001b[38;5;21;01m.\u001b[39;00m\u001b[38;5;21;01merror_codes\u001b[39;00m \u001b[38;5;28;01mimport\u001b[39;00m DAQmxErrors, DAQmxWarnings\n\u001b[1;32m      6\u001b[0m __all__ \u001b[38;5;241m=\u001b[39m [\u001b[38;5;124m'\u001b[39m\u001b[38;5;124mDaqError\u001b[39m\u001b[38;5;124m'\u001b[39m, \u001b[38;5;124m'\u001b[39m\u001b[38;5;124mDaqReadError\u001b[39m\u001b[38;5;124m'\u001b[39m, \u001b[38;5;124m'\u001b[39m\u001b[38;5;124mDaqWriteError\u001b[39m\u001b[38;5;124m'\u001b[39m, \u001b[38;5;124m'\u001b[39m\u001b[38;5;124mDaqWarning\u001b[39m\u001b[38;5;124m'\u001b[39m, \u001b[38;5;124m'\u001b[39m\u001b[38;5;124mDaqResourceWarning\u001b[39m\u001b[38;5;124m'\u001b[39m]\n\u001b[1;32m      9\u001b[0m \u001b[38;5;28;01mclass\u001b[39;00m \u001b[38;5;21;01mError\u001b[39;00m(\u001b[38;5;167;01mException\u001b[39;00m):\n",
      "File \u001b[0;32m~/miniconda3/envs/pythonstandard/lib/python3.10/site-packages/nidaqmx/error_codes.py:8\u001b[0m\n\u001b[1;32m      3\u001b[0m \u001b[38;5;28;01mfrom\u001b[39;00m \u001b[38;5;21;01menum\u001b[39;00m \u001b[38;5;28;01mimport\u001b[39;00m IntEnum\n\u001b[1;32m      5\u001b[0m __all__ \u001b[38;5;241m=\u001b[39m [\u001b[38;5;124m'\u001b[39m\u001b[38;5;124mDAQmxErrors\u001b[39m\u001b[38;5;124m'\u001b[39m, \u001b[38;5;124m'\u001b[39m\u001b[38;5;124mDAQmxWarnings\u001b[39m\u001b[38;5;124m'\u001b[39m]\n\u001b[0;32m----> 8\u001b[0m \u001b[38;5;28;01mclass\u001b[39;00m \u001b[38;5;21;01mDAQmxErrors\u001b[39;00m(IntEnum):\n\u001b[1;32m      9\u001b[0m     REMOTE_SENSE \u001b[38;5;241m=\u001b[39m \u001b[38;5;241m-\u001b[39m\u001b[38;5;241m209888\u001b[39m\n\u001b[1;32m     10\u001b[0m     OVER_TEMPERATURE_PROTECTION_ACTIVATED \u001b[38;5;241m=\u001b[39m \u001b[38;5;241m-\u001b[39m\u001b[38;5;241m209887\u001b[39m\n",
      "File \u001b[0;32m~/miniconda3/envs/pythonstandard/lib/python3.10/enum.py:302\u001b[0m, in \u001b[0;36mEnumMeta.__new__\u001b[0;34m(metacls, cls, bases, classdict, **kwds)\u001b[0m\n\u001b[1;32m    299\u001b[0m \u001b[38;5;66;03m# If another member with the same value was already defined, the\u001b[39;00m\n\u001b[1;32m    300\u001b[0m \u001b[38;5;66;03m# new member becomes an alias to the existing one.\u001b[39;00m\n\u001b[1;32m    301\u001b[0m \u001b[38;5;28;01mfor\u001b[39;00m name, canonical_member \u001b[38;5;129;01min\u001b[39;00m enum_class\u001b[38;5;241m.\u001b[39m_member_map_\u001b[38;5;241m.\u001b[39mitems():\n\u001b[0;32m--> 302\u001b[0m     \u001b[38;5;28;01mif\u001b[39;00m canonical_member\u001b[38;5;241m.\u001b[39m_value_ \u001b[38;5;241m==\u001b[39m enum_member\u001b[38;5;241m.\u001b[39m_value_:\n\u001b[1;32m    303\u001b[0m         enum_member \u001b[38;5;241m=\u001b[39m canonical_member\n\u001b[1;32m    304\u001b[0m         \u001b[38;5;28;01mbreak\u001b[39;00m\n",
      "\u001b[0;31mKeyboardInterrupt\u001b[0m: "
     ]
    }
   ],
   "source": [
    "import detprocess\n",
    "\n",
    "import numpy as np\n",
    "np.set_printoptions(linewidth=1000)\n",
    "\n",
    "import qetpy as qp\n",
    "import pickle\n",
    "from matplotlib import pyplot as plt\n",
    "import matplotlib as mpl\n",
    "from pytesdaq.io import FilterH5IO\n",
    "mpl.rcParams['font.size'] = 16\n",
    "import glob\n",
    "from pytesdaq.io.hdf5 import H5Reader\n",
    "import time\n",
    "import h5py\n",
    "import scipy.stats as stats"
   ]
  },
  {
   "cell_type": "code",
   "execution_count": 2,
   "metadata": {},
   "outputs": [
    {
     "name": "stdout",
     "output_type": "stream",
     "text": [
      "INFO: Loading filter data from file nxmfilterfile.hdf5\n",
      "List of channels: ['Mv3025pcRegularRight', 'Mv3025pcRegularLeft+Mv3025pcRegularRight', 'Mv3025pcRegularLeft|Mv3025pcRegularRight', 'Mv3025pcRegularLeft', 'Mv3025pcBigFinsRight', 'Mv3025pcBigFinsLeft+Mv3025pcBigFinsRight', 'Mv3025pcBigFinsLeft|Mv3025pcBigFinsRight', 'Mv3025pcBigFinsLeft']\n",
      "\n",
      "Channel Mv3025pcRegularRight:\n",
      " * Tag \"default\":\n",
      "    psd: pandas.Series (25000,)\n",
      "    template: pandas.Series (25000,)\n",
      " * Tag \"single\":\n",
      "    template: pandas.Series (25000,)\n",
      "\n",
      "Channel Mv3025pcRegularLeft+Mv3025pcRegularRight:\n",
      " * Tag \"default\":\n",
      "    psd: pandas.Series (25000,)\n",
      "    template: pandas.Series (25000,)\n",
      "\n",
      "Channel Mv3025pcRegularLeft|Mv3025pcRegularRight:\n",
      " * Tag \"default\":\n",
      "    csd: 3D numpy.array  (2, 2, 25000)\n",
      " * Tag \"freqs_default\":\n",
      "    csd: pandas.Series (25000,)\n",
      " * Tag \"shared_2x2\":\n",
      "    template: 3D numpy.array  (2, 2, 25000)\n",
      " * Tag \"shared\":\n",
      "    template: 3D numpy.array  (2, 1, 25000)\n",
      " * Tag \"single_left\":\n",
      "    template: 3D numpy.array  (2, 1, 25000)\n",
      " * Tag \"single_right\":\n",
      "    template: 3D numpy.array  (2, 1, 25000)\n",
      " * Tag \"singles_2x2\":\n",
      "    template: 3D numpy.array  (2, 2, 25000)\n",
      "\n",
      "Channel Mv3025pcRegularLeft:\n",
      " * Tag \"default\":\n",
      "    psd: pandas.Series (25000,)\n",
      "    template: pandas.Series (25000,)\n",
      " * Tag \"single\":\n",
      "    template: pandas.Series (25000,)\n",
      "\n",
      "Channel Mv3025pcBigFinsRight:\n",
      " * Tag \"default\":\n",
      "    psd: pandas.Series (25000,)\n",
      "    template: pandas.Series (25000,)\n",
      " * Tag \"single\":\n",
      "    template: pandas.Series (25000,)\n",
      "\n",
      "Channel Mv3025pcBigFinsLeft+Mv3025pcBigFinsRight:\n",
      " * Tag \"default\":\n",
      "    psd: pandas.Series (25000,)\n",
      "    template: pandas.Series (25000,)\n",
      "\n",
      "Channel Mv3025pcBigFinsLeft|Mv3025pcBigFinsRight:\n",
      " * Tag \"default\":\n",
      "    csd: 3D numpy.array  (2, 2, 25000)\n",
      " * Tag \"freqs_default\":\n",
      "    csd: pandas.Series (25000,)\n",
      " * Tag \"shared_2x2\":\n",
      "    template: 3D numpy.array  (2, 2, 25000)\n",
      " * Tag \"shared\":\n",
      "    template: 3D numpy.array  (2, 1, 25000)\n",
      " * Tag \"single_left\":\n",
      "    template: 3D numpy.array  (2, 1, 25000)\n",
      " * Tag \"single_right\":\n",
      "    template: 3D numpy.array  (2, 1, 25000)\n",
      " * Tag \"singles_2x2\":\n",
      "    template: 3D numpy.array  (2, 2, 25000)\n",
      "\n",
      "Channel Mv3025pcBigFinsLeft:\n",
      " * Tag \"default\":\n",
      "    psd: pandas.Series (25000,)\n",
      "    template: pandas.Series (25000,)\n",
      " * Tag \"single\":\n",
      "    template: pandas.Series (25000,)\n"
     ]
    }
   ],
   "source": [
    "template = detprocess.Template(verbose=True)\n",
    "\n",
    "template.load_hdf5('nxmfilterfile.hdf5')\n",
    "\n",
    "template.describe()"
   ]
  },
  {
   "cell_type": "code",
   "execution_count": 3,
   "metadata": {},
   "outputs": [
    {
     "name": "stdout",
     "output_type": "stream",
     "text": [
      "(11, 2, 12500000)\n"
     ]
    }
   ],
   "source": [
    "cont_file_path = '/home/michael/salting/detprocess/examples/cont_I2_D20240719_T172554_F0001.hdf5'\n",
    "\n",
    "h5read = H5Reader()\n",
    "traces_full, metadata = h5read.read_many_events(\n",
    "    filepath = cont_file_path,\n",
    "    nevents = -1, # Read all the events in the file\n",
    "    output_format = 2, # Return 3D array: N_events x N_channels x N_samples\n",
    "    detector_chans =  ['Mv3025pcRegularLeft', 'Mv3025pcRegularRight'],\n",
    "    include_metadata = True,\n",
    "    adctoamp = True\n",
    ")\n",
    "print(traces_full.shape)"
   ]
  },
  {
   "cell_type": "code",
   "execution_count": 8,
   "metadata": {},
   "outputs": [
    {
     "name": "stdout",
     "output_type": "stream",
     "text": [
      "INFO: Loading filter data from file /home/michael/salting/detprocess/examples/nxmfilterfile.hdf5\n"
     ]
    }
   ],
   "source": [
    "template = detprocess.Template(verbose=True)\n",
    "\n",
    "template.load_hdf5('/home/michael/salting/detprocess/examples/nxmfilterfile.hdf5')\n",
    "templates_td, t_sec_template, _ = template.get_template('Mv3025pcRegularLeft|Mv3025pcRegularRight', return_metadata=True, tag='shared_2x2')\n"
   ]
  },
  {
   "cell_type": "code",
   "execution_count": 9,
   "metadata": {},
   "outputs": [
    {
     "name": "stdout",
     "output_type": "stream",
     "text": [
      "0 178769\n",
      "1 252925\n",
      "2 905887\n",
      "3 1259257\n",
      "4 1494447\n",
      "5 1636487\n",
      "6 2219967\n",
      "7 3187968\n",
      "8 3555580\n",
      "9 3593664\n",
      "10 4300067\n",
      "11 5985405\n",
      "12 6825335\n",
      "13 7780808\n",
      "14 7898914\n",
      "15 8303519\n",
      "16 10297478\n",
      "17 10736819\n",
      "18 11294559\n"
     ]
    }
   ],
   "source": [
    "\n",
    "\n",
    "csd, _, _ = template.get_csd('Mv3025pcRegularLeft|Mv3025pcRegularRight', fold=False, return_metadata=True, tag='default')\n",
    "freqs_csd, _, _ = template.get_csd('Mv3025pcRegularLeft|Mv3025pcRegularRight', fold=False, return_metadata=True, tag='freqs_default')\n",
    "\n",
    "oftrigger = detprocess.OptimumFilterTrigger('Mv3025pcRegularLeft|Mv3025pcRegularRight', 1.25e6, templates_td, csd, pretrigger_samples=12500)\n",
    "\n",
    "trace = traces_full[6]\n",
    "oftrigger.update_trace(trace)\n",
    "oftrigger.find_triggers(5, pileup_window_msec=10)\n",
    "\n",
    "for i, time_within_trace_samples in enumerate(oftrigger._trigger_data['Mv3025pcRegularLeft|Mv3025pcRegularRight']['trigger_index']):\n",
    "    print(i, time_within_trace_samples)\n"
   ]
  },
  {
   "cell_type": "code",
   "execution_count": 10,
   "metadata": {},
   "outputs": [
    {
     "data": {
      "text/plain": [
       "<detprocess.core.oftrigger.OptimumFilterTrigger at 0x7f9100639e70>"
      ]
     },
     "execution_count": 10,
     "metadata": {},
     "output_type": "execute_result"
    }
   ],
   "source": [
    "oftrigger"
   ]
  },
  {
   "cell_type": "code",
   "execution_count": 1,
   "metadata": {},
   "outputs": [],
   "source": [
    "tempkeys = ['shared_Mv3025pcBigFins','shared_Mv3025pcRegular','single_Mv3025pcBigFins','single_Mv3025pcRegular']\n",
    "noikeys = ['default']"
   ]
  },
  {
   "cell_type": "code",
   "execution_count": 2,
   "metadata": {},
   "outputs": [
    {
     "name": "stderr",
     "output_type": "stream",
     "text": [
      "<frozen importlib._bootstrap>:241: RuntimeWarning: numpy.ndarray size changed, may indicate binary incompatibility. Expected 80 from C header, got 96 from PyObject\n"
     ]
    },
    {
     "name": "stdout",
     "output_type": "stream",
     "text": [
      "INFO: Loading filter data from file /home/michael/salting/detprocess/examples/r46testfilterfile.hdf5\n"
     ]
    }
   ],
   "source": [
    "from detprocess.core import OptimumFilterTrigger, EventBuilder, Template, Noise, Salting\n",
    "\n",
    "salt = Salting(channels=['Mv3025pcRegular','Mv3025pcBigFins'],filterfile = '/home/michael/salting/detprocess/examples/r46testfilterfile.hdf5',templatekeys=tempkeys,noisekeys = noikeys,verbose=True)"
   ]
  },
  {
   "cell_type": "code",
   "execution_count": 3,
   "metadata": {},
   "outputs": [],
   "source": [
    "test = salt.get_filtered_template('Mv3025pcBigFins','shared')"
   ]
  },
  {
   "cell_type": "code",
   "execution_count": 4,
   "metadata": {},
   "outputs": [
    {
     "data": {
      "text/plain": [
       "array([ 6.21690809e-18,  7.70879103e-18,  5.28033617e-06, ...,\n",
       "       -2.72254214e-03, -2.70265084e-03, -2.68854478e-03])"
      ]
     },
     "execution_count": 4,
     "metadata": {},
     "output_type": "execute_result"
    }
   ],
   "source": [
    "test"
   ]
  },
  {
   "cell_type": "code",
   "execution_count": 5,
   "metadata": {},
   "outputs": [],
   "source": [
    "test2,testtime = salt.get_raw_template('Mv3025pcBigFins','default')"
   ]
  },
  {
   "cell_type": "code",
   "execution_count": 6,
   "metadata": {},
   "outputs": [
    {
     "data": {
      "text/plain": [
       "array([0.00000000e+00, 0.00000000e+00, 0.00000000e+00, ...,\n",
       "       6.33278653e-07, 6.32734482e-07, 6.32190779e-07])"
      ]
     },
     "execution_count": 6,
     "metadata": {},
     "output_type": "execute_result"
    }
   ],
   "source": [
    "test2"
   ]
  },
  {
   "cell_type": "code",
   "execution_count": null,
   "metadata": {},
   "outputs": [],
   "source": []
  },
  {
   "cell_type": "code",
   "execution_count": 4,
   "metadata": {},
   "outputs": [],
   "source": [
    "la = salt.filttemplatesdict['Mv3025pcBigFins']['shared']"
   ]
  },
  {
   "cell_type": "code",
   "execution_count": 6,
   "metadata": {},
   "outputs": [
    {
     "data": {
      "text/plain": [
       "array([ 6.21690809e-18,  7.70879103e-18,  5.28033617e-06, ...,\n",
       "       -2.72254214e-03, -2.70265084e-03, -2.68854478e-03])"
      ]
     },
     "execution_count": 6,
     "metadata": {},
     "output_type": "execute_result"
    }
   ],
   "source": [
    "la[0]"
   ]
  },
  {
   "cell_type": "code",
   "execution_count": 8,
   "metadata": {},
   "outputs": [
    {
     "data": {
      "text/plain": [
       "[<matplotlib.lines.Line2D at 0x7f90db47c9a0>]"
      ]
     },
     "execution_count": 8,
     "metadata": {},
     "output_type": "execute_result"
    },
    {
     "data": {
      "image/png": "[encoded data removed]",
      "text/plain": [
       "<Figure size 640x480 with 1 Axes>"
      ]
     },
     "metadata": {},
     "output_type": "display_data"
    }
   ],
   "source": [
    "plt.plot(testtime,test2)"
   ]
  },
  {
   "cell_type": "code",
   "execution_count": 9,
   "metadata": {},
   "outputs": [
    {
     "data": {
      "text/plain": [
       "[<matplotlib.lines.Line2D at 0x7f90d923aef0>]"
      ]
     },
     "execution_count": 9,
     "metadata": {},
     "output_type": "execute_result"
    },
    {
     "data": {
      "image/png": "[encoded data removed]",
      "text/plain": [
       "<Figure size 640x480 with 1 Axes>"
      ]
     },
     "metadata": {},
     "output_type": "display_data"
    }
   ],
   "source": [
    "plt.plot(testtime,test)"
   ]
  },
  {
   "cell_type": "code",
   "execution_count": null,
   "metadata": {},
   "outputs": [],
   "source": []
  }
 ],
 "metadata": {
  "kernelspec": {
   "display_name": "pythonstandard",
   "language": "python",
   "name": "python3"
  },
  "language_info": {
   "codemirror_mode": {
    "name": "ipython",
    "version": 3
   },
   "file_extension": ".py",
   "mimetype": "text/x-python",
   "name": "python",
   "nbconvert_exporter": "python",
   "pygments_lexer": "ipython3",
   "version": "3.10.13"
  }
 },
 "nbformat": 4,
 "nbformat_minor": 2
}
