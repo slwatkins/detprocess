{
 "cells": [
  {
   "cell_type": "markdown",
   "id": "c7c0f526",
   "metadata": {},
   "source": [
    "# Combine *Filter* files and add dPdI\n",
    " "
   ]
  },
  {
   "cell_type": "code",
   "execution_count": 2,
   "id": "656495f7",
   "metadata": {},
   "outputs": [],
   "source": [
    "import qetpy as qp\n",
    "from detprocess import FilterData"
   ]
  },
  {
   "cell_type": "markdown",
   "id": "4070e463",
   "metadata": {},
   "source": [
    "### Channels \n"
   ]
  },
  {
   "cell_type": "code",
   "execution_count": 3,
   "id": "e5b26380",
   "metadata": {},
   "outputs": [],
   "source": [
    "channels = ['Mv3025pcBigFins', 'Mv3025pcRegular']"
   ]
  },
  {
   "cell_type": "markdown",
   "id": "533d1b27",
   "metadata": {},
   "source": [
    "# Loading  multiple HDF5  files \n",
    "### (Combined in same FilterData object  or separate  objects)\n"
   ]
  },
  {
   "cell_type": "code",
   "execution_count": 4,
   "id": "32aa5bf0",
   "metadata": {},
   "outputs": [
    {
     "name": "stdout",
     "output_type": "stream",
     "text": [
      "INFO: Loading filter data from file /sdata1/runs/run46/filterdata/continuous_I2_D20240626_T224714/didv_analysis_D20240710_T181334.hdf5\n",
      "INFO: Loading filter data from file /home/serfass/workspace/mw_salt/r46testfilterfile.hdf5\n"
     ]
    }
   ],
   "source": [
    "# instantiate filter data\n",
    "filterdata = FilterData()\n",
    "\n",
    "# load multiple files\n",
    "filterdata.load_hdf5('/sdata1/runs/run46/filterdata/continuous_I2_D20240626_T224714/didv_analysis_D20240710_T181334.hdf5', overwrite=False)\n",
    "filterdata.load_hdf5('/home/serfass/workspace/mw_salt/r46testfilterfile.hdf5', overwrite=False)"
   ]
  },
  {
   "cell_type": "code",
   "execution_count": 5,
   "id": "1ea218b8",
   "metadata": {},
   "outputs": [
    {
     "name": "stdout",
     "output_type": "stream",
     "text": [
      "List of channels: ['Mv3025pcRegular', 'Mv3025pcBigFins', 'Mv3025pcRegular|Mv3025pcBigFins']\n",
      "\n",
      "Channel Mv3025pcRegular:\n",
      " * Tag \"default\":\n",
      "    didv_results_2poles_biasparams: pandas.Series (15,)\n",
      "    didv_results_2poles_biasparams_infinite_lgain: pandas.Series (14,)\n",
      "    didv_results_2poles_errors: pandas.Series (7,)\n",
      "    didv_results_2poles_fit: pandas.Series (8,)\n",
      "    didv_results_2poles_params: pandas.Series (7,)\n",
      "    didv_results_2poles_smallsignalparams: pandas.Series (10,)\n",
      "    didv_results_2poles_ssp_light: pandas.Series (12,)\n",
      "    didv_results_3poles_biasparams: pandas.Series (15,)\n",
      "    didv_results_3poles_biasparams_infinite_lgain_default: pandas.Series (14,)\n",
      "    didv_results_3poles_errors: pandas.Series (7,)\n",
      "    didv_results_3poles_fit: pandas.Series (8,)\n",
      "    didv_results_3poles_params: pandas.Series (7,)\n",
      "    didv_results_3poles_smallsignalparams: pandas.Series (10,)\n",
      "    didv_results_3poles_ssp_light: pandas.Series (12,)\n",
      "    dpdi_3poles: pandas.Series (125000,)\n",
      "    ivsweep_data: pandas.DataFrame  (35, 124)\n",
      "       Nb SC points: 5\n",
      "       Nb Normal points: 8\n",
      "    ivsweep_results_didv: pandas.Series (24,)\n",
      "    ivsweep_results_noise: pandas.Series (78,)\n",
      "    psd: pandas.Series (25000,)\n",
      "    template: pandas.Series (25000,)\n",
      " * Tag \"singles\":\n",
      "    template: pandas.Series (25000,)\n",
      "\n",
      "Channel Mv3025pcBigFins:\n",
      " * Tag \"default\":\n",
      "    didv_results_2poles_biasparams: pandas.Series (15,)\n",
      "    didv_results_2poles_biasparams_infinite_lgain: pandas.Series (14,)\n",
      "    didv_results_2poles_errors: pandas.Series (7,)\n",
      "    didv_results_2poles_fit: pandas.Series (8,)\n",
      "    didv_results_2poles_params: pandas.Series (7,)\n",
      "    didv_results_2poles_smallsignalparams: pandas.Series (10,)\n",
      "    didv_results_2poles_ssp_light: pandas.Series (12,)\n",
      "    didv_results_3poles_biasparams: pandas.Series (15,)\n",
      "    didv_results_3poles_biasparams_infinite_lgain_default: pandas.Series (14,)\n",
      "    didv_results_3poles_errors: pandas.Series (7,)\n",
      "    didv_results_3poles_fit: pandas.Series (8,)\n",
      "    didv_results_3poles_params: pandas.Series (7,)\n",
      "    didv_results_3poles_smallsignalparams: pandas.Series (10,)\n",
      "    didv_results_3poles_ssp_light: pandas.Series (12,)\n",
      "    dpdi_3poles: pandas.Series (125000,)\n",
      "    ivsweep_data: pandas.DataFrame  (35, 124)\n",
      "       Nb SC points: 6\n",
      "       Nb Normal points: 10\n",
      "    ivsweep_results_didv: pandas.Series (24,)\n",
      "    ivsweep_results_noise: pandas.Series (78,)\n",
      "    psd: pandas.Series (25000,)\n",
      "    template: pandas.Series (25000,)\n",
      " * Tag \"singles\":\n",
      "    template: pandas.Series (25000,)\n",
      "\n",
      "Channel Mv3025pcRegular|Mv3025pcBigFins:\n",
      " * Tag \"default\":\n",
      "    csd: 3D numpy.array  (2, 2, 25000)\n",
      " * Tag \"freqs_default\":\n",
      "    csd: pandas.Series (25000,)\n",
      " * Tag \"shared_2x2\":\n",
      "    template: 3D numpy.array  (2, 2, 25000)\n",
      " * Tag \"shared_Mv3025pcBigFins\":\n",
      "    template: 3D numpy.array  (2, 1, 25000)\n",
      " * Tag \"shared_Mv3025pcRegular\":\n",
      "    template: 3D numpy.array  (2, 1, 25000)\n",
      " * Tag \"single_Mv3025pcBigFins\":\n",
      "    template: 3D numpy.array  (2, 1, 25000)\n",
      " * Tag \"single_Mv3025pcRegular\":\n",
      "    template: 3D numpy.array  (2, 1, 25000)\n"
     ]
    }
   ],
   "source": [
    "filterdata.describe()"
   ]
  },
  {
   "cell_type": "markdown",
   "id": "327fae19",
   "metadata": {},
   "source": [
    "### Calculate dPdI"
   ]
  },
  {
   "cell_type": "code",
   "execution_count": 6,
   "id": "65820dea",
   "metadata": {},
   "outputs": [],
   "source": [
    "nb_samples = 25000\n",
    "fs = 1250000\n",
    "freqs = qp.utils.fftfreq(nb_samples, fs)\n",
    "\n",
    "\n",
    "poles = 3\n",
    "for chan in channels:\n",
    "    didv_results =  filterdata.get_didv_results(chan, poles=poles)\n",
    "    dpdi, dpdi_err = qp.get_dPdI_with_uncertainties(freqs, didv_results)\n",
    "    filterdata.set_dpdi(chan, dpdi, freqs, poles, sample_rate=fs)\n"
   ]
  },
  {
   "cell_type": "code",
   "execution_count": 7,
   "id": "248d8843",
   "metadata": {},
   "outputs": [
    {
     "name": "stdout",
     "output_type": "stream",
     "text": [
      "INFO: Saving filter/TES data to file /home/serfass/workspace/mw_salt/run46_filter.hdf5!\n"
     ]
    }
   ],
   "source": [
    "filterdata.save_hdf5('/home/serfass/workspace/mw_salt/run46_filter.hdf5')"
   ]
  },
  {
   "cell_type": "code",
   "execution_count": null,
   "id": "c43a3ac8",
   "metadata": {},
   "outputs": [],
   "source": []
  }
 ],
 "metadata": {
  "kernelspec": {
   "display_name": "Python 3",
   "language": "python",
   "name": "python3"
  },
  "language_info": {
   "codemirror_mode": {
    "name": "ipython",
    "version": 3
   },
   "file_extension": ".py",
   "mimetype": "text/x-python",
   "name": "python",
   "nbconvert_exporter": "python",
   "pygments_lexer": "ipython3",
   "version": "3.6.8"
  }
 },
 "nbformat": 4,
 "nbformat_minor": 5
}
