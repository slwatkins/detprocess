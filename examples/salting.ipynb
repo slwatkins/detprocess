{
 "cells": [
  {
   "cell_type": "code",
   "execution_count": 1,
   "metadata": {},
   "outputs": [
    {
     "name": "stderr",
     "output_type": "stream",
     "text": [
      "<frozen importlib._bootstrap>:241: RuntimeWarning: numpy.ndarray size changed, may indicate binary incompatibility. Expected 80 from C header, got 96 from PyObject\n"
     ]
    }
   ],
   "source": [
    "import argparse\n",
    "import numpy as np\n",
    "import os\n",
    "from math import log10, floor\n",
    "from datetime import datetime\n",
    "from glob import glob\n",
    "import stat\n",
    "import pickle\n",
    "import math\n",
    "import array\n",
    "import scipy\n",
    "from multiprocessing import Pool\n",
    "from itertools import repeat\n",
    "from pathlib import Path\n",
    "from scipy.signal import correlate\n",
    "from scipy.fft import ifft, fft, next_fast_len\n",
    "import qetpy as qp\n",
    "import matplotlib\n",
    "import matplotlib.pyplot as plt\n",
    "import pytesdaq.io.hdf5 as h5io\n",
    "import pytesdaq\n",
    "from detprocess.core import OptimumFilterTrigger, EventBuilder, Template, Noise, Salting\n",
    "from detprocess import FilterData\n",
    "from pprint import pprint\n",
    "from scipy import stats, signal, interpolate, special, integrate\n",
    "# ignore warnings\n",
    "import warnings\n",
    "warnings.filterwarnings('ignore')\n",
    "import pandas as pd\n",
    "import types\n",
    "import mendeleev\n",
    "import pickle as pkl\n",
    "import sys\n",
    "from darklim import constants"
   ]
  },
  {
   "cell_type": "code",
   "execution_count": 2,
   "metadata": {},
   "outputs": [],
   "source": [
    "salt = Salting(verbose=True)"
   ]
  },
  {
   "cell_type": "code",
   "execution_count": 3,
   "metadata": {},
   "outputs": [
    {
     "name": "stdout",
     "output_type": "stream",
     "text": [
      "INFO: Found total of 54 raw data file(s) from 6 different series number!\n",
      "INFO: Found total of 54 files from 6 different series number!\n",
      "INFO Node #1: Acquiring randoms for series I2_D20240712_T205736\n",
      "INFO Node #1: Acquiring randoms for series I2_D20240712_T213156\n",
      "INFO Node #1: Acquiring randoms for series I2_D20240712_T220616\n",
      "INFO Node #1: Acquiring randoms for series I2_D20240712_T224034\n",
      "INFO Node #1: Acquiring randoms for series I2_D20240712_T231454\n",
      "INFO Node #1: Acquiring randoms for series I2_D20240712_T234916\n",
      "INFO: Randoms acquisition done!\n"
     ]
    }
   ],
   "source": [
    "# continuous data directory, use argument \"series\" for list of series within continuous data directory\n",
    "continuous_data = '/data/ucb/pylelab/run47/raw/continuous_I2_D20240712_T205330'\n",
    "series = None\n",
    "# 1.  Generate randoms\n",
    "#  use either \"random_rate\" or nevents\n",
    "#  you can specify minimum separation between randoms (default=100msec) and from/to the edge of \n",
    "# the continuous data\n",
    "salt.generate_randoms(continuous_data, series=series, nevents=1000, min_separation_msec=100, ncores=1)"
   ]
  },
  {
   "cell_type": "code",
   "execution_count": 4,
   "metadata": {},
   "outputs": [
    {
     "data": {
      "text/html": [
       "<table>\n",
       "<thead>\n",
       "<tr><th>#                              </th><th>series_number  </th><th>event_number  </th><th>dump_number  </th><th>event_time  </th><th>series_start_time  </th><th>group_start_time  </th><th>fridge_run_start_time  </th><th>fridge_run_number  </th><th>trigger_index  </th><th>trigger_time  </th><th>trigger_type  </th><th>data_type  </th><th>group_name                     </th><th>processing_id  </th><th>trigger_prod_id  </th><th>trigger_prod_group_name  </th></tr>\n",
       "</thead>\n",
       "<tbody>\n",
       "<tr><td><i style='opacity: 0.6'>0</i>  </td><td>220240712205736</td><td>100001        </td><td>1            </td><td>1720843074  </td><td>19                 </td><td>264               </td><td>28674                  </td><td>47                 </td><td>4547314        </td><td>7.2757024     </td><td>3             </td><td>Test       </td><td>continuous_I2_D20240712_T205330</td><td>nan            </td><td>1                </td><td>nan                      </td></tr>\n",
       "<tr><td><i style='opacity: 0.6'>1</i>  </td><td>220240712205736</td><td>100002        </td><td>1            </td><td>1720843084  </td><td>29                 </td><td>274               </td><td>28684                  </td><td>47                 </td><td>4148946        </td><td>6.6383136     </td><td>3             </td><td>Test       </td><td>continuous_I2_D20240712_T205330</td><td>nan            </td><td>2                </td><td>nan                      </td></tr>\n",
       "<tr><td><i style='opacity: 0.6'>2</i>  </td><td>220240712205736</td><td>100003        </td><td>1            </td><td>1720843094  </td><td>39                 </td><td>284               </td><td>28694                  </td><td>47                 </td><td>4502617        </td><td>7.2041872     </td><td>3             </td><td>Test       </td><td>continuous_I2_D20240712_T205330</td><td>nan            </td><td>3                </td><td>nan                      </td></tr>\n",
       "<tr><td><i style='opacity: 0.6'>3</i>  </td><td>220240712205736</td><td>100004        </td><td>1            </td><td>1720843099  </td><td>44                 </td><td>289               </td><td>28699                  </td><td>47                 </td><td>1415418        </td><td>2.2646688     </td><td>3             </td><td>Test       </td><td>continuous_I2_D20240712_T205330</td><td>nan            </td><td>4                </td><td>nan                      </td></tr>\n",
       "<tr><td><i style='opacity: 0.6'>4</i>  </td><td>220240712205736</td><td>100006        </td><td>1            </td><td>1720843118  </td><td>63                 </td><td>308               </td><td>28718                  </td><td>47                 </td><td>471838         </td><td>0.7549408     </td><td>3             </td><td>Test       </td><td>continuous_I2_D20240712_T205330</td><td>nan            </td><td>5                </td><td>nan                      </td></tr>\n",
       "<tr><td>...                            </td><td>...            </td><td>...           </td><td>...          </td><td>...         </td><td>...                </td><td>...               </td><td>...                    </td><td>...                </td><td>...            </td><td>...           </td><td>...           </td><td>...        </td><td>...                            </td><td>...            </td><td>...              </td><td>...                      </td></tr>\n",
       "<tr><td><i style='opacity: 0.6'>973</i></td><td>220240712234916</td><td>900008        </td><td>9            </td><td>1720855122  </td><td>1767               </td><td>12312             </td><td>40722                  </td><td>47                 </td><td>2613962        </td><td>4.1823392     </td><td>3             </td><td>Test       </td><td>continuous_I2_D20240712_T205330</td><td>nan            </td><td>159              </td><td>nan                      </td></tr>\n",
       "<tr><td><i style='opacity: 0.6'>974</i></td><td>220240712234916</td><td>900009        </td><td>9            </td><td>1720855131  </td><td>1776               </td><td>12321             </td><td>40731                  </td><td>47                 </td><td>1886633        </td><td>3.0186128     </td><td>3             </td><td>Test       </td><td>continuous_I2_D20240712_T205330</td><td>nan            </td><td>160              </td><td>nan                      </td></tr>\n",
       "<tr><td><i style='opacity: 0.6'>975</i></td><td>220240712234916</td><td>900010        </td><td>9            </td><td>1720855142  </td><td>1787               </td><td>12332             </td><td>40742                  </td><td>47                 </td><td>2335294        </td><td>3.7364704     </td><td>3             </td><td>Test       </td><td>continuous_I2_D20240712_T205330</td><td>nan            </td><td>161              </td><td>nan                      </td></tr>\n",
       "<tr><td><i style='opacity: 0.6'>976</i></td><td>220240712234916</td><td>900011        </td><td>9            </td><td>1720855153  </td><td>1798               </td><td>12343             </td><td>40753                  </td><td>47                 </td><td>3201968        </td><td>5.1231488     </td><td>3             </td><td>Test       </td><td>continuous_I2_D20240712_T205330</td><td>nan            </td><td>162              </td><td>nan                      </td></tr>\n",
       "<tr><td><i style='opacity: 0.6'>977</i></td><td>220240712234916</td><td>900012        </td><td>9            </td><td>1720855165  </td><td>1810               </td><td>12355             </td><td>40765                  </td><td>47                 </td><td>4416469        </td><td>7.0663504     </td><td>3             </td><td>Test       </td><td>continuous_I2_D20240712_T205330</td><td>nan            </td><td>163              </td><td>nan                      </td></tr>\n",
       "</tbody>\n",
       "</table>"
      ],
      "text/plain": [
       "#    series_number    event_number    dump_number    event_time    series_start_time    group_start_time    fridge_run_start_time    fridge_run_number    trigger_index    trigger_time    trigger_type    data_type    group_name                       processing_id    trigger_prod_id    trigger_prod_group_name\n",
       "0    220240712205736  100001          1              1720843074    19                   264                 28674                    47                   4547314          7.2757024       3               Test         continuous_I2_D20240712_T205330  nan              1                  nan\n",
       "1    220240712205736  100002          1              1720843084    29                   274                 28684                    47                   4148946          6.6383136       3               Test         continuous_I2_D20240712_T205330  nan              2                  nan\n",
       "2    220240712205736  100003          1              1720843094    39                   284                 28694                    47                   4502617          7.2041872       3               Test         continuous_I2_D20240712_T205330  nan              3                  nan\n",
       "3    220240712205736  100004          1              1720843099    44                   289                 28699                    47                   1415418          2.2646688       3               Test         continuous_I2_D20240712_T205330  nan              4                  nan\n",
       "4    220240712205736  100006          1              1720843118    63                   308                 28718                    47                   471838           0.7549408       3               Test         continuous_I2_D20240712_T205330  nan              5                  nan\n",
       "...  ...              ...             ...            ...           ...                  ...                 ...                      ...                  ...              ...             ...             ...          ...                              ...              ...                ...\n",
       "973  220240712234916  900008          9              1720855122    1767                 12312               40722                    47                   2613962          4.1823392       3               Test         continuous_I2_D20240712_T205330  nan              159                nan\n",
       "974  220240712234916  900009          9              1720855131    1776                 12321               40731                    47                   1886633          3.0186128       3               Test         continuous_I2_D20240712_T205330  nan              160                nan\n",
       "975  220240712234916  900010          9              1720855142    1787                 12332               40742                    47                   2335294          3.7364704       3               Test         continuous_I2_D20240712_T205330  nan              161                nan\n",
       "976  220240712234916  900011          9              1720855153    1798                 12343               40753                    47                   3201968          5.1231488       3               Test         continuous_I2_D20240712_T205330  nan              162                nan\n",
       "977  220240712234916  900012          9              1720855165    1810                 12355               40765                    47                   4416469          7.0663504       3               Test         continuous_I2_D20240712_T205330  nan              163                nan"
      ]
     },
     "execution_count": 4,
     "metadata": {},
     "output_type": "execute_result"
    }
   ],
   "source": [
    "salt._dataframe"
   ]
  },
  {
   "cell_type": "code",
   "execution_count": 5,
   "metadata": {},
   "outputs": [],
   "source": [
    "#channel_name = 'Mv3025pcRegular'\n",
    "#ivsweep_file = '/data/ucb/pylelab/run46/filterdata/iv_didv_I2_D20240626_T202802/ivsweep_analysis_D20240918_T155128.hdf5'\n",
    "\n",
    "#salt.set_iv_didv_results_from_file(\"/data/ucb/pylelab/run46/filterdata/iv_didv_I2_D20240626_T171500/ivsweep_analysis_D20240702_T123724.hdf5\")\n",
    "\n",
    "#salt.set_iv_didv_results_from_dict(channel=\"Mv3025pcBigFins\",didv_results=\"/data/ucb/pylelab/run46/processed/didvs/didvresult_Mv3025pcBigFins_0624\")\n",
    "#filterdataIO = FilterData()\n",
    "#filterdataIO.load_hdf5(\"/data/ucb/pylelab/run46/filterdata/iv_didv_I2_D20240626_T171500/ivsweep_analysis_D20240702_T123724.hdf5\")\n",
    "#filterdataIO.describe()"
   ]
  },
  {
   "cell_type": "code",
   "execution_count": 6,
   "metadata": {},
   "outputs": [
    {
     "name": "stdout",
     "output_type": "stream",
     "text": [
      "INFO: Loading filter data from file /data/ucb/pylelab/run46/filterdata/continuous_I2_D20240622_T142759/didv_analysis_D20240919_T093247.hdf5\n"
     ]
    }
   ],
   "source": [
    "salt.set_iv_didv_results_from_file(\"/data/ucb/pylelab/run46/filterdata/continuous_I2_D20240622_T142759/didv_analysis_D20240919_T093247.hdf5\")"
   ]
  },
  {
   "cell_type": "code",
   "execution_count": 7,
   "metadata": {},
   "outputs": [],
   "source": [
    "foo = salt._ivdidv_data"
   ]
  },
  {
   "cell_type": "code",
   "execution_count": 8,
   "metadata": {},
   "outputs": [
    {
     "data": {
      "text/plain": [
       "{'Mv3025pcRegular': {'smallsignalparams': {'rsh': 0.004999999888241291,\n",
       "   'rp': 0.002620722961208931,\n",
       "   'r0': 0.09302457160217095,\n",
       "   'beta': 1.1699497009463706,\n",
       "   'l': 28.41537782620757,\n",
       "   'L': 2.463427344731654e-07,\n",
       "   'tau0': 0.0007124910605162721,\n",
       "   'gratio': nan,\n",
       "   'tau3': nan,\n",
       "   'dt': 2.2050123541979865e-06},\n",
       "  'biasparams': {'rp': 0.002620722961208931,\n",
       "   'rp_err': 5.241445922417862e-05,\n",
       "   'rn': 0.8865034029293155,\n",
       "   'rn_err': 0.017882559330361102,\n",
       "   'rshunt': 0.004999999888241291,\n",
       "   'rshunt_err': 9.999999776482583e-05,\n",
       "   'rsh': 0.004999999888241291,\n",
       "   'rsh_err': 9.999999776482583e-05,\n",
       "   'i0_off': -6.602635320797366e-08,\n",
       "   'i0_off_err': 1.0817279007210398e-11,\n",
       "   'ibias_off': -6.774514183834787e-10,\n",
       "   'ibias_off_err': 1.8188998233804914e-11,\n",
       "   'lgc_invert_offset': True,\n",
       "   'close_loop_norm': 625000.0,\n",
       "   'output_variable_offset': -0.12087912112474442,\n",
       "   'output_variable_gain': 50.0,\n",
       "   'group_name_sweep': 'iv_didv_I2_D20240626_T202802',\n",
       "   'i0_variable_offset': -9.670329689979553e-06,\n",
       "   'sc_didv_fit_L': 5.295518636880649e-07,\n",
       "   'sc_didv_fit_rp': 0.002634684127221532,\n",
       "   'sc_didv_fit_dt': 1.3117065008168692e-06,\n",
       "   'normal_didv_fit_L': 6.747521463797285e-07,\n",
       "   'normal_didv_fit_rn': 0.8754639140461822,\n",
       "   'normal_didv_fit_dt': 6.888104176782892e-07,\n",
       "   'tes_bias': 8.012827838827832e-06,\n",
       "   'ibias': 8.013505290246215e-06,\n",
       "   'ibias_err': 1.8188998233804914e-11,\n",
       "   'i0': 3.981062977058702e-07,\n",
       "   'i0_err': 3.0983460610320747e-10,\n",
       "   'r0': 0.09302457160217095,\n",
       "   'r0_err': 0.0019152262944031793,\n",
       "   'p0': 1.4743336376820232e-14,\n",
       "   'p0_err': 3.0347050596877413e-16,\n",
       "   'temperature_mc': nan,\n",
       "   'temperature_cp': nan,\n",
       "   'temperature_still': nan}}}"
      ]
     },
     "execution_count": 8,
     "metadata": {},
     "output_type": "execute_result"
    }
   ],
   "source": [
    "foo"
   ]
  },
  {
   "cell_type": "code",
   "execution_count": 9,
   "metadata": {},
   "outputs": [],
   "source": [
    "blah = salt.get_ivsweep_results('Mv3025pcRegular')"
   ]
  },
  {
   "cell_type": "code",
   "execution_count": 10,
   "metadata": {},
   "outputs": [
    {
     "data": {
      "text/plain": [
       "{'rp': 0.002620722961208931,\n",
       " 'rp_err': 5.241445922417862e-05,\n",
       " 'rn': 0.8865034029293155,\n",
       " 'rn_err': 0.017882559330361102,\n",
       " 'rshunt': 0.004999999888241291,\n",
       " 'rshunt_err': 9.999999776482583e-05,\n",
       " 'rsh': 0.004999999888241291,\n",
       " 'rsh_err': 9.999999776482583e-05,\n",
       " 'i0_off': -6.602635320797366e-08,\n",
       " 'i0_off_err': 1.0817279007210398e-11,\n",
       " 'ibias_off': -6.774514183834787e-10,\n",
       " 'ibias_off_err': 1.8188998233804914e-11,\n",
       " 'lgc_invert_offset': True,\n",
       " 'close_loop_norm': 625000.0,\n",
       " 'output_variable_offset': -0.12087912112474442,\n",
       " 'output_variable_gain': 50.0,\n",
       " 'group_name_sweep': 'iv_didv_I2_D20240626_T202802',\n",
       " 'i0_variable_offset': -9.670329689979553e-06,\n",
       " 'sc_didv_fit_L': 5.295518636880649e-07,\n",
       " 'sc_didv_fit_rp': 0.002634684127221532,\n",
       " 'sc_didv_fit_dt': 1.3117065008168692e-06,\n",
       " 'normal_didv_fit_L': 6.747521463797285e-07,\n",
       " 'normal_didv_fit_rn': 0.8754639140461822,\n",
       " 'normal_didv_fit_dt': 6.888104176782892e-07,\n",
       " 'tes_bias': 8.012827838827832e-06,\n",
       " 'ibias': 8.013505290246215e-06,\n",
       " 'ibias_err': 1.8188998233804914e-11,\n",
       " 'i0': 3.981062977058702e-07,\n",
       " 'i0_err': 3.0983460610320747e-10,\n",
       " 'r0': 0.09302457160217095,\n",
       " 'r0_err': 0.0019152262944031793,\n",
       " 'p0': 1.4743336376820232e-14,\n",
       " 'p0_err': 3.0347050596877413e-16,\n",
       " 'temperature_mc': nan,\n",
       " 'temperature_cp': nan,\n",
       " 'temperature_still': nan}"
      ]
     },
     "execution_count": 10,
     "metadata": {},
     "output_type": "execute_result"
    }
   ],
   "source": [
    "blah"
   ]
  },
  {
   "cell_type": "code",
   "execution_count": 11,
   "metadata": {},
   "outputs": [],
   "source": [
    "didv = salt.get_didv_results(\"Mv3025pcRegular\",poles=2)"
   ]
  },
  {
   "cell_type": "code",
   "execution_count": 12,
   "metadata": {},
   "outputs": [
    {
     "data": {
      "text/plain": [
       "{'lgcfix': None,\n",
       " 'params_array': array([ 2.09479364e-01, -3.05639337e-01,  0.00000000e+00, -2.59887376e-05,\n",
       "         1.17597614e-06,  0.00000000e+00,  2.20501235e-06]),\n",
       " 'cov': array([[ 5.23016999e-06, -5.19092603e-06,  0.00000000e+00,\n",
       "          4.56184037e-10, -8.77461462e-12,  0.00000000e+00,\n",
       "          5.80026398e-12],\n",
       "        [-5.19092602e-06,  5.19926538e-06,  0.00000000e+00,\n",
       "         -4.48754857e-10,  8.43446106e-12,  0.00000000e+00,\n",
       "         -5.67543922e-12],\n",
       "        [ 0.00000000e+00,  0.00000000e+00,  0.00000000e+00,\n",
       "          0.00000000e+00,  0.00000000e+00,  0.00000000e+00,\n",
       "          0.00000000e+00],\n",
       "        [ 4.56184037e-10, -4.48754857e-10,  0.00000000e+00,\n",
       "          8.37005822e-14, -1.34813203e-15,  0.00000000e+00,\n",
       "          1.37089972e-15],\n",
       "        [-8.77461463e-12,  8.43446108e-12,  0.00000000e+00,\n",
       "         -1.34813203e-15,  2.35023372e-15,  0.00000000e+00,\n",
       "         -8.89720123e-16],\n",
       "        [ 0.00000000e+00,  0.00000000e+00,  0.00000000e+00,\n",
       "          0.00000000e+00,  0.00000000e+00,  0.00000000e+00,\n",
       "          0.00000000e+00],\n",
       "        [ 5.80026398e-12, -5.67543923e-12,  0.00000000e+00,\n",
       "          1.37089972e-15, -8.89720123e-16,  0.00000000e+00,\n",
       "          9.31351472e-16]]),\n",
       " 'falltimes': array([1.26113429e-06, 5.27921410e-05, 0.00000000e+00]),\n",
       " 'cost': 0.1823363941890396,\n",
       " 'offset': -2.8993063000994635e-07,\n",
       " 'offset_err': 3.0706932480606063e-10,\n",
       " 'didv0': -10.399337351709821,\n",
       " 'dpdi0': -3.693466510412691e-08,\n",
       " 'dpdi0_err': 4.665204333953454e-10,\n",
       " 'metadata': {'channel': 'Mv3025pcRegular',\n",
       "  'series_name': 'I2_D20240622_T142820',\n",
       "  'group_name': 'continuous_I2_D20240622_T142759',\n",
       "  'fs': 1250000.0,\n",
       "  'output_variable_gain': 50.0,\n",
       "  'output_variable_offset': -0.12087912112474442,\n",
       "  'close_loop_norm': 625000.0,\n",
       "  'rshunt': 0.004999999888241291,\n",
       "  'rp': 0.002620722961208931,\n",
       "  'tes_bias': 7.850029304029334e-06,\n",
       "  'sgfreq': 50.0,\n",
       "  'sgamp': 3.3333333333333335e-07,\n",
       "  'sample_rate': 1250000.0,\n",
       "  'nb_samples': 25000,\n",
       "  'poles': 3,\n",
       "  'type': 'series'},\n",
       " 'biasparams': {'rp': 0.002620722961208931,\n",
       "  'rp_err': 5.241445922417862e-05,\n",
       "  'rn': 0.8865034029293155,\n",
       "  'rn_err': 0.017882559330361102,\n",
       "  'rshunt': 0.004999999888241291,\n",
       "  'rshunt_err': 9.999999776482583e-05,\n",
       "  'rsh': 0.004999999888241291,\n",
       "  'rsh_err': 9.999999776482583e-05,\n",
       "  'i0_off': -6.602635320797366e-08,\n",
       "  'i0_off_err': 1.0817279007210398e-11,\n",
       "  'ibias_off': -6.774514183834787e-10,\n",
       "  'ibias_off_err': 1.8188998233804914e-11,\n",
       "  'lgc_invert_offset': True,\n",
       "  'close_loop_norm': 625000.0,\n",
       "  'output_variable_offset': -0.12087912112474442,\n",
       "  'output_variable_gain': 50.0,\n",
       "  'group_name_sweep': 'iv_didv_I2_D20240626_T202802',\n",
       "  'i0_variable_offset': -9.670329689979553e-06,\n",
       "  'sc_didv_fit_L': 5.295518636880649e-07,\n",
       "  'sc_didv_fit_rp': 0.002634684127221532,\n",
       "  'sc_didv_fit_dt': 1.3117065008168692e-06,\n",
       "  'normal_didv_fit_L': 6.747521463797285e-07,\n",
       "  'normal_didv_fit_rn': 0.8754639140461822,\n",
       "  'normal_didv_fit_dt': 6.888104176782892e-07,\n",
       "  'tes_bias': 8.012827838827832e-06,\n",
       "  'ibias': 8.013505290246215e-06,\n",
       "  'ibias_err': 1.8188998233804914e-11,\n",
       "  'i0': 3.981062977058702e-07,\n",
       "  'i0_err': 3.0983460610320747e-10,\n",
       "  'r0': 0.09302457160217095,\n",
       "  'r0_err': 0.0019152262944031793,\n",
       "  'p0': 1.4743336376820232e-14,\n",
       "  'p0_err': 3.0347050596877413e-16,\n",
       "  'temperature_mc': nan,\n",
       "  'temperature_cp': nan,\n",
       "  'temperature_still': nan},\n",
       " 'errors': {'A': 0.0022869564910349455,\n",
       "  'B': 0.0022801897688746035,\n",
       "  'C': 0.0,\n",
       "  'tau1': 2.8931052904296506e-07,\n",
       "  'tau2': 4.847920916039247e-08,\n",
       "  'tau3': 0.0,\n",
       "  'dt': 3.051805157405459e-08},\n",
       " 'params': {'A': 0.2094793641782453,\n",
       "  'B': -0.30563933727841436,\n",
       "  'C': 0.0,\n",
       "  'tau1': -2.5988737599493174e-05,\n",
       "  'tau2': 1.1759761418005507e-06,\n",
       "  'tau3': 0.0,\n",
       "  'dt': 2.2050123541979865e-06},\n",
       " 'smallsignalparams': {'rsh': 0.004999999888241291,\n",
       "  'rp': 0.002620722961208931,\n",
       "  'r0': 0.09302457160217095,\n",
       "  'beta': 1.1699497009463706,\n",
       "  'l': 28.41537782620757,\n",
       "  'L': 2.463427344731654e-07,\n",
       "  'tau0': 0.0007124910605162721,\n",
       "  'gratio': nan,\n",
       "  'tau3': nan,\n",
       "  'dt': 2.2050123541979865e-06},\n",
       " 'ssp_light': {'cov': array([[ 2.60031929e-03+0.j, -2.19739969e-01+0.j,  4.63582345e-11+0.j,\n",
       "          -5.84520673e-06+0.j,  0.00000000e+00+0.j,  2.72146145e-04+0.j],\n",
       "         [-2.19739969e-01+0.j,  2.59726611e+01+0.j,  3.36941372e-10+0.j,\n",
       "           6.73314848e-04+0.j,  0.00000000e+00+0.j, -3.21669270e-02+0.j],\n",
       "         [ 4.63582344e-11+0.j,  3.36941367e-10+0.j,  1.06041805e-16+0.j,\n",
       "           1.79167931e-15+0.j,  0.00000000e+00+0.j, -4.17299008e-13+0.j],\n",
       "         [-5.84520673e-06+0.j,  6.73314849e-04+0.j,  1.79167943e-15+0.j,\n",
       "           1.75178038e-08+0.j,  0.00000000e+00+0.j, -8.33894899e-07+0.j],\n",
       "         [ 0.00000000e+00+0.j,  0.00000000e+00+0.j,  0.00000000e+00+0.j,\n",
       "           0.00000000e+00+0.j,  0.00000000e+00+0.j,  0.00000000e+00+0.j],\n",
       "         [ 2.72146144e-04+0.j, -3.21669270e-02+0.j, -4.17299014e-13+0.j,\n",
       "          -8.33894899e-07+0.j,  0.00000000e+00+0.j,  3.98384743e-05+0.j]]),\n",
       "  'beta': 1.1699497009463706,\n",
       "  'l': 28.41537782620757,\n",
       "  'L': 2.463427344731654e-07,\n",
       "  'tau0': 0.0007124910605162721,\n",
       "  'gratio': -0.0,\n",
       "  'inverse_loopgain': 0.03519221198170019,\n",
       "  'sigma_beta': 0.0509933259446404,\n",
       "  'sigma_l': 5.096338006236752,\n",
       "  'sigma_L': 1.029766015100713e-08,\n",
       "  'sigma_tau0': 0.00013235484061564851,\n",
       "  'sigma_gratio': 0.0,\n",
       "  'sigma_inverse_loopgain': 0.006311772677101139,\n",
       "  'vals': {'beta': 1.1699497009463706,\n",
       "   'l': 28.41537782620757,\n",
       "   'L': 2.463427344731654e-07,\n",
       "   'tau0': 0.0007124910605162721,\n",
       "   'gratio': -0.0,\n",
       "   'inverse_loopgain': 0.03519221198170019},\n",
       "  'sigmas': {'sigma_beta': 0.0509933259446404,\n",
       "   'sigma_l': 5.096338006236752,\n",
       "   'sigma_L': 1.029766015100713e-08,\n",
       "   'sigma_tau0': 0.00013235484061564851,\n",
       "   'sigma_gratio': 0.0,\n",
       "   'sigma_inverse_loopgain': 0.006311772677101139}}}"
      ]
     },
     "execution_count": 12,
     "metadata": {},
     "output_type": "execute_result"
    }
   ],
   "source": [
    "didv"
   ]
  },
  {
   "cell_type": "code",
   "execution_count": null,
   "metadata": {},
   "outputs": [],
   "source": [
    "ivdidv_df = filterdataIO.get_ivsweep_data(\"Mv3025pcRegular\")"
   ]
  },
  {
   "cell_type": "code",
   "execution_count": 7,
   "metadata": {},
   "outputs": [],
   "source": [
    "ivresults = filterdataIO.get_ivsweep_results(\"Mv3025pcRegular\")"
   ]
  },
  {
   "cell_type": "code",
   "execution_count": null,
   "metadata": {},
   "outputs": [],
   "source": [
    "ivdidv_df"
   ]
  },
  {
   "cell_type": "code",
   "execution_count": null,
   "metadata": {},
   "outputs": [],
   "source": [
    "didvdf = filterdataIO.get_didv_dataframe(\"Mv3025pcBigFins\")"
   ]
  },
  {
   "cell_type": "code",
   "execution_count": null,
   "metadata": {},
   "outputs": [],
   "source": []
  }
 ],
 "metadata": {
  "kernelspec": {
   "display_name": "pythonstandard",
   "language": "python",
   "name": "python3"
  },
  "language_info": {
   "codemirror_mode": {
    "name": "ipython",
    "version": 3
   },
   "file_extension": ".py",
   "mimetype": "text/x-python",
   "name": "python",
   "nbconvert_exporter": "python",
   "pygments_lexer": "ipython3",
   "version": "3.10.13"
  }
 },
 "nbformat": 4,
 "nbformat_minor": 2
}
