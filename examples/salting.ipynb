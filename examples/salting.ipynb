{
 "cells": [
  {
   "cell_type": "code",
   "execution_count": 1,
   "metadata": {},
   "outputs": [
    {
     "name": "stderr",
     "output_type": "stream",
     "text": [
      "<frozen importlib._bootstrap>:241: RuntimeWarning: numpy.ndarray size changed, may indicate binary incompatibility. Expected 80 from C header, got 96 from PyObject\n"
     ]
    }
   ],
   "source": [
    "import argparse\n",
    "import numpy as np\n",
    "import os\n",
    "from math import log10, floor\n",
    "from datetime import datetime\n",
    "from glob import glob\n",
    "import stat\n",
    "import pickle\n",
    "import math\n",
    "import array\n",
    "import scipy\n",
    "from multiprocessing import Pool\n",
    "from itertools import repeat\n",
    "from pathlib import Path\n",
    "from scipy.signal import correlate\n",
    "from scipy.fft import ifft, fft, next_fast_len\n",
    "import qetpy as qp\n",
    "import matplotlib\n",
    "import matplotlib.pyplot as plt\n",
    "import pytesdaq.io.hdf5 as h5io\n",
    "import pytesdaq\n",
    "from detprocess.core import OptimumFilterTrigger, EventBuilder, Template, Noise, Salting\n",
    "from detprocess import FilterData\n",
    "from pprint import pprint\n",
    "from scipy import stats, signal, interpolate, special, integrate\n",
    "# ignore warnings\n",
    "import warnings\n",
    "warnings.filterwarnings('ignore')\n",
    "import pandas as pd\n",
    "import types\n",
    "import mendeleev\n",
    "import pickle as pkl\n",
    "import sys\n",
    "from darklim import constants"
   ]
  },
  {
   "cell_type": "code",
   "execution_count": 2,
   "metadata": {},
   "outputs": [],
   "source": [
    "salt = Salting(verbose=True)"
   ]
  },
  {
   "cell_type": "code",
   "execution_count": 3,
   "metadata": {},
   "outputs": [
    {
     "name": "stdout",
     "output_type": "stream",
     "text": [
      "INFO: Found total of 3 raw data file(s) from 1 different series number!\n",
      "INFO: Found total of 3 files from 1 different series number!\n",
      "INFO Node #1: Acquiring randoms for series I2_D20240620_T165258\n",
      "INFO: Randoms acquisition done!\n"
     ]
    }
   ],
   "source": [
    "# continuous data directory, use argument \"series\" for list of series within continuous data directory\n",
    "continuous_data = '/data/ucb/pylelab/run46/raw/continuous_I2_D20240620_T165135'\n",
    "series = None\n",
    "# 1.  Generate randoms\n",
    "#  use either \"random_rate\" or nevents\n",
    "#  you can specify minimum separation between randoms (default=100msec) and from/to the edge of \n",
    "# the continuous data\n",
    "salt.generate_randoms(continuous_data, series=series, nevents=1000, min_separation_msec=100, ncores=1)"
   ]
  },
  {
   "cell_type": "code",
   "execution_count": 4,
   "metadata": {},
   "outputs": [
    {
     "data": {
      "text/html": [
       "<table>\n",
       "<thead>\n",
       "<tr><th>#                              </th><th>series_number  </th><th>event_number  </th><th>dump_number  </th><th>event_time  </th><th>series_start_time  </th><th>group_start_time  </th><th>fridge_run_start_time  </th><th>fridge_run_number  </th><th>trigger_index  </th><th>trigger_time  </th><th>trigger_type  </th><th>data_type  </th><th>group_name                     </th><th>processing_id  </th><th>trigger_prod_id  </th><th>trigger_prod_group_name  </th></tr>\n",
       "</thead>\n",
       "<tbody>\n",
       "<tr><td><i style='opacity: 0.6'>0</i>  </td><td>220240620165258</td><td>100001        </td><td>1            </td><td>1718927590  </td><td>12                 </td><td>94                </td><td>291190                 </td><td>46                 </td><td>252097         </td><td>0.2016776     </td><td>3             </td><td>Test       </td><td>continuous_I2_D20240620_T165135</td><td>nan            </td><td>1                </td><td>nan                      </td></tr>\n",
       "<tr><td><i style='opacity: 0.6'>1</i>  </td><td>220240620165258</td><td>100001        </td><td>1            </td><td>1718927591  </td><td>13                 </td><td>95                </td><td>291191                 </td><td>46                 </td><td>667899         </td><td>0.5343192     </td><td>3             </td><td>Test       </td><td>continuous_I2_D20240620_T165135</td><td>nan            </td><td>2                </td><td>nan                      </td></tr>\n",
       "<tr><td><i style='opacity: 0.6'>2</i>  </td><td>220240620165258</td><td>100001        </td><td>1            </td><td>1718927591  </td><td>13                 </td><td>95                </td><td>291191                 </td><td>46                 </td><td>885712         </td><td>0.7085696     </td><td>3             </td><td>Test       </td><td>continuous_I2_D20240620_T165135</td><td>nan            </td><td>3                </td><td>nan                      </td></tr>\n",
       "<tr><td><i style='opacity: 0.6'>3</i>  </td><td>220240620165258</td><td>100001        </td><td>1            </td><td>1718927591  </td><td>13                 </td><td>95                </td><td>291191                 </td><td>46                 </td><td>1218459        </td><td>0.9747672     </td><td>3             </td><td>Test       </td><td>continuous_I2_D20240620_T165135</td><td>nan            </td><td>4                </td><td>nan                      </td></tr>\n",
       "<tr><td><i style='opacity: 0.6'>4</i>  </td><td>220240620165258</td><td>100001        </td><td>1            </td><td>1718927591  </td><td>13                 </td><td>95                </td><td>291191                 </td><td>46                 </td><td>1607282        </td><td>1.2858256     </td><td>3             </td><td>Test       </td><td>continuous_I2_D20240620_T165135</td><td>nan            </td><td>5                </td><td>nan                      </td></tr>\n",
       "<tr><td>...                            </td><td>...            </td><td>...           </td><td>...          </td><td>...         </td><td>...                </td><td>...               </td><td>...                    </td><td>...                </td><td>...            </td><td>...           </td><td>...           </td><td>...        </td><td>...                            </td><td>...            </td><td>...              </td><td>...                      </td></tr>\n",
       "<tr><td><i style='opacity: 0.6'>925</i></td><td>220240620165258</td><td>300008        </td><td>3            </td><td>1718927889  </td><td>311                </td><td>393               </td><td>291489                 </td><td>46                 </td><td>10763245       </td><td>8.610596      </td><td>3             </td><td>Test       </td><td>continuous_I2_D20240620_T165135</td><td>nan            </td><td>926              </td><td>nan                      </td></tr>\n",
       "<tr><td><i style='opacity: 0.6'>926</i></td><td>220240620165258</td><td>300008        </td><td>3            </td><td>1718927889  </td><td>311                </td><td>393               </td><td>291489                 </td><td>46                 </td><td>10914354       </td><td>8.7314832     </td><td>3             </td><td>Test       </td><td>continuous_I2_D20240620_T165135</td><td>nan            </td><td>927              </td><td>nan                      </td></tr>\n",
       "<tr><td><i style='opacity: 0.6'>927</i></td><td>220240620165258</td><td>300008        </td><td>3            </td><td>1718927889  </td><td>311                </td><td>393               </td><td>291489                 </td><td>46                 </td><td>11357677       </td><td>9.0861416     </td><td>3             </td><td>Test       </td><td>continuous_I2_D20240620_T165135</td><td>nan            </td><td>928              </td><td>nan                      </td></tr>\n",
       "<tr><td><i style='opacity: 0.6'>928</i></td><td>220240620165258</td><td>300008        </td><td>3            </td><td>1718927890  </td><td>312                </td><td>394               </td><td>291490                 </td><td>46                 </td><td>11995262       </td><td>9.5962096     </td><td>3             </td><td>Test       </td><td>continuous_I2_D20240620_T165135</td><td>nan            </td><td>929              </td><td>nan                      </td></tr>\n",
       "<tr><td><i style='opacity: 0.6'>929</i></td><td>220240620165258</td><td>300008        </td><td>3            </td><td>1718927890  </td><td>312                </td><td>394               </td><td>291490                 </td><td>46                 </td><td>12165221       </td><td>9.7321768     </td><td>3             </td><td>Test       </td><td>continuous_I2_D20240620_T165135</td><td>nan            </td><td>930              </td><td>nan                      </td></tr>\n",
       "</tbody>\n",
       "</table>"
      ],
      "text/plain": [
       "#    series_number    event_number    dump_number    event_time    series_start_time    group_start_time    fridge_run_start_time    fridge_run_number    trigger_index    trigger_time    trigger_type    data_type    group_name                       processing_id    trigger_prod_id    trigger_prod_group_name\n",
       "0    220240620165258  100001          1              1718927590    12                   94                  291190                   46                   252097           0.2016776       3               Test         continuous_I2_D20240620_T165135  nan              1                  nan\n",
       "1    220240620165258  100001          1              1718927591    13                   95                  291191                   46                   667899           0.5343192       3               Test         continuous_I2_D20240620_T165135  nan              2                  nan\n",
       "2    220240620165258  100001          1              1718927591    13                   95                  291191                   46                   885712           0.7085696       3               Test         continuous_I2_D20240620_T165135  nan              3                  nan\n",
       "3    220240620165258  100001          1              1718927591    13                   95                  291191                   46                   1218459          0.9747672       3               Test         continuous_I2_D20240620_T165135  nan              4                  nan\n",
       "4    220240620165258  100001          1              1718927591    13                   95                  291191                   46                   1607282          1.2858256       3               Test         continuous_I2_D20240620_T165135  nan              5                  nan\n",
       "...  ...              ...             ...            ...           ...                  ...                 ...                      ...                  ...              ...             ...             ...          ...                              ...              ...                ...\n",
       "925  220240620165258  300008          3              1718927889    311                  393                 291489                   46                   10763245         8.610596        3               Test         continuous_I2_D20240620_T165135  nan              926                nan\n",
       "926  220240620165258  300008          3              1718927889    311                  393                 291489                   46                   10914354         8.7314832       3               Test         continuous_I2_D20240620_T165135  nan              927                nan\n",
       "927  220240620165258  300008          3              1718927889    311                  393                 291489                   46                   11357677         9.0861416       3               Test         continuous_I2_D20240620_T165135  nan              928                nan\n",
       "928  220240620165258  300008          3              1718927890    312                  394                 291490                   46                   11995262         9.5962096       3               Test         continuous_I2_D20240620_T165135  nan              929                nan\n",
       "929  220240620165258  300008          3              1718927890    312                  394                 291490                   46                   12165221         9.7321768       3               Test         continuous_I2_D20240620_T165135  nan              930                nan"
      ]
     },
     "execution_count": 4,
     "metadata": {},
     "output_type": "execute_result"
    }
   ],
   "source": [
    "salt._dataframe"
   ]
  },
  {
   "cell_type": "code",
   "execution_count": 5,
   "metadata": {},
   "outputs": [
    {
     "name": "stdout",
     "output_type": "stream",
     "text": [
      "INFO: Loading filter data from file /home/michael/salting/run46tests/pylelab_run46_analysis/didvMv3025pcRegular.hdf5\n",
      "IV results isn't none!\n"
     ]
    }
   ],
   "source": [
    "#salt.set_iv_didv_results_from_file(\"/data/ucb/pylelab/run46/filterdata/continuous_I2_D20240622_T142759/didv_analysis_D20240919_T093247.hdf5\")\n",
    "salt.set_iv_didv_results_from_file(\"/home/michael/salting/run46tests/pylelab_run46_analysis/didvMv3025pcRegular.hdf5\",poles=3)"
   ]
  },
  {
   "cell_type": "code",
   "execution_count": 6,
   "metadata": {},
   "outputs": [],
   "source": [
    "asdf = salt.get_didv_results(channel='Mv3025pcRegular',poles=3)"
   ]
  },
  {
   "cell_type": "code",
   "execution_count": 7,
   "metadata": {},
   "outputs": [
    {
     "data": {
      "image/png": "[encoded data removed]",
      "text/plain": [
       "<Figure size 800x500 with 1 Axes>"
      ]
     },
     "metadata": {},
     "output_type": "display_data"
    }
   ],
   "source": [
    "trace_length_msec = 20\n",
    "pretrigger_length_msec = 10\n",
    "fs = 1.25e6\n",
    "# instantiate template object\n",
    "template = Template()\n",
    "\n",
    "# Template Melange 1%1\n",
    "amplitudes = [1.67e-15, 1.32e-15, 2.39e-17]\n",
    "fall_times = [44.6e-6, 147.5e-6, 3872.9e-6]\n",
    "rise_times = [8.79e-6, 8.79e-6, 8.79e-6]\n",
    "\n",
    "template.create_template_sum_twopoles('Mv3025pcRegular', \n",
    "                                      amplitudes, rise_times, fall_times,\n",
    "                                      sample_rate=fs,\n",
    "                                      trace_length_msec=trace_length_msec,\n",
    "                                      pretrigger_length_msec=pretrigger_length_msec) \n",
    "\n",
    "\n",
    "# get templates array\n",
    "template_Mv3025pcRegular, time_array = template.get_template('Mv3025pcRegular')\n",
    "\n",
    "\n",
    "# display\n",
    "template.plot_template(['Mv3025pcRegular'], xmin=9, xmax=12)"
   ]
  },
  {
   "cell_type": "code",
   "execution_count": 8,
   "metadata": {},
   "outputs": [],
   "source": [
    "salt.set_template('Mv3025pcRegular', template_Mv3025pcRegular, sample_rate=1.25e6, \n",
    "                          pretrigger_length_msec=10)"
   ]
  },
  {
   "cell_type": "code",
   "execution_count": 9,
   "metadata": {},
   "outputs": [
    {
     "data": {
      "image/png": "[encoded data removed]",
      "text/plain": [
       "<Figure size 800x500 with 1 Axes>"
      ]
     },
     "metadata": {},
     "output_type": "display_data"
    }
   ],
   "source": [
    "salt.plot_template(channels='Mv3025pcRegular')"
   ]
  },
  {
   "cell_type": "code",
   "execution_count": 10,
   "metadata": {},
   "outputs": [
    {
     "data": {
      "text/plain": [
       "(array([-3.6452128e-08-0.0000000e+00j, -3.6464787e-08-8.7276181e-10j,\n",
       "        -3.6502591e-08-1.7429508e-09j, ..., -3.6565027e-08+2.6080507e-09j,\n",
       "        -3.6502591e-08+1.7429508e-09j, -3.6464787e-08+8.7276181e-10j],\n",
       "       dtype=complex64),\n",
       " array([   0.,   50.,  100., ..., -150., -100.,  -50.]))"
      ]
     },
     "execution_count": 10,
     "metadata": {},
     "output_type": "execute_result"
    }
   ],
   "source": [
    "salt.get_dpdi(channel='Mv3025pcRegular',poles=3)"
   ]
  },
  {
   "cell_type": "code",
   "execution_count": 11,
   "metadata": {},
   "outputs": [],
   "source": [
    "def helmfactor(er, tm='Si'):\n",
    "    \"\"\"\n",
    "    The analytic nuclear form factor via the Helm approximation.\n",
    "\n",
    "    Parameters\n",
    "    ----------\n",
    "    er : array_like\n",
    "        The recoil energy to use in the form factor calculation, units of keV.\n",
    "    tm : str, int, optional\n",
    "        The target material of the detector. Can be passed as either the atomic symbol, the\n",
    "        atomic number, or the full name of the element. Default is 'Si'.\n",
    "\n",
    "    Returns\n",
    "    -------\n",
    "    ffactor2 : ndarray\n",
    "        The square of the dimensionless form factor for the inputted recoil energies and target\n",
    "        material.\n",
    "\n",
    "    Notes\n",
    "    -----\n",
    "    This form factor uses Helm's approximation to the charge density of the nucleus, as explained by\n",
    "    Lewin and Smith in section 4 of their paper:\n",
    "        - https://doi.org/10.1016/S0927-6505(96)00047-3\n",
    "\n",
    "    \"\"\"\n",
    "\n",
    "    er = np.atleast_1d(er)\n",
    "\n",
    "    hbarc = constants.hbar * constants.c / constants.e * 1e-6 * 1e15 # [MeV fm]\n",
    "    mn = constants.atomic_mass * constants.c**2 / constants.e * 1e-9 # 1 amu in [GeV]\n",
    "    atomic_weight = mendeleev.element(tm).atomic_weight\n",
    "\n",
    "    # dimensionless momentum transfer\n",
    "    q = np.sqrt(2 * mn * atomic_weight * er) # [MeV]\n",
    "\n",
    "    # using the parameters defined in L&S\n",
    "    s = 0.9 # [fm]\n",
    "    a = 0.52 # [fm]\n",
    "    c = 1.23 * atomic_weight**(1 / 3) - 0.60 # [fm]\n",
    "\n",
    "    # approximation of rn [Eq. 4.11 of L&S]\n",
    "    rn = np.sqrt(c**2 + 7 / 3 * np.pi**2 * a**2 - 5 * s**2)\n",
    "\n",
    "    qrn = q * rn / hbarc\n",
    "    qs = q * s / hbarc\n",
    "\n",
    "    # Helm approximation of form facter [Eq. 4.7 of L&S]\n",
    "    ffactor2 = (3 * special.spherical_jn(1, qrn) / qrn * np.exp(-qs**2 / 2))**2 \n",
    "\n",
    "    return ffactor2\n",
    "\n",
    "def _mixed_tm(tm):\n",
    "    \"\"\"\n",
    "    Helper function for extracting the element names and number\n",
    "    of them from an inputted chemical formula.\n",
    "\n",
    "    \"\"\"\n",
    "\n",
    "    pos = [i for i, e in enumerate(tm + 'A') if e.isupper()]\n",
    "    parts = [tm[pos[j]:pos[j + 1]] for j in range(len(pos) - 1)]\n",
    "    tms = []\n",
    "    for item in parts:\n",
    "        for ii, letter in enumerate(item):\n",
    "            if letter.isdigit():\n",
    "                tm_temp = [item[:ii], int(item[ii:])]\n",
    "                break\n",
    "            elif ii == len(item) - 1:\n",
    "                tm_temp = [item, 1]\n",
    "        tms.append(tm_temp)\n",
    "\n",
    "    return tms\n",
    "\n",
    "def drde(q, m_dm, sig0, tm='Si'):\n",
    "    \"\"\"\n",
    "    The differential event rate of an expected WIMP.\n",
    "\n",
    "    Parameters\n",
    "    ----------\n",
    "    q : array_like\n",
    "        The recoil energies at which to calculate the dark matter differential\n",
    "        event rate. Expected units are keV.\n",
    "    m_dm : float\n",
    "        The dark matter mass at which to calculate the expected differential\n",
    "        event rate. Expected units are GeV.\n",
    "    sig0 : float\n",
    "        The dark matter cross section at which to calculate the expected differential\n",
    "        event rate. Expected units are cm^2.\n",
    "    tm : str, int, optional\n",
    "        The target material of the detector. Must be passed as the atomic\n",
    "        symbol. Can also pass a compound, but must be its chemical formula\n",
    "        (e.g. sapphire is 'Al2O3'). Default value is 'Si'.\n",
    "\n",
    "    Returns\n",
    "    -------\n",
    "    rate : ndarray\n",
    "        The expected dark matter differential event rate for the inputted recoil energies,\n",
    "        dark matter mass, and dark matter cross section. Units are events/keV/kg/day, \n",
    "        or \"DRU\".\n",
    "\n",
    "    Notes\n",
    "    -----\n",
    "    The derivation of the expected dark matter differential event rate is done in Lewin and\n",
    "    Smith's paper \"Review of mathematics, numerical factors, and corrections dark matter experiments\n",
    "    based on elastic nuclear recoil\", which can be found here:\n",
    "        - https://doi.org/10.1016/S0927-6505(96)00047-3\n",
    "\n",
    "    The derivation by L&S is incomplete, see Eq. 22 of R. Schnee's paper \"Introduction to Dark Matter\n",
    "    Experiments\", which includes the correct rate for `vmin` in the range (`vesc` - `ve`, `vesc` + `ve`)\n",
    "        - https://arxiv.org/abs/1101.5205\n",
    "\n",
    "    Another citation for this correction can be found in Savage, et. al.'s paper \"Compatibility of\n",
    "    DAMA/LIBRA dark matter detection with other searches\", see Eq. 19. This is a different parameterization,\n",
    "    but is the same solution.\n",
    "        - https://doi.org/10.1088/1475-7516/2009/04/010\n",
    "\n",
    "    \"\"\"\n",
    "\n",
    "    totalmassnum = sum([mendeleev.element(t).mass_number * num for t, num in _mixed_tm(tm)])\n",
    "    rate = sum(\n",
    "        [mendeleev.element(t).mass_number * num / totalmassnum * _drde(\n",
    "            q, m_dm, sig0, t,\n",
    "        ) for t, num in _mixed_tm(tm)]\n",
    "    )\n",
    "\n",
    "    return rate\n",
    "\n",
    "\n",
    "def _drde(q, m_dm, sig0, tm):\n",
    "    \"\"\"\n",
    "    The differential event rate of an expected WIMP for a single target material.\n",
    "    See `drde` for the full explanation of each parameter.\n",
    "\n",
    "    \"\"\"\n",
    "\n",
    "    q = np.atleast_1d(q) # convert to recoil energy in keV\n",
    "\n",
    "    v0 = constants.v0_sun # sun velocity about galactic center [m/s]\n",
    "    ve = constants.ve_orbital # mean orbital velocity of Earth [m/s]\n",
    "    vesc = constants.vesc_galactic # galactic escape velocity [m/s]\n",
    "    rho0 = constants.rho0_dm # local DM density [GeV/cm^3]\n",
    "\n",
    "    a = mendeleev.element(tm).atomic_weight\n",
    "    mn = constants.atomic_mass * constants.c**2 / constants.e * 1e-9 # nucleon mass (1 amu) [GeV]\n",
    "    mtarget = a * mn # nucleon mass for tm [GeV]\n",
    "    r = 4 * m_dm * mtarget / (m_dm + mtarget)**2 # unitless reduced mass parameter\n",
    "    e0 = 0.5 * m_dm * (v0 / constants.c)**2 * 1e6 # kinetic energy of dark matter [keV]\n",
    "    vmin = np.sqrt(q / (e0 * r)) * v0 # DM velocity for smallest particle energy to give recoil energy q\n",
    "\n",
    "    form_factor = helmfactor(q, tm=tm)\n",
    "\n",
    "    # spin-independent cross section on entire nucleus\n",
    "    sigma = form_factor * sig0 * a**2 * (mtarget/(m_dm + mtarget))**2 / (mn / (m_dm + mn))**2\n",
    "\n",
    "    # event rate per unit mass for ve= 0 and vesc = infinity [Eq. 3.1 of L&S]\n",
    "    r0con = 2 * constants.N_A / np.sqrt(np.pi) * 1e5 * constants.day\n",
    "    r0 = r0con * sigma * rho0 * v0 / (a * m_dm)\n",
    "\n",
    "    # ratio of k0/k1 [Eq. 2.2 of L&S]\n",
    "    k0_over_k1 = 1 / (special.erf(vesc / v0) - 2 / np.sqrt(np.pi) * vesc / v0 * np.exp(-(vesc / v0)**2))\n",
    "\n",
    "    # rate integrated to infinity [Eq. 3.12 of L&S]\n",
    "    rate_inf = r0 * np.sqrt(np.pi) * v0 / (4 * e0 * r * ve) * (special.erf((vmin + ve) / v0) - special.erf((vmin - ve) / v0))\n",
    "    # rate integrated to vesc [Eq. 3.13 of L&S]\n",
    "    rate_vesc = k0_over_k1 * (rate_inf - r0 / (e0 * r) * np.exp(-(vesc / v0)**2))\n",
    "\n",
    "    # rate calculation correction to L&S for `vmin` in range (`vesc` - `ve`, `vesc` + `ve`) [Eq. 22 of Schnee]\n",
    "    rate_inf2 = r0 * np.sqrt(np.pi) * v0 / (4 * e0 * r * ve) * (special.erf(vesc / v0) - special.erf((vmin - ve) / v0))\n",
    "    rate_high_vmin = k0_over_k1 * (rate_inf2 - r0 / (e0 * r) * (vesc + ve - vmin) / (2 * ve) * np.exp(-(vesc / v0)**2))\n",
    "\n",
    "    # combine the calculations based on their regions of validity\n",
    "    rate = np.zeros(q.shape)\n",
    "    rate[(vmin < vesc - ve) & (vmin > 0)] = rate_vesc[(vmin < vesc - ve) & (vmin > 0)]\n",
    "    rate[(vmin > vesc - ve) & (vmin < vesc + ve)] = rate_high_vmin[(vmin > vesc - ve) & (vmin < vesc + ve)]\n",
    "\n",
    "    return rate"
   ]
  },
  {
   "cell_type": "code",
   "execution_count": 12,
   "metadata": {},
   "outputs": [],
   "source": [
    "dmrange=np.geomspace(1e-4, 1e-1, num=75)\n",
    "rate = drde(dmrange, 0.1, 1e-35, tm='Si')"
   ]
  },
  {
   "cell_type": "code",
   "execution_count": 13,
   "metadata": {},
   "outputs": [
    {
     "data": {
      "image/png": "[encoded data removed]",
      "text/plain": [
       "<Figure size 640x480 with 1 Axes>"
      ]
     },
     "metadata": {},
     "output_type": "display_data"
    }
   ],
   "source": [
    "plt.plot(dmrange,rate)\n",
    "plt.xscale(\"log\")\n",
    "plt.yscale(\"log\")"
   ]
  },
  {
   "cell_type": "code",
   "execution_count": 14,
   "metadata": {},
   "outputs": [],
   "source": [
    "dmrange = np.geomspace(1e-4, 1e-1, num=75)\n",
    "dmrate = lambda x: drde(x, 0.1, 1e-35, tm='Si')"
   ]
  },
  {
   "cell_type": "code",
   "execution_count": 15,
   "metadata": {},
   "outputs": [],
   "source": [
    "test = salt.sample_DMpdf(dmrate,[1e-4,1e-1],750,1000)"
   ]
  },
  {
   "cell_type": "code",
   "execution_count": 16,
   "metadata": {},
   "outputs": [],
   "source": [
    "sdf = salt.get_DMenergies"
   ]
  },
  {
   "cell_type": "code",
   "execution_count": 17,
   "metadata": {},
   "outputs": [
    {
     "data": {
      "text/plain": [
       "<bound method Salting.get_DMenergies of <detprocess.core.salting.Salting object at 0x7f15603020b0>>"
      ]
     },
     "execution_count": 17,
     "metadata": {},
     "output_type": "execute_result"
    }
   ],
   "source": [
    "sdf"
   ]
  },
  {
   "cell_type": "code",
   "execution_count": 18,
   "metadata": {},
   "outputs": [
    {
     "data": {
      "text/plain": [
       "array([0.00018986, 0.00016469, 0.00104921, 0.00037484, 0.00099996,\n",
       "       0.000829  , 0.00206421, 0.00040668, 0.00069763, 0.00065688,\n",
       "       0.00099225, 0.00029574, 0.00096512, 0.000295  , 0.0002378 ,\n",
       "       0.00054842, 0.00206719, 0.00114528, 0.00173994, 0.00100498,\n",
       "       0.00041155, 0.00012248, 0.00016911, 0.00138013, 0.00075032,\n",
       "       0.0006312 , 0.00078669, 0.00100563, 0.00063083, 0.00026938,\n",
       "       0.00013543, 0.00133094, 0.00032373, 0.00027468, 0.00095669,\n",
       "       0.0022716 , 0.00049362, 0.00078323, 0.00077429, 0.0006676 ,\n",
       "       0.00038026, 0.00204536, 0.00011442, 0.00040388, 0.00035667,\n",
       "       0.00020576, 0.00048146, 0.00208275, 0.0003806 , 0.00066312,\n",
       "       0.00071435, 0.00033161, 0.00020963, 0.00023308, 0.00208268,\n",
       "       0.00024999, 0.00249617, 0.00055669, 0.00084597, 0.00015837,\n",
       "       0.00190688, 0.0006165 , 0.00052883, 0.00077024, 0.00017222,\n",
       "       0.00022052, 0.00046203, 0.00113966, 0.0002465 , 0.00127854,\n",
       "       0.00083549, 0.00140661, 0.0006134 , 0.00022659, 0.00028398,\n",
       "       0.00085311, 0.00073356, 0.00308525, 0.00070233, 0.00098911,\n",
       "       0.0013005 , 0.00166899, 0.00019286, 0.00111761, 0.00047993,\n",
       "       0.00019299, 0.00072782, 0.00048028, 0.00183062, 0.00090668,\n",
       "       0.00153461, 0.00071313, 0.00164806, 0.0018579 , 0.0014326 ,\n",
       "       0.00043307, 0.00058755, 0.00050777, 0.00084707, 0.00079091,\n",
       "       0.00155999, 0.00060918, 0.00046764, 0.00028224, 0.00100339,\n",
       "       0.00035796, 0.00239555, 0.00025013, 0.00132176, 0.00061613,\n",
       "       0.00092249, 0.00024535, 0.00070822, 0.00203472, 0.00052942,\n",
       "       0.00048595, 0.00036265, 0.00048345, 0.00076348, 0.0007079 ,\n",
       "       0.00191775, 0.00066074, 0.00095172, 0.00052639, 0.00053265,\n",
       "       0.00146637, 0.00097834, 0.00025264, 0.00269372, 0.00111828,\n",
       "       0.00012647, 0.00047345, 0.0005968 , 0.00010246, 0.00029076,\n",
       "       0.00134057, 0.00210018, 0.00079863, 0.00016873, 0.00017218,\n",
       "       0.00019742, 0.00045747, 0.00012232, 0.00021729, 0.00238885,\n",
       "       0.00010451, 0.00088491, 0.00010476, 0.00097483, 0.00045707,\n",
       "       0.00168686, 0.00107365, 0.00027804, 0.00039413, 0.00187833,\n",
       "       0.0004606 , 0.00027941, 0.00216266, 0.00013046, 0.00211168,\n",
       "       0.00087796, 0.00123827, 0.0026772 , 0.00032103, 0.00012032,\n",
       "       0.00019663, 0.00103326, 0.00020892, 0.00070786, 0.00056604,\n",
       "       0.00045143, 0.00063717, 0.00054091, 0.00060049, 0.00129346,\n",
       "       0.00023552, 0.00033679, 0.0007983 , 0.00021536, 0.00083095,\n",
       "       0.00064967, 0.00056059, 0.00113732, 0.00025593, 0.00126561,\n",
       "       0.00048228, 0.00106377, 0.00019208, 0.00085217, 0.0014044 ,\n",
       "       0.00040336, 0.00148634, 0.00056906, 0.00054573, 0.00093407,\n",
       "       0.00024107, 0.00028305, 0.00062684, 0.00250811, 0.00013434,\n",
       "       0.00202284, 0.00035707, 0.00042147, 0.00018407, 0.00064829,\n",
       "       0.00026618, 0.00092724, 0.00025514, 0.0009092 , 0.00035615,\n",
       "       0.00013638, 0.00062204, 0.00054013, 0.00031623, 0.0003465 ,\n",
       "       0.00251884, 0.00126051, 0.00190898, 0.00075252, 0.000474  ,\n",
       "       0.00166703, 0.00050066, 0.0009722 , 0.00029133, 0.000848  ,\n",
       "       0.00010068, 0.00066738, 0.00016489, 0.00080466, 0.00063203,\n",
       "       0.00123289, 0.00073748, 0.00037744, 0.00044686, 0.00202565,\n",
       "       0.00124628, 0.00019494, 0.00112775, 0.00041112, 0.00229184,\n",
       "       0.00058977, 0.00044182, 0.0006638 , 0.00010814, 0.00071338,\n",
       "       0.00040739, 0.00103276, 0.00037555, 0.00073335, 0.00020513,\n",
       "       0.00094343, 0.00069694, 0.00063316, 0.00178592, 0.00148161,\n",
       "       0.00104081, 0.00126492, 0.00095533, 0.00027123, 0.0009635 ,\n",
       "       0.00045684, 0.00091103, 0.00117579, 0.00101781, 0.00166804,\n",
       "       0.00051609, 0.00028545, 0.00086116, 0.00169334, 0.00020367,\n",
       "       0.00046985, 0.00066438, 0.00084818, 0.00060485, 0.00166454,\n",
       "       0.00146052, 0.00165656, 0.00065383, 0.00033764, 0.00022006,\n",
       "       0.00017213, 0.00018721, 0.00036206, 0.00078785, 0.00071596,\n",
       "       0.00019505, 0.00067499, 0.00025021, 0.00099354, 0.00019616,\n",
       "       0.00150053, 0.00073768, 0.00030028, 0.00067367, 0.00037075,\n",
       "       0.00101912, 0.0010059 , 0.00039827, 0.00147993, 0.00133332,\n",
       "       0.00028488, 0.00164424, 0.00054247, 0.000346  , 0.00168456,\n",
       "       0.00051208, 0.00021455, 0.00019114, 0.001169  , 0.00087635,\n",
       "       0.00048756, 0.0008633 , 0.00212496, 0.00059959, 0.00031205,\n",
       "       0.00050828, 0.00079503, 0.00297448, 0.00010922, 0.00290338,\n",
       "       0.00111295, 0.00101568, 0.00073878, 0.00039444, 0.00054778,\n",
       "       0.0003793 , 0.00064774, 0.00059764, 0.0004541 , 0.00041627,\n",
       "       0.00068763, 0.00016386, 0.00078847, 0.00087612, 0.00051483,\n",
       "       0.0007224 , 0.00039676, 0.00028205, 0.00013027, 0.0007725 ,\n",
       "       0.0011998 , 0.00042301, 0.00084772, 0.00067578, 0.0005378 ,\n",
       "       0.00014817, 0.00028873, 0.00050364, 0.00014291, 0.00089311,\n",
       "       0.00032974, 0.00088676, 0.00040117, 0.00119885, 0.00079559,\n",
       "       0.00057189, 0.0001765 , 0.0006707 , 0.00172886, 0.00065425,\n",
       "       0.00109854, 0.0003949 , 0.00052569, 0.00048428, 0.00174397,\n",
       "       0.00095539, 0.00140536, 0.00018634, 0.00085396, 0.00107174,\n",
       "       0.00010148, 0.00014356, 0.00144485, 0.00028332, 0.00104468,\n",
       "       0.00070721, 0.00231039, 0.00035266, 0.00031966, 0.0007377 ,\n",
       "       0.00026492, 0.00044403, 0.00097062, 0.0002923 , 0.00081825,\n",
       "       0.00131765, 0.00069237, 0.00042938, 0.00031252, 0.00020386,\n",
       "       0.00050115, 0.00030442, 0.00043707, 0.00213259, 0.00190982,\n",
       "       0.00025706, 0.00219341, 0.00086021, 0.00016748, 0.00055913,\n",
       "       0.0008323 , 0.00060947, 0.0004136 , 0.00098745, 0.00024051,\n",
       "       0.00022813, 0.00072021, 0.0011651 , 0.00063559, 0.00122698,\n",
       "       0.00128959, 0.00027349, 0.0015539 , 0.00067117, 0.00028666,\n",
       "       0.00028356, 0.00060722, 0.00029196, 0.00086256, 0.00157389,\n",
       "       0.00074483, 0.00157892, 0.00025143, 0.00093228, 0.00013115,\n",
       "       0.00103851, 0.00114447, 0.00096276, 0.00117462, 0.00084358,\n",
       "       0.00038163, 0.00054323, 0.00021778, 0.00024844, 0.00016418,\n",
       "       0.00032387, 0.00089198, 0.00084441, 0.00029192, 0.00021316,\n",
       "       0.00010793, 0.00130818, 0.00116794, 0.00013185, 0.00092763,\n",
       "       0.00017723, 0.00052108, 0.00080811, 0.00021398, 0.00082996,\n",
       "       0.00134234, 0.00059295, 0.00018169, 0.00027971, 0.00021155,\n",
       "       0.00014145, 0.00065081, 0.00065833, 0.00108676, 0.00066394,\n",
       "       0.00027888, 0.00063569, 0.00080259, 0.00052703, 0.00057789,\n",
       "       0.0003627 , 0.00034879, 0.00042427, 0.00011968, 0.00081911,\n",
       "       0.00027583, 0.00043433, 0.00107796, 0.00085011, 0.0008307 ,\n",
       "       0.00281108, 0.00025265, 0.00085365, 0.0007027 , 0.00091877,\n",
       "       0.0017947 , 0.00046784, 0.00027487, 0.00025914, 0.00038184,\n",
       "       0.00017922, 0.00024527, 0.00119555, 0.00056435, 0.00203042,\n",
       "       0.00125407, 0.00023599, 0.00124099, 0.00074983, 0.0005868 ,\n",
       "       0.00024533, 0.0003684 , 0.00096429, 0.00035866, 0.00018122,\n",
       "       0.0009934 , 0.00047415, 0.00047199, 0.00024979, 0.0022436 ,\n",
       "       0.00109205, 0.00105376, 0.00065052, 0.00031466, 0.00067016,\n",
       "       0.00045634, 0.00070606, 0.00018547, 0.00105554, 0.00024289,\n",
       "       0.00123747, 0.0013953 , 0.00048724, 0.00141586, 0.00093202,\n",
       "       0.00121778, 0.00138368, 0.00152333, 0.00113509, 0.00022683,\n",
       "       0.00145348, 0.00018354, 0.00044767, 0.00169196, 0.00058459,\n",
       "       0.00023856, 0.00042215, 0.00026137, 0.00024273, 0.00058837,\n",
       "       0.00053891, 0.00035905, 0.00123201, 0.00127669, 0.00074751,\n",
       "       0.00043911, 0.00026567, 0.00067355, 0.0009223 , 0.00122364,\n",
       "       0.00018379, 0.00080725, 0.00082818, 0.00092447, 0.00012794,\n",
       "       0.00028665, 0.00027739, 0.00025606, 0.00149269, 0.00089945,\n",
       "       0.00100562, 0.00037656, 0.00023296, 0.00043022, 0.00244729,\n",
       "       0.00048941, 0.00010792, 0.00032535, 0.00077895, 0.00047022,\n",
       "       0.00111276, 0.00049319, 0.00045892, 0.00065895, 0.00125376,\n",
       "       0.00069549, 0.00043009, 0.00055971, 0.00019028, 0.00038993,\n",
       "       0.00014911, 0.00094226, 0.00059279, 0.0003175 , 0.00202034,\n",
       "       0.0024465 , 0.00088183, 0.00063695, 0.00065735, 0.00099598,\n",
       "       0.00055572, 0.00040148, 0.00110075, 0.00025511, 0.00053026,\n",
       "       0.00077329, 0.00031071, 0.00060925, 0.00051326, 0.00046473,\n",
       "       0.00088281, 0.00131642, 0.00050893, 0.0001126 , 0.00015897,\n",
       "       0.00040714, 0.00230302, 0.00069644, 0.00032053, 0.00073748,\n",
       "       0.00156149, 0.00066371, 0.00094152, 0.00057099, 0.0008556 ,\n",
       "       0.00121147, 0.00018264, 0.000663  , 0.00338727, 0.00081098,\n",
       "       0.00068955, 0.00051531, 0.00065724, 0.00035231, 0.00020767,\n",
       "       0.00016836, 0.0009358 , 0.0003807 , 0.0004954 , 0.00073823,\n",
       "       0.00129946, 0.00111078, 0.00091591, 0.00079706, 0.003055  ,\n",
       "       0.00097422, 0.00034496, 0.00018113, 0.00160517, 0.00058444,\n",
       "       0.0001662 , 0.00043316, 0.0002215 , 0.00014305, 0.00144677,\n",
       "       0.00075235, 0.00059407, 0.00029008, 0.000422  , 0.00091754,\n",
       "       0.00013728, 0.00080028, 0.0008164 , 0.00227681, 0.00052495,\n",
       "       0.00193288, 0.00131914, 0.00185053, 0.00066665, 0.00111464,\n",
       "       0.00092   , 0.00039459, 0.00049081, 0.00094338, 0.00032697,\n",
       "       0.00036648, 0.00012612, 0.00132139, 0.00051567, 0.00045865,\n",
       "       0.00081501, 0.00084669, 0.00153506, 0.00071307, 0.00135561,\n",
       "       0.00012046, 0.00021207, 0.00043997, 0.00076183, 0.00045798,\n",
       "       0.00207777, 0.00072325, 0.00065119, 0.00026324, 0.00129576,\n",
       "       0.00016582, 0.00025638, 0.00036831, 0.00078649, 0.00135877,\n",
       "       0.00098248, 0.0001279 , 0.0002514 , 0.00099274, 0.0011658 ,\n",
       "       0.0006239 , 0.00022443, 0.00080628, 0.00069422, 0.00040762,\n",
       "       0.00046833, 0.00084672, 0.0001144 , 0.00060019, 0.00034423,\n",
       "       0.00151651, 0.00278482, 0.00108054, 0.00041135, 0.0002932 ,\n",
       "       0.00197338, 0.00031863, 0.00086368, 0.00125627, 0.0006198 ,\n",
       "       0.00059989, 0.00021625, 0.0001566 , 0.00217103, 0.00031802,\n",
       "       0.00085174, 0.00018257, 0.00075576, 0.00141031, 0.00038054,\n",
       "       0.00031673, 0.00168655, 0.00113055, 0.00077922, 0.00136714,\n",
       "       0.00052666, 0.00084269, 0.00066523, 0.00035502, 0.00036805,\n",
       "       0.00124924, 0.00133324, 0.00081462, 0.00114762, 0.00053215,\n",
       "       0.00136316, 0.00023579, 0.00107162, 0.00011755, 0.0005587 ,\n",
       "       0.00042997, 0.00095092, 0.00080785, 0.0013368 , 0.00037098,\n",
       "       0.00055981, 0.00076092, 0.00078849, 0.0022656 , 0.00019561])"
      ]
     },
     "execution_count": 18,
     "metadata": {},
     "output_type": "execute_result"
    }
   ],
   "source": [
    "test"
   ]
  },
  {
   "cell_type": "code",
   "execution_count": 19,
   "metadata": {},
   "outputs": [
    {
     "name": "stdout",
     "output_type": "stream",
     "text": [
      "INFO: Found total of 3 raw data file(s) from 1 different series number!\n",
      "INFO: Found total of 3 files from 1 different series number!\n",
      "INFO Node #1: Acquiring randoms for series I2_D20240620_T165258\n",
      "INFO: Randoms acquisition done!\n",
      "WARNING: Some noise data have been previously saved. Use \"describe()\" to check. If needed clear data using \"clear_data(channels=None, tag=None)\" function!\n",
      "#    Salt_amplitude                                       Salt_energy\n",
      "0    'array([0.00000000e+00, 0.00000000e+00, 0.000000...  'array([0.00000000e+00, 0.00000000e+00, 0.000000...\n",
      "1    'array([0.00000000e+00, 0.00000000e+00, 0.000000...  'array([0.00000000e+00, 0.00000000e+00, 0.000000...\n",
      "2    'array([0.00000000e+00, 0.00000000e+00, 0.000000...  'array([0.00000000e+00, 0.00000000e+00, 0.000000...\n",
      "3    'array([0.00000000e+00, 0.00000000e+00, 0.000000...  'array([0.00000000e+00, 0.00000000e+00, 0.000000...\n",
      "4    'array([0.00000000e+00, 0.00000000e+00, 0.000000...  'array([0.00000000e+00, 0.00000000e+00, 0.000000...\n",
      "...  ...                                                  ...\n",
      "85   'array([0.00000000e+00, 0.00000000e+00, 0.000000...  'array([0.00000000e+00, 0.00000000e+00, 0.000000...\n",
      "86   'array([0.00000000e+00, 0.00000000e+00, 0.000000...  'array([0.00000000e+00, 0.00000000e+00, 0.000000...\n",
      "87   'array([0.00000000e+00, 0.00000000e+00, 0.000000...  'array([0.00000000e+00, 0.00000000e+00, 0.000000...\n",
      "88   'array([0.00000000e+00, 0.00000000e+00, 0.000000...  'array([0.00000000e+00, 0.00000000e+00, 0.000000...\n",
      "89   'array([0.00000000e+00, 0.00000000e+00, 0.000000...  'array([0.00000000e+00, 0.00000000e+00, 0.000000...\n"
     ]
    }
   ],
   "source": [
    "test = salt.generate_raw_salt(90,energies=test,channels=['Mv3025pcRegular'],Usespectrum = False,cont_data = continuous_data)"
   ]
  },
  {
   "cell_type": "code",
   "execution_count": 21,
   "metadata": {},
   "outputs": [
    {
     "data": {
      "text/plain": [
       "[<matplotlib.lines.Line2D at 0x7f12f9eaf940>]"
      ]
     },
     "execution_count": 21,
     "metadata": {},
     "output_type": "execute_result"
    },
    {
     "data": {
      "image/png": "[encoded data removed]",
      "text/plain": [
       "<Figure size 640x480 with 1 Axes>"
      ]
     },
     "metadata": {},
     "output_type": "display_data"
    }
   ],
   "source": [
    "plt.plot(time_array,test[0])"
   ]
  },
  {
   "cell_type": "code",
   "execution_count": 22,
   "metadata": {},
   "outputs": [
    {
     "data": {
      "text/plain": [
       "(0.0095, 0.0105)"
      ]
     },
     "execution_count": 22,
     "metadata": {},
     "output_type": "execute_result"
    },
    {
     "data": {
      "image/png": "[encoded data removed]",
      "text/plain": [
       "<Figure size 640x480 with 1 Axes>"
      ]
     },
     "metadata": {},
     "output_type": "display_data"
    }
   ],
   "source": [
    "plt.plot(time_array,test[2])\n",
    "plt.xlim(0.0095,0.0105)"
   ]
  },
  {
   "cell_type": "code",
   "execution_count": 23,
   "metadata": {},
   "outputs": [
    {
     "data": {
      "text/html": [
       "<table>\n",
       "<thead>\n",
       "<tr><th>#                             </th><th>series_number  </th><th>event_number  </th><th>dump_number  </th><th>event_time  </th><th>series_start_time  </th><th>group_start_time  </th><th>fridge_run_start_time  </th><th>fridge_run_number  </th><th>trigger_index  </th><th>trigger_time  </th><th>trigger_type  </th><th>data_type  </th><th>group_name                     </th><th>processing_id  </th><th>trigger_prod_id  </th><th>trigger_prod_group_name  </th><th>Salt_amplitude                                     </th><th>Salt_energy                                        </th></tr>\n",
       "</thead>\n",
       "<tbody>\n",
       "<tr><td><i style='opacity: 0.6'>0</i> </td><td>220240620165258</td><td>100001        </td><td>1            </td><td>1718927594  </td><td>16                 </td><td>98                </td><td>291194                 </td><td>46                 </td><td>4910665        </td><td>3.928532      </td><td>3             </td><td>Test       </td><td>continuous_I2_D20240620_T165135</td><td>nan            </td><td>1                </td><td>nan                      </td><td>&#x27;array([0.00000000e+00, 0.00000000e+00, 0.000000...</td><td>&#x27;array([0.00000000e+00, 0.00000000e+00, 0.000000...</td></tr>\n",
       "<tr><td><i style='opacity: 0.6'>1</i> </td><td>220240620165258</td><td>100001        </td><td>1            </td><td>1718927597  </td><td>19                 </td><td>101               </td><td>291197                 </td><td>46                 </td><td>9122847        </td><td>7.2982776     </td><td>3             </td><td>Test       </td><td>continuous_I2_D20240620_T165135</td><td>nan            </td><td>2                </td><td>nan                      </td><td>&#x27;array([0.00000000e+00, 0.00000000e+00, 0.000000...</td><td>&#x27;array([0.00000000e+00, 0.00000000e+00, 0.000000...</td></tr>\n",
       "<tr><td><i style='opacity: 0.6'>2</i> </td><td>220240620165258</td><td>100001        </td><td>1            </td><td>1718927598  </td><td>20                 </td><td>102               </td><td>291198                 </td><td>46                 </td><td>9797163        </td><td>7.8377304     </td><td>3             </td><td>Test       </td><td>continuous_I2_D20240620_T165135</td><td>nan            </td><td>3                </td><td>nan                      </td><td>&#x27;array([0.00000000e+00, 0.00000000e+00, 0.000000...</td><td>&#x27;array([0.00000000e+00, 0.00000000e+00, 0.000000...</td></tr>\n",
       "<tr><td><i style='opacity: 0.6'>3</i> </td><td>220240620165258</td><td>100002        </td><td>1            </td><td>1718927604  </td><td>26                 </td><td>108               </td><td>291204                 </td><td>46                 </td><td>5123699        </td><td>4.0989592     </td><td>3             </td><td>Test       </td><td>continuous_I2_D20240620_T165135</td><td>nan            </td><td>4                </td><td>nan                      </td><td>&#x27;array([0.00000000e+00, 0.00000000e+00, 0.000000...</td><td>&#x27;array([0.00000000e+00, 0.00000000e+00, 0.000000...</td></tr>\n",
       "<tr><td><i style='opacity: 0.6'>4</i> </td><td>220240620165258</td><td>100002        </td><td>1            </td><td>1718927608  </td><td>30                 </td><td>112               </td><td>291208                 </td><td>46                 </td><td>10538301       </td><td>8.4306408     </td><td>3             </td><td>Test       </td><td>continuous_I2_D20240620_T165135</td><td>nan            </td><td>5                </td><td>nan                      </td><td>&#x27;array([0.00000000e+00, 0.00000000e+00, 0.000000...</td><td>&#x27;array([0.00000000e+00, 0.00000000e+00, 0.000000...</td></tr>\n",
       "<tr><td>...                           </td><td>...            </td><td>...           </td><td>...          </td><td>...         </td><td>...                </td><td>...               </td><td>...                    </td><td>...                </td><td>...            </td><td>...           </td><td>...           </td><td>...        </td><td>...                            </td><td>...            </td><td>...              </td><td>...                      </td><td>...                                                </td><td>...                                                </td></tr>\n",
       "<tr><td><i style='opacity: 0.6'>85</i></td><td>220240620165258</td><td>300007        </td><td>3            </td><td>1718927875  </td><td>297                </td><td>379               </td><td>291475                 </td><td>46                 </td><td>6262618        </td><td>5.0100944     </td><td>3             </td><td>Test       </td><td>continuous_I2_D20240620_T165135</td><td>nan            </td><td>86               </td><td>nan                      </td><td>&#x27;array([0.00000000e+00, 0.00000000e+00, 0.000000...</td><td>&#x27;array([0.00000000e+00, 0.00000000e+00, 0.000000...</td></tr>\n",
       "<tr><td><i style='opacity: 0.6'>86</i></td><td>220240620165258</td><td>300007        </td><td>3            </td><td>1718927878  </td><td>300                </td><td>382               </td><td>291478                 </td><td>46                 </td><td>9658934        </td><td>7.7271472     </td><td>3             </td><td>Test       </td><td>continuous_I2_D20240620_T165135</td><td>nan            </td><td>87               </td><td>nan                      </td><td>&#x27;array([0.00000000e+00, 0.00000000e+00, 0.000000...</td><td>&#x27;array([0.00000000e+00, 0.00000000e+00, 0.000000...</td></tr>\n",
       "<tr><td><i style='opacity: 0.6'>87</i></td><td>220240620165258</td><td>300008        </td><td>3            </td><td>1718927885  </td><td>307                </td><td>389               </td><td>291485                 </td><td>46                 </td><td>6490120        </td><td>5.192096      </td><td>3             </td><td>Test       </td><td>continuous_I2_D20240620_T165135</td><td>nan            </td><td>88               </td><td>nan                      </td><td>&#x27;array([0.00000000e+00, 0.00000000e+00, 0.000000...</td><td>&#x27;array([0.00000000e+00, 0.00000000e+00, 0.000000...</td></tr>\n",
       "<tr><td><i style='opacity: 0.6'>88</i></td><td>220240620165258</td><td>300008        </td><td>3            </td><td>1718927889  </td><td>311                </td><td>393               </td><td>291489                 </td><td>46                 </td><td>11770985       </td><td>9.416788      </td><td>3             </td><td>Test       </td><td>continuous_I2_D20240620_T165135</td><td>nan            </td><td>89               </td><td>nan                      </td><td>&#x27;array([0.00000000e+00, 0.00000000e+00, 0.000000...</td><td>&#x27;array([0.00000000e+00, 0.00000000e+00, 0.000000...</td></tr>\n",
       "<tr><td><i style='opacity: 0.6'>89</i></td><td>220240620165258</td><td>300008        </td><td>3            </td><td>1718927890  </td><td>312                </td><td>394               </td><td>291490                 </td><td>46                 </td><td>12127132       </td><td>9.7017056     </td><td>3             </td><td>Test       </td><td>continuous_I2_D20240620_T165135</td><td>nan            </td><td>90               </td><td>nan                      </td><td>&#x27;array([0.00000000e+00, 0.00000000e+00, 0.000000...</td><td>&#x27;array([0.00000000e+00, 0.00000000e+00, 0.000000...</td></tr>\n",
       "</tbody>\n",
       "</table>"
      ],
      "text/plain": [
       "#    series_number    event_number    dump_number    event_time    series_start_time    group_start_time    fridge_run_start_time    fridge_run_number    trigger_index    trigger_time    trigger_type    data_type    group_name                       processing_id    trigger_prod_id    trigger_prod_group_name    Salt_amplitude                                       Salt_energy\n",
       "0    220240620165258  100001          1              1718927594    16                   98                  291194                   46                   4910665          3.928532        3               Test         continuous_I2_D20240620_T165135  nan              1                  nan                        'array([0.00000000e+00, 0.00000000e+00, 0.000000...  'array([0.00000000e+00, 0.00000000e+00, 0.000000...\n",
       "1    220240620165258  100001          1              1718927597    19                   101                 291197                   46                   9122847          7.2982776       3               Test         continuous_I2_D20240620_T165135  nan              2                  nan                        'array([0.00000000e+00, 0.00000000e+00, 0.000000...  'array([0.00000000e+00, 0.00000000e+00, 0.000000...\n",
       "2    220240620165258  100001          1              1718927598    20                   102                 291198                   46                   9797163          7.8377304       3               Test         continuous_I2_D20240620_T165135  nan              3                  nan                        'array([0.00000000e+00, 0.00000000e+00, 0.000000...  'array([0.00000000e+00, 0.00000000e+00, 0.000000...\n",
       "3    220240620165258  100002          1              1718927604    26                   108                 291204                   46                   5123699          4.0989592       3               Test         continuous_I2_D20240620_T165135  nan              4                  nan                        'array([0.00000000e+00, 0.00000000e+00, 0.000000...  'array([0.00000000e+00, 0.00000000e+00, 0.000000...\n",
       "4    220240620165258  100002          1              1718927608    30                   112                 291208                   46                   10538301         8.4306408       3               Test         continuous_I2_D20240620_T165135  nan              5                  nan                        'array([0.00000000e+00, 0.00000000e+00, 0.000000...  'array([0.00000000e+00, 0.00000000e+00, 0.000000...\n",
       "...  ...              ...             ...            ...           ...                  ...                 ...                      ...                  ...              ...             ...             ...          ...                              ...              ...                ...                        ...                                                  ...\n",
       "85   220240620165258  300007          3              1718927875    297                  379                 291475                   46                   6262618          5.0100944       3               Test         continuous_I2_D20240620_T165135  nan              86                 nan                        'array([0.00000000e+00, 0.00000000e+00, 0.000000...  'array([0.00000000e+00, 0.00000000e+00, 0.000000...\n",
       "86   220240620165258  300007          3              1718927878    300                  382                 291478                   46                   9658934          7.7271472       3               Test         continuous_I2_D20240620_T165135  nan              87                 nan                        'array([0.00000000e+00, 0.00000000e+00, 0.000000...  'array([0.00000000e+00, 0.00000000e+00, 0.000000...\n",
       "87   220240620165258  300008          3              1718927885    307                  389                 291485                   46                   6490120          5.192096        3               Test         continuous_I2_D20240620_T165135  nan              88                 nan                        'array([0.00000000e+00, 0.00000000e+00, 0.000000...  'array([0.00000000e+00, 0.00000000e+00, 0.000000...\n",
       "88   220240620165258  300008          3              1718927889    311                  393                 291489                   46                   11770985         9.416788        3               Test         continuous_I2_D20240620_T165135  nan              89                 nan                        'array([0.00000000e+00, 0.00000000e+00, 0.000000...  'array([0.00000000e+00, 0.00000000e+00, 0.000000...\n",
       "89   220240620165258  300008          3              1718927890    312                  394                 291490                   46                   12127132         9.7017056       3               Test         continuous_I2_D20240620_T165135  nan              90                 nan                        'array([0.00000000e+00, 0.00000000e+00, 0.000000...  'array([0.00000000e+00, 0.00000000e+00, 0.000000..."
      ]
     },
     "execution_count": 23,
     "metadata": {},
     "output_type": "execute_result"
    }
   ],
   "source": [
    "salt._dataframe"
   ]
  },
  {
   "cell_type": "code",
   "execution_count": 24,
   "metadata": {},
   "outputs": [
    {
     "name": "stdout",
     "output_type": "stream",
     "text": [
      "WARNING: Max number events based on memory limit of 4GB is 40 out of 102!\n"
     ]
    }
   ],
   "source": [
    "#channels = ['Mv3025pcBigFins','Mv3025pcRegular']\n",
    "channels = 'Mv3025pcRegular'\n",
    "continuous_data = '/data/ucb/pylelab/run46/raw/continuous_I2_D20240620_T165135'\n",
    "continuous_data_series = 'None'\n",
    "h5 = h5io.H5Reader()\n",
    "h5.set_files(continuous_data, series=None)\n",
    "mtraces, mtraces_info = h5.read_many_events(nevents=102, detector_chans=channels, include_metadata=True, adctoamp=True)"
   ]
  },
  {
   "cell_type": "code",
   "execution_count": 25,
   "metadata": {},
   "outputs": [
    {
     "name": "stdout",
     "output_type": "stream",
     "text": [
      "[[-3.03431749e-07 -3.13682532e-07 -3.21183109e-07 ... -2.93681002e-07\n",
      "  -3.01931643e-07 -2.96431208e-07]]\n",
      "3\n",
      "25003\n",
      "[[-2.81680059e-07 -2.79179883e-07 -2.93931007e-07 ... -2.98431373e-07\n",
      "  -3.06181955e-07 -3.16932797e-07]]\n",
      "7\n",
      "25007\n",
      "[[-3.19933033e-07 -3.11432362e-07 -2.96431208e-07 ... -3.04181814e-07\n",
      "  -3.07682085e-07 -3.07932091e-07]]\n",
      "7\n",
      "25007\n",
      "[[-3.28433681e-07 -3.34434152e-07 -3.19933033e-07 ... -3.04431820e-07\n",
      "  -2.94681072e-07 -3.02681684e-07]]\n",
      "4\n",
      "25004\n",
      "[[-3.10682321e-07 -3.14682627e-07 -3.07932091e-07 ... -3.03431749e-07\n",
      "  -2.94431067e-07 -2.79429889e-07]]\n",
      "8\n",
      "25008\n",
      "[[-2.77179718e-07 -3.01681614e-07 -3.08432126e-07 ... -3.05431914e-07\n",
      "  -3.14682627e-07 -2.97681308e-07]]\n",
      "9\n",
      "25009\n",
      "[[-2.99431443e-07 -3.01181579e-07 -2.97181273e-07 ... -2.90430737e-07\n",
      "  -2.95181108e-07 -3.01931643e-07]]\n",
      "0\n",
      "25000\n",
      "[[-3.06181955e-07 -3.11182356e-07 -3.00181508e-07 ... -3.05681920e-07\n",
      "  -2.94431067e-07 -2.85930395e-07]]\n",
      "1\n",
      "25001\n",
      "[[-2.84930325e-07 -2.96681237e-07 -3.14682627e-07 ... -3.11932397e-07\n",
      "  -3.11182356e-07 -3.06932020e-07]]\n",
      "2\n",
      "25002\n",
      "[[-3.14932632e-07 -3.24933410e-07 -3.26683545e-07 ... -2.84180260e-07\n",
      "  -2.82180119e-07 -2.66178870e-07]]\n",
      "0\n",
      "25000\n",
      "[[-2.67428970e-07 -2.76179647e-07 -2.89430666e-07 ... -2.68929076e-07\n",
      "  -2.47677445e-07 -2.54177952e-07]]\n",
      "2\n",
      "25002\n",
      "[[-2.72679377e-07 -2.74679542e-07 -2.75429583e-07 ... -2.55178022e-07\n",
      "  -2.71179271e-07 -2.92180872e-07]]\n",
      "8\n",
      "25008\n",
      "[[-3.02431679e-07 -3.00181508e-07 -2.79179883e-07 ... -3.17932868e-07\n",
      "  -3.08682156e-07 -3.00181508e-07]]\n",
      "3\n",
      "25003\n",
      "[[-2.93430972e-07 -3.07682085e-07 -3.16682768e-07 ... -2.23175550e-07\n",
      "  -2.13174772e-07 -2.07174325e-07]]\n",
      "4\n",
      "25004\n",
      "[[-2.18925238e-07 -2.29676056e-07 -2.33676362e-07 ... -2.80930018e-07\n",
      "  -2.78429818e-07 -2.68929076e-07]]\n",
      "7\n",
      "25007\n",
      "[[-2.65428805e-07 -2.73679447e-07 -2.86680460e-07 ... -2.71929312e-07\n",
      "  -2.72679377e-07 -2.80179954e-07]]\n",
      "5\n",
      "25005\n",
      "[[-2.82180119e-07 -2.61928558e-07 -2.59428358e-07 ... -1.50919998e-07\n",
      "  -1.50169933e-07 -1.49419880e-07]]\n",
      "5\n",
      "25005\n",
      "[[-1.44419491e-07 -1.26668119e-07 -1.24917984e-07 ... -1.48419797e-07\n",
      "  -1.51920068e-07 -1.41419256e-07]]\n",
      "7\n",
      "25007\n",
      "[[-1.29918373e-07 -1.28918290e-07 -1.38169003e-07 ... -2.71179271e-07\n",
      "  -2.81430054e-07 -2.91430831e-07]]\n",
      "0\n",
      "25000\n",
      "[[-2.97181273e-07 -2.88180566e-07 -2.79429889e-07 ... -2.58178258e-07\n",
      "  -2.67428970e-07 -2.48427510e-07]]\n",
      "3\n",
      "25003\n",
      "[[-2.38926768e-07 -2.43927169e-07 -2.44677210e-07 ... -2.66428900e-07\n",
      "  -2.64178729e-07 -2.62928629e-07]]\n",
      "7\n",
      "25007\n",
      "[[-2.67178941e-07 -2.55928087e-07 -2.59678364e-07 ... -2.53677917e-07\n",
      "  -2.65178800e-07 -2.73179412e-07]]\n",
      "3\n",
      "25003\n",
      "[[-2.67679000e-07 -2.45927310e-07 -2.43677139e-07 ... -2.82930160e-07\n",
      "  -2.76929712e-07 -3.02181649e-07]]\n",
      "4\n",
      "25004\n",
      "[[-3.09682226e-07 -3.05431914e-07 -3.08182120e-07 ... -2.83430195e-07\n",
      "  -2.84430289e-07 -2.88930631e-07]]\n",
      "9\n",
      "25009\n",
      "[[-3.14182591e-07 -3.10932326e-07 -2.94431067e-07 ... -2.83430195e-07\n",
      "  -2.87430525e-07 -2.82430124e-07]]\n",
      "0\n",
      "25000\n",
      "[[-2.68179035e-07 -2.54928017e-07 -2.57928228e-07 ... -2.60928464e-07\n",
      "  -2.53677917e-07 -2.57928228e-07]]\n",
      "7\n",
      "25007\n",
      "[[-2.77429748e-07 -2.74429512e-07 -2.65678835e-07 ... -2.91180801e-07\n",
      "  -2.92180872e-07 -3.02681684e-07]]\n",
      "8\n",
      "25008\n",
      "[[-3.14182591e-07 -3.09432220e-07 -3.05681920e-07 ... -2.67178941e-07\n",
      "  -2.58928323e-07 -2.60178423e-07]]\n",
      "1\n",
      "25001\n",
      "[[-2.90930796e-07 -3.01181579e-07 -2.94431067e-07 ... -2.79929948e-07\n",
      "  -2.87930560e-07 -2.92180872e-07]]\n",
      "1\n",
      "25001\n",
      "[[-2.85930395e-07 -2.86180425e-07 -2.72179341e-07 ... -2.66428900e-07\n",
      "  -2.74429512e-07 -2.90430737e-07]]\n",
      "6\n",
      "25006\n",
      "[[-3.12182426e-07 -3.11182356e-07 -3.25433445e-07 ... -2.94181037e-07\n",
      "  -3.14932632e-07 -3.21683168e-07]]\n",
      "1\n",
      "25001\n",
      "[[-2.93430972e-07 -2.93430972e-07 -3.01181579e-07 ... -3.04181814e-07\n",
      "  -3.22183204e-07 -3.19683003e-07]]\n",
      "1\n",
      "25001\n",
      "[[-2.99181414e-07 -2.97931314e-07 -3.00681543e-07 ... -3.03431749e-07\n",
      "  -3.05431914e-07 -2.99931479e-07]]\n",
      "3\n",
      "25003\n",
      "[[-3.10432291e-07 -3.10182261e-07 -3.04931855e-07 ... -3.21183109e-07\n",
      "  -3.10682321e-07 -3.04181814e-07]]\n",
      "3\n",
      "25003\n",
      "[[-2.96681237e-07 -2.84930325e-07 -2.92180872e-07 ... -2.88180566e-07\n",
      "  -2.75179577e-07 -2.82180119e-07]]\n",
      "4\n",
      "25004\n",
      "[[-3.08932185e-07 -3.01181579e-07 -3.19683003e-07 ... -3.10932326e-07\n",
      "  -3.09932256e-07 -2.97431278e-07]]\n",
      "9\n",
      "25009\n",
      "[[-2.65428805e-07 -2.74929547e-07 -2.78429818e-07 ... -2.78179812e-07\n",
      "  -2.92930937e-07 -3.09432220e-07]]\n",
      "0\n",
      "25000\n",
      "[[-3.11932397e-07 -3.14182591e-07 -3.09682226e-07 ... -3.43934870e-07\n",
      "  -3.24683380e-07 -3.02431679e-07]]\n",
      "1\n",
      "25001\n",
      "[[-3.09432220e-07 -2.88430595e-07 -2.82180119e-07 ... -3.12682462e-07\n",
      "  -3.04181814e-07 -3.08182120e-07]]\n",
      "9\n",
      "25009\n",
      "[[-3.13432527e-07 -3.09182191e-07 -3.22433209e-07 ... -2.94431067e-07\n",
      "  -2.88680601e-07 -2.92680931e-07]]\n",
      "5\n",
      "25005\n"
     ]
    }
   ],
   "source": [
    "saltedtrace ,noisysalt = salt.inject_raw_salt(mtraces,mtraces_info,channels)"
   ]
  },
  {
   "cell_type": "code",
   "execution_count": 26,
   "metadata": {},
   "outputs": [
    {
     "data": {
      "text/plain": [
       "array([-3.13432527e-07, -3.09182191e-07, -3.22433209e-07, ...,\n",
       "       -2.94431067e-07, -2.88680601e-07, -2.92680931e-07])"
      ]
     },
     "execution_count": 26,
     "metadata": {},
     "output_type": "execute_result"
    }
   ],
   "source": [
    "saltedtrace"
   ]
  },
  {
   "cell_type": "code",
   "execution_count": null,
   "metadata": {},
   "outputs": [],
   "source": []
  }
 ],
 "metadata": {
  "kernelspec": {
   "display_name": "pythonstandard",
   "language": "python",
   "name": "python3"
  },
  "language_info": {
   "codemirror_mode": {
    "name": "ipython",
    "version": 3
   },
   "file_extension": ".py",
   "mimetype": "text/x-python",
   "name": "python",
   "nbconvert_exporter": "python",
   "pygments_lexer": "ipython3",
   "version": "3.10.13"
  }
 },
 "nbformat": 4,
 "nbformat_minor": 2
}
