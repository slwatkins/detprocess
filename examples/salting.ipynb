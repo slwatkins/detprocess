{
 "cells": [
  {
   "cell_type": "code",
   "execution_count": 1,
   "metadata": {},
   "outputs": [
    {
     "name": "stderr",
     "output_type": "stream",
     "text": [
      "<frozen importlib._bootstrap>:241: RuntimeWarning: numpy.ndarray size changed, may indicate binary incompatibility. Expected 80 from C header, got 96 from PyObject\n"
     ]
    }
   ],
   "source": [
    "import argparse\n",
    "import numpy as np\n",
    "import os\n",
    "from math import log10, floor\n",
    "from datetime import datetime\n",
    "from glob import glob\n",
    "import stat\n",
    "import pickle\n",
    "import math\n",
    "import array\n",
    "import scipy\n",
    "from multiprocessing import Pool\n",
    "from itertools import repeat\n",
    "from pathlib import Path\n",
    "from scipy.signal import correlate\n",
    "from scipy.fft import ifft, fft, next_fast_len\n",
    "import qetpy as qp\n",
    "import matplotlib\n",
    "import matplotlib.pyplot as plt\n",
    "import pytesdaq.io.hdf5 as h5io\n",
    "import pytesdaq\n",
    "from detprocess.core import OptimumFilterTrigger, EventBuilder, Template, Noise, Salting\n",
    "from detprocess import FilterData\n",
    "from pprint import pprint\n",
    "from scipy import stats, signal, interpolate, special, integrate\n",
    "# ignore warnings\n",
    "import warnings\n",
    "warnings.filterwarnings('ignore')\n",
    "import pandas as pd\n",
    "import types\n",
    "import mendeleev\n",
    "import pickle as pkl\n",
    "import sys\n",
    "from darklim import constants"
   ]
  },
  {
   "cell_type": "code",
   "execution_count": 2,
   "metadata": {},
   "outputs": [],
   "source": [
    "salt = Salting(verbose=True)"
   ]
  },
  {
   "cell_type": "code",
   "execution_count": 3,
   "metadata": {},
   "outputs": [
    {
     "name": "stdout",
     "output_type": "stream",
     "text": [
      "INFO: Found total of 54 raw data file(s) from 6 different series number!\n",
      "INFO: Found total of 54 files from 6 different series number!\n",
      "INFO Node #1: Acquiring randoms for series I2_D20240712_T205736\n",
      "INFO Node #1: Acquiring randoms for series I2_D20240712_T213156\n",
      "INFO Node #1: Acquiring randoms for series I2_D20240712_T220616\n",
      "INFO Node #1: Acquiring randoms for series I2_D20240712_T224034\n",
      "INFO Node #1: Acquiring randoms for series I2_D20240712_T231454\n",
      "INFO Node #1: Acquiring randoms for series I2_D20240712_T234916\n",
      "INFO: Randoms acquisition done!\n"
     ]
    }
   ],
   "source": [
    "# continuous data directory, use argument \"series\" for list of series within continuous data directory\n",
    "continuous_data = '/data/ucb/pylelab/run47/raw/continuous_I2_D20240712_T205330'\n",
    "series = None\n",
    "# 1.  Generate randoms\n",
    "#  use either \"random_rate\" or nevents\n",
    "#  you can specify minimum separation between randoms (default=100msec) and from/to the edge of \n",
    "# the continuous data\n",
    "salt.generate_randoms(continuous_data, series=series, nevents=1000, min_separation_msec=100, ncores=1)"
   ]
  },
  {
   "cell_type": "code",
   "execution_count": 4,
   "metadata": {},
   "outputs": [
    {
     "data": {
      "text/html": [
       "<table>\n",
       "<thead>\n",
       "<tr><th>#                              </th><th>series_number  </th><th>event_number  </th><th>dump_number  </th><th>event_time  </th><th>series_start_time  </th><th>group_start_time  </th><th>fridge_run_start_time  </th><th>fridge_run_number  </th><th>trigger_index  </th><th>trigger_time  </th><th>trigger_type  </th><th>data_type  </th><th>group_name                     </th><th>processing_id  </th><th>trigger_prod_id  </th><th>trigger_prod_group_name  </th></tr>\n",
       "</thead>\n",
       "<tbody>\n",
       "<tr><td><i style='opacity: 0.6'>0</i>  </td><td>220240712205736</td><td>100001        </td><td>1            </td><td>1720843070  </td><td>15                 </td><td>260               </td><td>28670                  </td><td>47                 </td><td>2060708        </td><td>3.2971328     </td><td>3             </td><td>Test       </td><td>continuous_I2_D20240712_T205330</td><td>nan            </td><td>1                </td><td>nan                      </td></tr>\n",
       "<tr><td><i style='opacity: 0.6'>1</i>  </td><td>220240712205736</td><td>100002        </td><td>1            </td><td>1720843084  </td><td>29                 </td><td>274               </td><td>28684                  </td><td>47                 </td><td>4145944        </td><td>6.6335104     </td><td>3             </td><td>Test       </td><td>continuous_I2_D20240712_T205330</td><td>nan            </td><td>2                </td><td>nan                      </td></tr>\n",
       "<tr><td><i style='opacity: 0.6'>2</i>  </td><td>220240712205736</td><td>100003        </td><td>1            </td><td>1720843092  </td><td>37                 </td><td>282               </td><td>28692                  </td><td>47                 </td><td>3382150        </td><td>5.41144       </td><td>3             </td><td>Test       </td><td>continuous_I2_D20240712_T205330</td><td>nan            </td><td>3                </td><td>nan                      </td></tr>\n",
       "<tr><td><i style='opacity: 0.6'>3</i>  </td><td>220240712205736</td><td>100004        </td><td>1            </td><td>1720843102  </td><td>47                 </td><td>292               </td><td>28702                  </td><td>47                 </td><td>3295345        </td><td>5.272552      </td><td>3             </td><td>Test       </td><td>continuous_I2_D20240712_T205330</td><td>nan            </td><td>4                </td><td>nan                      </td></tr>\n",
       "<tr><td><i style='opacity: 0.6'>4</i>  </td><td>220240712205736</td><td>100005        </td><td>1            </td><td>1720843109  </td><td>54                 </td><td>299               </td><td>28709                  </td><td>47                 </td><td>1383828        </td><td>2.2141248     </td><td>3             </td><td>Test       </td><td>continuous_I2_D20240712_T205330</td><td>nan            </td><td>5                </td><td>nan                      </td></tr>\n",
       "<tr><td>...                            </td><td>...            </td><td>...           </td><td>...          </td><td>...         </td><td>...                </td><td>...               </td><td>...                    </td><td>...                </td><td>...            </td><td>...           </td><td>...           </td><td>...        </td><td>...                            </td><td>...            </td><td>...              </td><td>...                      </td></tr>\n",
       "<tr><td><i style='opacity: 0.6'>973</i></td><td>220240712234916</td><td>900008        </td><td>9            </td><td>1720855120  </td><td>1765               </td><td>12310             </td><td>40720                  </td><td>47                 </td><td>1015198        </td><td>1.6243168     </td><td>3             </td><td>Test       </td><td>continuous_I2_D20240712_T205330</td><td>nan            </td><td>159              </td><td>nan                      </td></tr>\n",
       "<tr><td><i style='opacity: 0.6'>974</i></td><td>220240712234916</td><td>900009        </td><td>9            </td><td>1720855132  </td><td>1777               </td><td>12322             </td><td>40732                  </td><td>47                 </td><td>2586059        </td><td>4.1376944     </td><td>3             </td><td>Test       </td><td>continuous_I2_D20240712_T205330</td><td>nan            </td><td>160              </td><td>nan                      </td></tr>\n",
       "<tr><td><i style='opacity: 0.6'>975</i></td><td>220240712234916</td><td>900010        </td><td>9            </td><td>1720855139  </td><td>1784               </td><td>12329             </td><td>40739                  </td><td>47                 </td><td>400405         </td><td>0.640648      </td><td>3             </td><td>Test       </td><td>continuous_I2_D20240712_T205330</td><td>nan            </td><td>161              </td><td>nan                      </td></tr>\n",
       "<tr><td><i style='opacity: 0.6'>976</i></td><td>220240712234916</td><td>900011        </td><td>9            </td><td>1720855155  </td><td>1800               </td><td>12345             </td><td>40755                  </td><td>47                 </td><td>4157907        </td><td>6.6526512     </td><td>3             </td><td>Test       </td><td>continuous_I2_D20240712_T205330</td><td>nan            </td><td>162              </td><td>nan                      </td></tr>\n",
       "<tr><td><i style='opacity: 0.6'>977</i></td><td>220240712234916</td><td>900012        </td><td>9            </td><td>1720855164  </td><td>1809               </td><td>12354             </td><td>40764                  </td><td>47                 </td><td>3883047        </td><td>6.2128752     </td><td>3             </td><td>Test       </td><td>continuous_I2_D20240712_T205330</td><td>nan            </td><td>163              </td><td>nan                      </td></tr>\n",
       "</tbody>\n",
       "</table>"
      ],
      "text/plain": [
       "#    series_number    event_number    dump_number    event_time    series_start_time    group_start_time    fridge_run_start_time    fridge_run_number    trigger_index    trigger_time    trigger_type    data_type    group_name                       processing_id    trigger_prod_id    trigger_prod_group_name\n",
       "0    220240712205736  100001          1              1720843070    15                   260                 28670                    47                   2060708          3.2971328       3               Test         continuous_I2_D20240712_T205330  nan              1                  nan\n",
       "1    220240712205736  100002          1              1720843084    29                   274                 28684                    47                   4145944          6.6335104       3               Test         continuous_I2_D20240712_T205330  nan              2                  nan\n",
       "2    220240712205736  100003          1              1720843092    37                   282                 28692                    47                   3382150          5.41144         3               Test         continuous_I2_D20240712_T205330  nan              3                  nan\n",
       "3    220240712205736  100004          1              1720843102    47                   292                 28702                    47                   3295345          5.272552        3               Test         continuous_I2_D20240712_T205330  nan              4                  nan\n",
       "4    220240712205736  100005          1              1720843109    54                   299                 28709                    47                   1383828          2.2141248       3               Test         continuous_I2_D20240712_T205330  nan              5                  nan\n",
       "...  ...              ...             ...            ...           ...                  ...                 ...                      ...                  ...              ...             ...             ...          ...                              ...              ...                ...\n",
       "973  220240712234916  900008          9              1720855120    1765                 12310               40720                    47                   1015198          1.6243168       3               Test         continuous_I2_D20240712_T205330  nan              159                nan\n",
       "974  220240712234916  900009          9              1720855132    1777                 12322               40732                    47                   2586059          4.1376944       3               Test         continuous_I2_D20240712_T205330  nan              160                nan\n",
       "975  220240712234916  900010          9              1720855139    1784                 12329               40739                    47                   400405           0.640648        3               Test         continuous_I2_D20240712_T205330  nan              161                nan\n",
       "976  220240712234916  900011          9              1720855155    1800                 12345               40755                    47                   4157907          6.6526512       3               Test         continuous_I2_D20240712_T205330  nan              162                nan\n",
       "977  220240712234916  900012          9              1720855164    1809                 12354               40764                    47                   3883047          6.2128752       3               Test         continuous_I2_D20240712_T205330  nan              163                nan"
      ]
     },
     "execution_count": 4,
     "metadata": {},
     "output_type": "execute_result"
    }
   ],
   "source": [
    "salt._dataframe"
   ]
  },
  {
   "cell_type": "code",
   "execution_count": 5,
   "metadata": {},
   "outputs": [
    {
     "name": "stdout",
     "output_type": "stream",
     "text": [
      "INFO: Loading filter data from file /home/michael/salting/run46tests/pylelab_run46_analysis/didvMv3025pcRegular.hdf5\n",
      "IV results isn't none!\n"
     ]
    }
   ],
   "source": [
    "#salt.set_iv_didv_results_from_file(\"/data/ucb/pylelab/run46/filterdata/continuous_I2_D20240622_T142759/didv_analysis_D20240919_T093247.hdf5\")\n",
    "salt.set_iv_didv_results_from_file(\"/home/michael/salting/run46tests/pylelab_run46_analysis/didvMv3025pcRegular.hdf5\",poles=3)"
   ]
  },
  {
   "cell_type": "code",
   "execution_count": 6,
   "metadata": {},
   "outputs": [],
   "source": [
    "asdf = salt.get_didv_results(channel='Mv3025pcRegular',poles=3)"
   ]
  },
  {
   "cell_type": "code",
   "execution_count": 7,
   "metadata": {},
   "outputs": [
    {
     "data": {
      "image/png": "[encoded data removed]",
      "text/plain": [
       "<Figure size 800x500 with 1 Axes>"
      ]
     },
     "metadata": {},
     "output_type": "display_data"
    }
   ],
   "source": [
    "trace_length_msec = 20\n",
    "pretrigger_length_msec = 10\n",
    "fs = 1.25e6\n",
    "# instantiate template object\n",
    "template = Template()\n",
    "\n",
    "# Template Melange 1%1\n",
    "amplitudes = [1.67e-15, 1.32e-15, 2.39e-17]\n",
    "fall_times = [44.6e-6, 147.5e-6, 3872.9e-6]\n",
    "rise_times = [8.79e-6, 8.79e-6, 8.79e-6]\n",
    "\n",
    "template.create_template_sum_twopoles('Mv3025pcRegular', \n",
    "                                      amplitudes, rise_times, fall_times,\n",
    "                                      sample_rate=fs,\n",
    "                                      trace_length_msec=trace_length_msec,\n",
    "                                      pretrigger_length_msec=pretrigger_length_msec) \n",
    "\n",
    "\n",
    "# get templates array\n",
    "template_Mv3025pcRegular, time_array = template.get_template('Mv3025pcRegular')\n",
    "\n",
    "\n",
    "# display\n",
    "template.plot_template(['Mv3025pcRegular'], xmin=9, xmax=12)"
   ]
  },
  {
   "cell_type": "code",
   "execution_count": 8,
   "metadata": {},
   "outputs": [],
   "source": [
    "salt.set_template('Mv3025pcRegular', template_Mv3025pcRegular, sample_rate=1.25e6, \n",
    "                          pretrigger_length_msec=10)"
   ]
  },
  {
   "cell_type": "code",
   "execution_count": 9,
   "metadata": {},
   "outputs": [
    {
     "data": {
      "image/png": "[encoded data removed]",
      "text/plain": [
       "<Figure size 800x500 with 1 Axes>"
      ]
     },
     "metadata": {},
     "output_type": "display_data"
    }
   ],
   "source": [
    "salt.plot_template(channels='Mv3025pcRegular')"
   ]
  },
  {
   "cell_type": "code",
   "execution_count": 10,
   "metadata": {},
   "outputs": [
    {
     "data": {
      "text/plain": [
       "(array([-3.6452128e-08-0.0000000e+00j, -3.6464787e-08-8.7276181e-10j,\n",
       "        -3.6502591e-08-1.7429508e-09j, ..., -3.6565027e-08+2.6080507e-09j,\n",
       "        -3.6502591e-08+1.7429508e-09j, -3.6464787e-08+8.7276181e-10j],\n",
       "       dtype=complex64),\n",
       " array([   0.,   50.,  100., ..., -150., -100.,  -50.]))"
      ]
     },
     "execution_count": 10,
     "metadata": {},
     "output_type": "execute_result"
    }
   ],
   "source": [
    "salt.get_dpdi(channel='Mv3025pcRegular',poles=3)"
   ]
  },
  {
   "cell_type": "code",
   "execution_count": 11,
   "metadata": {},
   "outputs": [],
   "source": [
    "def helmfactor(er, tm='Si'):\n",
    "    \"\"\"\n",
    "    The analytic nuclear form factor via the Helm approximation.\n",
    "\n",
    "    Parameters\n",
    "    ----------\n",
    "    er : array_like\n",
    "        The recoil energy to use in the form factor calculation, units of keV.\n",
    "    tm : str, int, optional\n",
    "        The target material of the detector. Can be passed as either the atomic symbol, the\n",
    "        atomic number, or the full name of the element. Default is 'Si'.\n",
    "\n",
    "    Returns\n",
    "    -------\n",
    "    ffactor2 : ndarray\n",
    "        The square of the dimensionless form factor for the inputted recoil energies and target\n",
    "        material.\n",
    "\n",
    "    Notes\n",
    "    -----\n",
    "    This form factor uses Helm's approximation to the charge density of the nucleus, as explained by\n",
    "    Lewin and Smith in section 4 of their paper:\n",
    "        - https://doi.org/10.1016/S0927-6505(96)00047-3\n",
    "\n",
    "    \"\"\"\n",
    "\n",
    "    er = np.atleast_1d(er)\n",
    "\n",
    "    hbarc = constants.hbar * constants.c / constants.e * 1e-6 * 1e15 # [MeV fm]\n",
    "    mn = constants.atomic_mass * constants.c**2 / constants.e * 1e-9 # 1 amu in [GeV]\n",
    "    atomic_weight = mendeleev.element(tm).atomic_weight\n",
    "\n",
    "    # dimensionless momentum transfer\n",
    "    q = np.sqrt(2 * mn * atomic_weight * er) # [MeV]\n",
    "\n",
    "    # using the parameters defined in L&S\n",
    "    s = 0.9 # [fm]\n",
    "    a = 0.52 # [fm]\n",
    "    c = 1.23 * atomic_weight**(1 / 3) - 0.60 # [fm]\n",
    "\n",
    "    # approximation of rn [Eq. 4.11 of L&S]\n",
    "    rn = np.sqrt(c**2 + 7 / 3 * np.pi**2 * a**2 - 5 * s**2)\n",
    "\n",
    "    qrn = q * rn / hbarc\n",
    "    qs = q * s / hbarc\n",
    "\n",
    "    # Helm approximation of form facter [Eq. 4.7 of L&S]\n",
    "    ffactor2 = (3 * special.spherical_jn(1, qrn) / qrn * np.exp(-qs**2 / 2))**2 \n",
    "\n",
    "    return ffactor2\n",
    "\n",
    "def _mixed_tm(tm):\n",
    "    \"\"\"\n",
    "    Helper function for extracting the element names and number\n",
    "    of them from an inputted chemical formula.\n",
    "\n",
    "    \"\"\"\n",
    "\n",
    "    pos = [i for i, e in enumerate(tm + 'A') if e.isupper()]\n",
    "    parts = [tm[pos[j]:pos[j + 1]] for j in range(len(pos) - 1)]\n",
    "    tms = []\n",
    "    for item in parts:\n",
    "        for ii, letter in enumerate(item):\n",
    "            if letter.isdigit():\n",
    "                tm_temp = [item[:ii], int(item[ii:])]\n",
    "                break\n",
    "            elif ii == len(item) - 1:\n",
    "                tm_temp = [item, 1]\n",
    "        tms.append(tm_temp)\n",
    "\n",
    "    return tms\n",
    "\n",
    "def drde(q, m_dm, sig0, tm='Si'):\n",
    "    \"\"\"\n",
    "    The differential event rate of an expected WIMP.\n",
    "\n",
    "    Parameters\n",
    "    ----------\n",
    "    q : array_like\n",
    "        The recoil energies at which to calculate the dark matter differential\n",
    "        event rate. Expected units are keV.\n",
    "    m_dm : float\n",
    "        The dark matter mass at which to calculate the expected differential\n",
    "        event rate. Expected units are GeV.\n",
    "    sig0 : float\n",
    "        The dark matter cross section at which to calculate the expected differential\n",
    "        event rate. Expected units are cm^2.\n",
    "    tm : str, int, optional\n",
    "        The target material of the detector. Must be passed as the atomic\n",
    "        symbol. Can also pass a compound, but must be its chemical formula\n",
    "        (e.g. sapphire is 'Al2O3'). Default value is 'Si'.\n",
    "\n",
    "    Returns\n",
    "    -------\n",
    "    rate : ndarray\n",
    "        The expected dark matter differential event rate for the inputted recoil energies,\n",
    "        dark matter mass, and dark matter cross section. Units are events/keV/kg/day, \n",
    "        or \"DRU\".\n",
    "\n",
    "    Notes\n",
    "    -----\n",
    "    The derivation of the expected dark matter differential event rate is done in Lewin and\n",
    "    Smith's paper \"Review of mathematics, numerical factors, and corrections dark matter experiments\n",
    "    based on elastic nuclear recoil\", which can be found here:\n",
    "        - https://doi.org/10.1016/S0927-6505(96)00047-3\n",
    "\n",
    "    The derivation by L&S is incomplete, see Eq. 22 of R. Schnee's paper \"Introduction to Dark Matter\n",
    "    Experiments\", which includes the correct rate for `vmin` in the range (`vesc` - `ve`, `vesc` + `ve`)\n",
    "        - https://arxiv.org/abs/1101.5205\n",
    "\n",
    "    Another citation for this correction can be found in Savage, et. al.'s paper \"Compatibility of\n",
    "    DAMA/LIBRA dark matter detection with other searches\", see Eq. 19. This is a different parameterization,\n",
    "    but is the same solution.\n",
    "        - https://doi.org/10.1088/1475-7516/2009/04/010\n",
    "\n",
    "    \"\"\"\n",
    "\n",
    "    totalmassnum = sum([mendeleev.element(t).mass_number * num for t, num in _mixed_tm(tm)])\n",
    "    rate = sum(\n",
    "        [mendeleev.element(t).mass_number * num / totalmassnum * _drde(\n",
    "            q, m_dm, sig0, t,\n",
    "        ) for t, num in _mixed_tm(tm)]\n",
    "    )\n",
    "\n",
    "    return rate\n",
    "\n",
    "\n",
    "def _drde(q, m_dm, sig0, tm):\n",
    "    \"\"\"\n",
    "    The differential event rate of an expected WIMP for a single target material.\n",
    "    See `drde` for the full explanation of each parameter.\n",
    "\n",
    "    \"\"\"\n",
    "\n",
    "    q = np.atleast_1d(q) # convert to recoil energy in keV\n",
    "\n",
    "    v0 = constants.v0_sun # sun velocity about galactic center [m/s]\n",
    "    ve = constants.ve_orbital # mean orbital velocity of Earth [m/s]\n",
    "    vesc = constants.vesc_galactic # galactic escape velocity [m/s]\n",
    "    rho0 = constants.rho0_dm # local DM density [GeV/cm^3]\n",
    "\n",
    "    a = mendeleev.element(tm).atomic_weight\n",
    "    mn = constants.atomic_mass * constants.c**2 / constants.e * 1e-9 # nucleon mass (1 amu) [GeV]\n",
    "    mtarget = a * mn # nucleon mass for tm [GeV]\n",
    "    r = 4 * m_dm * mtarget / (m_dm + mtarget)**2 # unitless reduced mass parameter\n",
    "    e0 = 0.5 * m_dm * (v0 / constants.c)**2 * 1e6 # kinetic energy of dark matter [keV]\n",
    "    vmin = np.sqrt(q / (e0 * r)) * v0 # DM velocity for smallest particle energy to give recoil energy q\n",
    "\n",
    "    form_factor = helmfactor(q, tm=tm)\n",
    "\n",
    "    # spin-independent cross section on entire nucleus\n",
    "    sigma = form_factor * sig0 * a**2 * (mtarget/(m_dm + mtarget))**2 / (mn / (m_dm + mn))**2\n",
    "\n",
    "    # event rate per unit mass for ve= 0 and vesc = infinity [Eq. 3.1 of L&S]\n",
    "    r0con = 2 * constants.N_A / np.sqrt(np.pi) * 1e5 * constants.day\n",
    "    r0 = r0con * sigma * rho0 * v0 / (a * m_dm)\n",
    "\n",
    "    # ratio of k0/k1 [Eq. 2.2 of L&S]\n",
    "    k0_over_k1 = 1 / (special.erf(vesc / v0) - 2 / np.sqrt(np.pi) * vesc / v0 * np.exp(-(vesc / v0)**2))\n",
    "\n",
    "    # rate integrated to infinity [Eq. 3.12 of L&S]\n",
    "    rate_inf = r0 * np.sqrt(np.pi) * v0 / (4 * e0 * r * ve) * (special.erf((vmin + ve) / v0) - special.erf((vmin - ve) / v0))\n",
    "    # rate integrated to vesc [Eq. 3.13 of L&S]\n",
    "    rate_vesc = k0_over_k1 * (rate_inf - r0 / (e0 * r) * np.exp(-(vesc / v0)**2))\n",
    "\n",
    "    # rate calculation correction to L&S for `vmin` in range (`vesc` - `ve`, `vesc` + `ve`) [Eq. 22 of Schnee]\n",
    "    rate_inf2 = r0 * np.sqrt(np.pi) * v0 / (4 * e0 * r * ve) * (special.erf(vesc / v0) - special.erf((vmin - ve) / v0))\n",
    "    rate_high_vmin = k0_over_k1 * (rate_inf2 - r0 / (e0 * r) * (vesc + ve - vmin) / (2 * ve) * np.exp(-(vesc / v0)**2))\n",
    "\n",
    "    # combine the calculations based on their regions of validity\n",
    "    rate = np.zeros(q.shape)\n",
    "    rate[(vmin < vesc - ve) & (vmin > 0)] = rate_vesc[(vmin < vesc - ve) & (vmin > 0)]\n",
    "    rate[(vmin > vesc - ve) & (vmin < vesc + ve)] = rate_high_vmin[(vmin > vesc - ve) & (vmin < vesc + ve)]\n",
    "\n",
    "    return rate"
   ]
  },
  {
   "cell_type": "code",
   "execution_count": 12,
   "metadata": {},
   "outputs": [],
   "source": [
    "dmrange=np.geomspace(1e-4, 1e-1, num=75)\n",
    "rate = drde(dmrange, 0.1, 1e-35, tm='Si')"
   ]
  },
  {
   "cell_type": "code",
   "execution_count": 13,
   "metadata": {},
   "outputs": [
    {
     "data": {
      "image/png": "[encoded data removed]",
      "text/plain": [
       "<Figure size 640x480 with 1 Axes>"
      ]
     },
     "metadata": {},
     "output_type": "display_data"
    }
   ],
   "source": [
    "plt.plot(dmrange,rate)\n",
    "plt.xscale(\"log\")\n",
    "plt.yscale(\"log\")"
   ]
  },
  {
   "cell_type": "code",
   "execution_count": 14,
   "metadata": {},
   "outputs": [],
   "source": [
    "dmrange = np.geomspace(1e-4, 1e-1, num=75)\n",
    "dmrate = lambda x: drde(x, 0.1, 1e-35, tm='Si')"
   ]
  },
  {
   "cell_type": "code",
   "execution_count": 15,
   "metadata": {},
   "outputs": [],
   "source": [
    "test = salt.sample_DMpdf(dmrate,[1e-4,1e-1],750,1000)"
   ]
  },
  {
   "cell_type": "code",
   "execution_count": 16,
   "metadata": {},
   "outputs": [],
   "source": [
    "sdf = salt.get_DMenergies"
   ]
  },
  {
   "cell_type": "code",
   "execution_count": 24,
   "metadata": {},
   "outputs": [
    {
     "data": {
      "text/plain": [
       "<bound method Salting.get_DMenergies of <detprocess.core.salting.Salting object at 0x7f776814dfc0>>"
      ]
     },
     "execution_count": 24,
     "metadata": {},
     "output_type": "execute_result"
    }
   ],
   "source": [
    "sdf"
   ]
  },
  {
   "cell_type": "code",
   "execution_count": 17,
   "metadata": {},
   "outputs": [
    {
     "data": {
      "text/plain": [
       "array([0.00024108, 0.00012973, 0.00039207, 0.00017994, 0.00145725,\n",
       "       0.00116776, 0.00201633, 0.00034279, 0.00159909, 0.00137649,\n",
       "       0.00140967, 0.00041204, 0.00014117, 0.00019003, 0.00129189,\n",
       "       0.00096031, 0.00011889, 0.00090448, 0.00154693, 0.00160356,\n",
       "       0.00161465, 0.00053121, 0.00022044, 0.00035169, 0.00016218,\n",
       "       0.00355228, 0.00087159, 0.00066224, 0.00042387, 0.00081859,\n",
       "       0.00107381, 0.00036042, 0.00110997, 0.00157578, 0.00115001,\n",
       "       0.00036969, 0.00014626, 0.00099652, 0.00076548, 0.0008552 ,\n",
       "       0.00124029, 0.00052958, 0.00071091, 0.00063703, 0.00073637,\n",
       "       0.00108094, 0.00136739, 0.00027906, 0.00012174, 0.00048098,\n",
       "       0.00031168, 0.00033467, 0.00029535, 0.0015823 , 0.00151532,\n",
       "       0.0019373 , 0.00019445, 0.00201907, 0.00161745, 0.00162071,\n",
       "       0.00084525, 0.00087545, 0.00038234, 0.00032672, 0.00190777,\n",
       "       0.0006118 , 0.00083896, 0.00057998, 0.00067429, 0.00043456,\n",
       "       0.00016495, 0.00094712, 0.00218645, 0.00197327, 0.00096909,\n",
       "       0.00046216, 0.00127513, 0.00087833, 0.000393  , 0.00119942,\n",
       "       0.00058803, 0.00045777, 0.00057494, 0.00076921, 0.00355285,\n",
       "       0.0002221 , 0.00082793, 0.00038025, 0.00058845, 0.00098033,\n",
       "       0.00066916, 0.00036353, 0.00034328, 0.00050188, 0.00153163,\n",
       "       0.00086888, 0.000185  , 0.00034298, 0.00052464, 0.00036823,\n",
       "       0.00080686, 0.00045191, 0.00021895, 0.00070277, 0.00059736,\n",
       "       0.00037761, 0.00042847, 0.00024507, 0.0010541 , 0.00046166,\n",
       "       0.002125  , 0.00110185, 0.00074447, 0.00041759, 0.00131122,\n",
       "       0.00068372, 0.00016484, 0.0003611 , 0.00090469, 0.00088589,\n",
       "       0.00079006, 0.00070618, 0.00247155, 0.00076507, 0.00018719,\n",
       "       0.00076732, 0.00047002, 0.00087794, 0.00094094, 0.00049779,\n",
       "       0.00031184, 0.00111695, 0.00180125, 0.0001815 , 0.0001323 ,\n",
       "       0.00102383, 0.00022754, 0.00086518, 0.00042192, 0.00148165,\n",
       "       0.0008317 , 0.00021948, 0.0008901 , 0.00023861, 0.00054214,\n",
       "       0.00022409, 0.00088224, 0.00124627, 0.00112426, 0.00016387,\n",
       "       0.00025891, 0.00039194, 0.00123257, 0.00017918, 0.00052703,\n",
       "       0.00040188, 0.00059967, 0.00050657, 0.00063872, 0.00040522,\n",
       "       0.00128852, 0.00067641, 0.00059159, 0.00053355, 0.00052594,\n",
       "       0.00046781, 0.00026247, 0.0009396 , 0.00021857, 0.00011663,\n",
       "       0.0025598 , 0.00154864, 0.00039605, 0.00085269, 0.00075777,\n",
       "       0.00062854, 0.00035876, 0.00020837, 0.00045913, 0.00155437,\n",
       "       0.00033149, 0.00071985, 0.00090718, 0.00034242, 0.00118453,\n",
       "       0.00033843, 0.00054931, 0.00023197, 0.00131514, 0.00168022,\n",
       "       0.00097839, 0.00042021, 0.00025421, 0.00067665, 0.00020542,\n",
       "       0.00055755, 0.00079242, 0.00015267, 0.0016479 , 0.00087314,\n",
       "       0.00019702, 0.00023461, 0.00103826, 0.00012024, 0.00020454,\n",
       "       0.0009902 , 0.00088982, 0.00016874, 0.00153033, 0.00041313,\n",
       "       0.0014889 , 0.00015559, 0.00108249, 0.0003431 , 0.00035591,\n",
       "       0.00203462, 0.00054614, 0.00014712, 0.00113612, 0.00064257,\n",
       "       0.00013623, 0.00129348, 0.00078862, 0.00015167, 0.00018821,\n",
       "       0.00065727, 0.00061295, 0.00071014, 0.00019811, 0.00014831,\n",
       "       0.00055133, 0.00016072, 0.00020315, 0.00136788, 0.00117536,\n",
       "       0.00126279, 0.00023233, 0.0009105 , 0.00036353, 0.00034858,\n",
       "       0.00036809, 0.00010614, 0.00162006, 0.00118027, 0.00073539,\n",
       "       0.00088012, 0.00089653, 0.0012319 , 0.00041769, 0.00041933,\n",
       "       0.00035398, 0.00050033, 0.00074269, 0.00026868, 0.00015427,\n",
       "       0.00168591, 0.00059003, 0.00053745, 0.00012149, 0.00138388,\n",
       "       0.00109948, 0.00028459, 0.00135875, 0.00033188, 0.00158241,\n",
       "       0.00035166, 0.00189614, 0.00052004, 0.00038832, 0.00040174,\n",
       "       0.00135582, 0.00052308, 0.00030463, 0.00082459, 0.00012896,\n",
       "       0.00039303, 0.00029356, 0.00014596, 0.00041096, 0.00019254,\n",
       "       0.00049213, 0.0004913 , 0.00054846, 0.00189484, 0.00037119,\n",
       "       0.0001761 , 0.00251195, 0.00066224, 0.00076677, 0.00133329,\n",
       "       0.00053725, 0.00013477, 0.00156099, 0.00016417, 0.0006649 ,\n",
       "       0.0006574 , 0.0025951 , 0.00136757, 0.00046262, 0.00056355,\n",
       "       0.00135183, 0.00055095, 0.0007907 , 0.00245545, 0.00031892,\n",
       "       0.001144  , 0.0005015 , 0.00018216, 0.00045903, 0.00050629,\n",
       "       0.00054276, 0.0012509 , 0.00032593, 0.00077401, 0.00203039,\n",
       "       0.00032186, 0.00032748, 0.00114401, 0.00079805, 0.00010994,\n",
       "       0.00119234, 0.00067793, 0.00050744, 0.00090233, 0.00156598,\n",
       "       0.00226661, 0.00092868, 0.00071417, 0.00072035, 0.00072616,\n",
       "       0.00089817, 0.00015683, 0.00060828, 0.00053027, 0.00043482,\n",
       "       0.00068674, 0.00106898, 0.00029024, 0.00023874, 0.00143311,\n",
       "       0.00053718, 0.00054523, 0.00036419, 0.00161137, 0.00012973,\n",
       "       0.00105763, 0.0003481 , 0.00031533, 0.00024355, 0.00071968,\n",
       "       0.00053398, 0.00014888, 0.00024802, 0.00073034, 0.00082606,\n",
       "       0.00023041, 0.00025623, 0.00066296, 0.00012515, 0.00068451,\n",
       "       0.00054373, 0.00200637, 0.00093123, 0.00033998, 0.00075875,\n",
       "       0.00060684, 0.00246903, 0.00011685, 0.00021377, 0.00018645,\n",
       "       0.00012704, 0.00027333, 0.00010922, 0.00047791, 0.00200885,\n",
       "       0.00057041, 0.00082891, 0.00062548, 0.00010302, 0.00075032,\n",
       "       0.00249064, 0.00057602, 0.00031486, 0.00043637, 0.00020967,\n",
       "       0.0006195 , 0.00029116, 0.00079274, 0.00210436, 0.00076717,\n",
       "       0.00023766, 0.00018252, 0.00013007, 0.00017644, 0.00079992,\n",
       "       0.00059763, 0.0020989 , 0.0009594 , 0.00172269, 0.00151005,\n",
       "       0.00098783, 0.00114857, 0.00011597, 0.0002054 , 0.00021917,\n",
       "       0.00020923, 0.00081588, 0.00038767, 0.00110027, 0.00233699,\n",
       "       0.00055707, 0.00030056, 0.00085066, 0.00033266, 0.00066529,\n",
       "       0.00054277, 0.00105621, 0.00057038, 0.00026457, 0.00044586,\n",
       "       0.00192133, 0.00093617, 0.00040531, 0.00048734, 0.00083929,\n",
       "       0.00047082, 0.00033552, 0.00014484, 0.00051966, 0.00056755,\n",
       "       0.00107017, 0.00097516, 0.00041084, 0.00118588, 0.00053924,\n",
       "       0.00087168, 0.00030289, 0.00043994, 0.00021554, 0.00013072,\n",
       "       0.00150225, 0.00142822, 0.00097572, 0.00045464, 0.00031534,\n",
       "       0.00178472, 0.00119039, 0.00120381, 0.0002202 , 0.00058782,\n",
       "       0.00099961, 0.00028757, 0.00024991, 0.00050274, 0.00054716,\n",
       "       0.00022945, 0.00111535, 0.00080832, 0.00022917, 0.00106897,\n",
       "       0.00111907, 0.00032306, 0.00163624, 0.00084796, 0.0002719 ,\n",
       "       0.00121282, 0.00162572, 0.00039104, 0.00152551, 0.00079616,\n",
       "       0.0007679 , 0.00059083, 0.00065341, 0.00080007, 0.0011488 ,\n",
       "       0.00127646, 0.00100646, 0.00079816, 0.00039659, 0.00167397,\n",
       "       0.00050288, 0.00088937, 0.00194672, 0.00020822, 0.00120941,\n",
       "       0.00033183, 0.00022236, 0.00010532, 0.00023558, 0.00303043,\n",
       "       0.00072783, 0.00095616, 0.00134816, 0.00083933, 0.00024766,\n",
       "       0.00132319, 0.00012083, 0.00021701, 0.00196022, 0.00044205,\n",
       "       0.0015285 , 0.00044806, 0.00029514, 0.00123706, 0.00039566,\n",
       "       0.00022841, 0.00099078, 0.00232994, 0.00183397, 0.00015744,\n",
       "       0.00092787, 0.00019223, 0.0003716 , 0.00116387, 0.0034252 ,\n",
       "       0.0008517 , 0.00034016, 0.00102557, 0.00085768, 0.00014207,\n",
       "       0.0001573 , 0.00028572, 0.00166175, 0.00036825, 0.0001186 ,\n",
       "       0.00102694, 0.00183623, 0.00118379, 0.00094314, 0.00031974,\n",
       "       0.0020777 , 0.00010676, 0.00010171, 0.00091044, 0.00068513,\n",
       "       0.00046863, 0.00010116, 0.00050864, 0.00204528, 0.00100062,\n",
       "       0.00012667, 0.0005936 , 0.0002487 , 0.00245848, 0.00039024,\n",
       "       0.00133079, 0.0002914 , 0.00036573, 0.00074953, 0.00042612,\n",
       "       0.00068108, 0.00114289, 0.00050996, 0.00180932, 0.0006723 ,\n",
       "       0.00089512, 0.00046267, 0.00088962, 0.00125042, 0.00071834,\n",
       "       0.00062903, 0.00079913, 0.000201  , 0.00015954, 0.0009561 ,\n",
       "       0.00036978, 0.00211157, 0.00039781, 0.00079031, 0.0001382 ,\n",
       "       0.0011983 , 0.00038364, 0.00020352, 0.00072514, 0.00015146,\n",
       "       0.00059036, 0.00145853, 0.00013794, 0.00028616, 0.00041217,\n",
       "       0.00192778, 0.00218239, 0.00142558, 0.00013835, 0.00016427,\n",
       "       0.00300287, 0.00068574, 0.00016204, 0.00101388, 0.00116753,\n",
       "       0.00112634, 0.00056647, 0.00159223, 0.00012412, 0.00013593,\n",
       "       0.00100887, 0.00063232, 0.00051296, 0.00018736, 0.00019586,\n",
       "       0.00181008, 0.00028483, 0.00244724, 0.00033133, 0.00068379,\n",
       "       0.000352  , 0.00103866, 0.0001907 , 0.00010739, 0.00015943,\n",
       "       0.00056495, 0.00017852, 0.00127056, 0.00028383, 0.0010156 ,\n",
       "       0.00176027, 0.00066441, 0.00028802, 0.00014379, 0.00038417,\n",
       "       0.00017115, 0.00034208, 0.00083073, 0.00118968, 0.00035156,\n",
       "       0.00051956, 0.00087372, 0.00032964, 0.00016851, 0.0002044 ,\n",
       "       0.00216804, 0.00064471, 0.00023936, 0.00113464, 0.00298226,\n",
       "       0.00030846, 0.00018906, 0.0007301 , 0.00070845, 0.00048014,\n",
       "       0.0003844 , 0.00012471, 0.00160461, 0.00019088, 0.00027599,\n",
       "       0.0002277 , 0.00025239, 0.00107158, 0.00099478, 0.0006193 ,\n",
       "       0.00132626, 0.000672  , 0.0001043 , 0.00145005, 0.00046884,\n",
       "       0.00077668, 0.00064408, 0.00085297, 0.00114423, 0.00025345,\n",
       "       0.00147128, 0.00054968, 0.00030014, 0.00258544, 0.00096327,\n",
       "       0.00015749, 0.00020369, 0.00010412, 0.00020654, 0.00057511,\n",
       "       0.00085308, 0.00053274, 0.00076044, 0.00049451, 0.00044612,\n",
       "       0.00059224, 0.0005061 , 0.00110993, 0.00022444, 0.00105366,\n",
       "       0.00197349, 0.00197029, 0.00046065, 0.00079231, 0.00064052,\n",
       "       0.00035111, 0.00012367, 0.00053414, 0.00104073, 0.00047083,\n",
       "       0.00083243, 0.00028008, 0.00031308, 0.00060588, 0.00056427,\n",
       "       0.00148192, 0.00032115, 0.00047275, 0.00038681, 0.00050104,\n",
       "       0.00025027, 0.00134658, 0.00035734, 0.00090475, 0.00044145,\n",
       "       0.00033048, 0.00053356, 0.0001836 , 0.00059569, 0.00110183,\n",
       "       0.00034616, 0.00074913, 0.00052706, 0.00022337, 0.00087005,\n",
       "       0.00158296, 0.00026233, 0.00026898, 0.00030296, 0.00021064,\n",
       "       0.00065542, 0.000113  , 0.00044019, 0.00060842, 0.00013173,\n",
       "       0.00053076, 0.00088198, 0.00059235, 0.00083761, 0.00031698,\n",
       "       0.00083659, 0.00166116, 0.00119453, 0.00044555, 0.00013433,\n",
       "       0.00066138, 0.00036187, 0.00094879, 0.00037308, 0.00053722,\n",
       "       0.00013303, 0.00061289, 0.00019309, 0.00019987, 0.00138272,\n",
       "       0.00016793, 0.00222055, 0.00094482, 0.00183005, 0.00042316])"
      ]
     },
     "execution_count": 17,
     "metadata": {},
     "output_type": "execute_result"
    }
   ],
   "source": [
    "test"
   ]
  },
  {
   "cell_type": "code",
   "execution_count": 19,
   "metadata": {},
   "outputs": [
    {
     "name": "stdout",
     "output_type": "stream",
     "text": [
      "INFO: Found total of 54 raw data file(s) from 6 different series number!\n",
      "INFO: Found total of 54 files from 6 different series number!\n",
      "INFO Node #1: Acquiring randoms for series I2_D20240712_T205736\n",
      "INFO Node #1: Acquiring randoms for series I2_D20240712_T213156\n",
      "INFO Node #1: Acquiring randoms for series I2_D20240712_T220616\n",
      "INFO Node #1: Acquiring randoms for series I2_D20240712_T224034\n",
      "INFO Node #1: Acquiring randoms for series I2_D20240712_T231454\n",
      "INFO Node #1: Acquiring randoms for series I2_D20240712_T234916\n",
      "INFO: Randoms acquisition done!\n",
      "WARNING: Some noise data have been previously saved. Use \"describe()\" to check. If needed clear data using \"clear_data(channels=None, tag=None)\" function!\n",
      "#    Salt_amplitude                                       Salt_energy\n",
      "0    'array([0.00000000e+00, 0.00000000e+00, 0.000000...  'array([0.00000000e+00, 0.00000000e+00, 0.000000...\n",
      "1    'array([0.00000000e+00, 0.00000000e+00, 0.000000...  'array([0.00000000e+00, 0.00000000e+00, 0.000000...\n",
      "2    'array([0.00000000e+00, 0.00000000e+00, 0.000000...  'array([0.00000000e+00, 0.00000000e+00, 0.000000...\n",
      "3    'array([0.00000000e+00, 0.00000000e+00, 0.000000...  'array([0.00000000e+00, 0.00000000e+00, 0.000000...\n",
      "4    'array([0.00000000e+00, 0.00000000e+00, 0.000000...  'array([0.00000000e+00, 0.00000000e+00, 0.000000...\n",
      "...  ...                                                  ...\n",
      "97   'array([0.00000000e+00, 0.00000000e+00, 0.000000...  'array([0.00000000e+00, 0.00000000e+00, 0.000000...\n",
      "98   'array([0.00000000e+00, 0.00000000e+00, 0.000000...  'array([0.00000000e+00, 0.00000000e+00, 0.000000...\n",
      "99   'array([0.00000000e+00, 0.00000000e+00, 0.000000...  'array([0.00000000e+00, 0.00000000e+00, 0.000000...\n",
      "100  'array([0.00000000e+00, 0.00000000e+00, 0.000000...  'array([0.00000000e+00, 0.00000000e+00, 0.000000...\n",
      "101  'array([0.00000000e+00, 0.00000000e+00, 0.000000...  'array([0.00000000e+00, 0.00000000e+00, 0.000000...\n"
     ]
    }
   ],
   "source": [
    "test = salt.generate_raw_salt(102,energies=test,channels=['Mv3025pcRegular'],Usespectrum = False,cont_data = continuous_data)"
   ]
  },
  {
   "cell_type": "code",
   "execution_count": 20,
   "metadata": {},
   "outputs": [
    {
     "data": {
      "text/plain": [
       "[array([0.00000000e+00, 0.00000000e+00, 0.00000000e+00, ...,\n",
       "        4.52341503e-15, 4.52248075e-15, 4.52154667e-15]),\n",
       " array([0.00000000e+00, 0.00000000e+00, 0.00000000e+00, ...,\n",
       "        2.43411559e-15, 2.43361284e-15, 2.43311019e-15]),\n",
       " array([0.00000000e+00, 0.00000000e+00, 0.00000000e+00, ...,\n",
       "        7.35633488e-15, 7.35481548e-15, 7.35329640e-15]),\n",
       " array([0.00000000e+00, 0.00000000e+00, 0.00000000e+00, ...,\n",
       "        3.37627176e-15, 3.37557442e-15, 3.37487722e-15]),\n",
       " array([0.00000000e+00, 0.00000000e+00, 0.00000000e+00, ...,\n",
       "        2.73420193e-14, 2.73363721e-14, 2.73307260e-14]),\n",
       " array([0.00000000e+00, 0.00000000e+00, 0.00000000e+00, ...,\n",
       "        2.19103759e-14, 2.19058505e-14, 2.19013260e-14]),\n",
       " array([0.00000000e+00, 0.00000000e+00, 0.00000000e+00, ...,\n",
       "        3.78320798e-14, 3.78242659e-14, 3.78164536e-14]),\n",
       " array([0.00000000e+00, 0.00000000e+00, 0.00000000e+00, ...,\n",
       "        6.43166362e-15, 6.43033521e-15, 6.42900708e-15]),\n",
       " array([0.00000000e+00, 0.00000000e+00, 0.00000000e+00, ...,\n",
       "        3.00034733e-14, 2.99972764e-14, 2.99910807e-14]),\n",
       " array([0.00000000e+00, 0.00000000e+00, 0.00000000e+00, ...,\n",
       "        2.58268201e-14, 2.58214858e-14, 2.58161526e-14]),\n",
       " array([0.00000000e+00, 0.00000000e+00, 0.00000000e+00, ...,\n",
       "        2.64492680e-14, 2.64438051e-14, 2.64383434e-14]),\n",
       " array([0.00000000e+00, 0.00000000e+00, 0.00000000e+00, ...,\n",
       "        7.73094289e-15, 7.72934612e-15, 7.72774969e-15]),\n",
       " array([0.00000000e+00, 0.00000000e+00, 0.00000000e+00, ...,\n",
       "        2.64879154e-15, 2.64824445e-15, 2.64769748e-15]),\n",
       " array([0.00000000e+00, 0.00000000e+00, 0.00000000e+00, ...,\n",
       "        3.56543724e-15, 3.56470083e-15, 3.56396457e-15]),\n",
       " array([0.00000000e+00, 0.00000000e+00, 0.00000000e+00, ...,\n",
       "        2.42395214e-14, 2.42345149e-14, 2.42295095e-14]),\n",
       " array([0.00000000e+00, 0.00000000e+00, 0.00000000e+00, ...,\n",
       "        1.80180352e-14, 1.80143138e-14, 1.80105930e-14]),\n",
       " array([0.00000000e+00, 0.00000000e+00, 0.00000000e+00, ...,\n",
       "        2.23078678e-15, 2.23032603e-15, 2.22986537e-15]),\n",
       " array([0.00000000e+00, 0.00000000e+00, 0.00000000e+00, ...,\n",
       "        1.69706113e-14, 1.69671062e-14, 1.69636017e-14]),\n",
       " array([0.00000000e+00, 0.00000000e+00, 0.00000000e+00, ...,\n",
       "        2.90247159e-14, 2.90187210e-14, 2.90127274e-14]),\n",
       " array([0.00000000e+00, 0.00000000e+00, 0.00000000e+00, ...,\n",
       "        3.00872198e-14, 3.00810055e-14, 3.00747925e-14]),\n",
       " array([0.00000000e+00, 0.00000000e+00, 0.00000000e+00, ...,\n",
       "        3.02953312e-14, 3.02890739e-14, 3.02828179e-14]),\n",
       " array([0.00000000e+00, 0.00000000e+00, 0.00000000e+00, ...,\n",
       "        9.96698939e-15, 9.96493078e-15, 9.96287261e-15]),\n",
       " array([0.00000000e+00, 0.00000000e+00, 0.00000000e+00, ...,\n",
       "        4.13609173e-15, 4.13523745e-15, 4.13438335e-15]),\n",
       " array([0.00000000e+00, 0.00000000e+00, 0.00000000e+00, ...,\n",
       "        6.59862554e-15, 6.59726264e-15, 6.59590003e-15]),\n",
       " array([0.00000000e+00, 0.00000000e+00, 0.00000000e+00, ...,\n",
       "        3.04286249e-15, 3.04223401e-15, 3.04160566e-15]),\n",
       " array([0.00000000e+00, 0.00000000e+00, 0.00000000e+00, ...,\n",
       "        6.66506969e-14, 6.66369307e-14, 6.66231674e-14]),\n",
       " array([0.00000000e+00, 0.00000000e+00, 0.00000000e+00, ...,\n",
       "        1.63534355e-14, 1.63500578e-14, 1.63466809e-14]),\n",
       " array([0.00000000e+00, 0.00000000e+00, 0.00000000e+00, ...,\n",
       "        1.24255009e-14, 1.24229345e-14, 1.24203687e-14]),\n",
       " array([0.00000000e+00, 0.00000000e+00, 0.00000000e+00, ...,\n",
       "        7.95305829e-15, 7.95141565e-15, 7.94977334e-15]),\n",
       " array([0.00000000e+00, 0.00000000e+00, 0.00000000e+00, ...,\n",
       "        1.53590631e-14, 1.53558908e-14, 1.53527191e-14]),\n",
       " array([0.00000000e+00, 0.00000000e+00, 0.00000000e+00, ...,\n",
       "        2.01476838e-14, 2.01435225e-14, 2.01393620e-14]),\n",
       " array([0.00000000e+00, 0.00000000e+00, 0.00000000e+00, ...,\n",
       "        6.76257575e-15, 6.76117899e-15, 6.75978252e-15]),\n",
       " array([0.00000000e+00, 0.00000000e+00, 0.00000000e+00, ...,\n",
       "        2.08261511e-14, 2.08218496e-14, 2.08175490e-14]),\n",
       " array([0.00000000e+00, 0.00000000e+00, 0.00000000e+00, ...,\n",
       "        2.95661397e-14, 2.95600330e-14, 2.95539276e-14]),\n",
       " array([0.00000000e+00, 0.00000000e+00, 0.00000000e+00, ...,\n",
       "        2.15773967e-14, 2.15729401e-14, 2.15684844e-14]),\n",
       " array([0.00000000e+00, 0.00000000e+00, 0.00000000e+00, ...,\n",
       "        6.93635125e-15, 6.93491860e-15, 6.93348624e-15]),\n",
       " array([0.00000000e+00, 0.00000000e+00, 0.00000000e+00, ...,\n",
       "        2.74424159e-15, 2.74367478e-15, 2.74310810e-15]),\n",
       " array([0.00000000e+00, 0.00000000e+00, 0.00000000e+00, ...,\n",
       "        1.86975653e-14, 1.86937035e-14, 1.86898424e-14]),\n",
       " array([0.00000000e+00, 0.00000000e+00, 0.00000000e+00, ...,\n",
       "        1.43626045e-14, 1.43596380e-14, 1.43566721e-14]),\n",
       " array([0.00000000e+00, 0.00000000e+00, 0.00000000e+00, ...,\n",
       "        1.60460227e-14, 1.60427085e-14, 1.60393950e-14]),\n",
       " array([0.00000000e+00, 0.00000000e+00, 0.00000000e+00, ...,\n",
       "        2.32712438e-14, 2.32664374e-14, 2.32616319e-14]),\n",
       " array([0.00000000e+00, 0.00000000e+00, 0.00000000e+00, ...,\n",
       "        9.93637511e-15, 9.93432283e-15, 9.93227097e-15]),\n",
       " array([0.00000000e+00, 0.00000000e+00, 0.00000000e+00, ...,\n",
       "        1.33387492e-14, 1.33359942e-14, 1.33332397e-14]),\n",
       " array([0.00000000e+00, 0.00000000e+00, 0.00000000e+00, ...,\n",
       "        1.19525287e-14, 1.19500600e-14, 1.19475918e-14]),\n",
       " array([0.00000000e+00, 0.00000000e+00, 0.00000000e+00, ...,\n",
       "        1.38163206e-14, 1.38134669e-14, 1.38106139e-14]),\n",
       " array([0.00000000e+00, 0.00000000e+00, 0.00000000e+00, ...,\n",
       "        2.02815256e-14, 2.02773366e-14, 2.02731485e-14]),\n",
       " array([0.00000000e+00, 0.00000000e+00, 0.00000000e+00, ...,\n",
       "        2.56560126e-14, 2.56507135e-14, 2.56454156e-14]),\n",
       " array([0.00000000e+00, 0.00000000e+00, 0.00000000e+00, ...,\n",
       "        5.23599177e-15, 5.23491031e-15, 5.23382908e-15]),\n",
       " array([0.00000000e+00, 0.00000000e+00, 0.00000000e+00, ...,\n",
       "        2.28416405e-15, 2.28369227e-15, 2.28322059e-15]),\n",
       " array([0.00000000e+00, 0.00000000e+00, 0.00000000e+00, ...,\n",
       "        9.02459829e-15, 9.02273433e-15, 9.02087076e-15]),\n",
       " array([0.00000000e+00, 0.00000000e+00, 0.00000000e+00, ...,\n",
       "        5.84796472e-15, 5.84675687e-15, 5.84554927e-15]),\n",
       " array([0.00000000e+00, 0.00000000e+00, 0.00000000e+00, ...,\n",
       "        6.27930003e-15, 6.27800309e-15, 6.27670642e-15]),\n",
       " array([0.00000000e+00, 0.00000000e+00, 0.00000000e+00, ...,\n",
       "        5.54163294e-15, 5.54048835e-15, 5.53934401e-15]),\n",
       " array([0.00000000e+00, 0.00000000e+00, 0.00000000e+00, ...,\n",
       "        2.96883710e-14, 2.96822391e-14, 2.96761085e-14]),\n",
       " array([0.00000000e+00, 0.00000000e+00, 0.00000000e+00, ...,\n",
       "        2.84316103e-14, 2.84257380e-14, 2.84198668e-14]),\n",
       " array([0.00000000e+00, 0.00000000e+00, 0.00000000e+00, ...,\n",
       "        3.63491991e-14, 3.63416914e-14, 3.63341853e-14]),\n",
       " array([0.00000000e+00, 0.00000000e+00, 0.00000000e+00, ...,\n",
       "        3.64846914e-15, 3.64771558e-15, 3.64696217e-15]),\n",
       " array([0.00000000e+00, 0.00000000e+00, 0.00000000e+00, ...,\n",
       "        3.78834196e-14, 3.78755951e-14, 3.78677721e-14]),\n",
       " array([0.00000000e+00, 0.00000000e+00, 0.00000000e+00, ...,\n",
       "        3.03478927e-14, 3.03416246e-14, 3.03353577e-14]),\n",
       " array([0.00000000e+00, 0.00000000e+00, 0.00000000e+00, ...,\n",
       "        3.04090455e-14, 3.04027647e-14, 3.03964853e-14]),\n",
       " array([0.00000000e+00, 0.00000000e+00, 0.00000000e+00, ...,\n",
       "        1.58593499e-14, 1.58560743e-14, 1.58527993e-14]),\n",
       " array([0.00000000e+00, 0.00000000e+00, 0.00000000e+00, ...,\n",
       "        1.64258509e-14, 1.64224582e-14, 1.64190663e-14]),\n",
       " array([0.00000000e+00, 0.00000000e+00, 0.00000000e+00, ...,\n",
       "        7.17368627e-15, 7.17220460e-15, 7.17072324e-15]),\n",
       " array([0.00000000e+00, 0.00000000e+00, 0.00000000e+00, ...,\n",
       "        6.13015114e-15, 6.12888500e-15, 6.12761913e-15]),\n",
       " array([0.00000000e+00, 0.00000000e+00, 0.00000000e+00, ...,\n",
       "        3.57951514e-14, 3.57877582e-14, 3.57803665e-14]),\n",
       " array([0.00000000e+00, 0.00000000e+00, 0.00000000e+00, ...,\n",
       "        1.14791355e-14, 1.14767646e-14, 1.14743942e-14]),\n",
       " array([0.00000000e+00, 0.00000000e+00, 0.00000000e+00, ...,\n",
       "        1.57411619e-14, 1.57379107e-14, 1.57346602e-14]),\n",
       " array([0.00000000e+00, 0.00000000e+00, 0.00000000e+00, ...,\n",
       "        1.08819848e-14, 1.08797372e-14, 1.08774901e-14]),\n",
       " array([0.00000000e+00, 0.00000000e+00, 0.00000000e+00, ...,\n",
       "        1.26515836e-14, 1.26489706e-14, 1.26463580e-14]),\n",
       " array([0.00000000e+00, 0.00000000e+00, 0.00000000e+00, ...,\n",
       "        8.15359668e-15, 8.15191262e-15, 8.15022890e-15]),\n",
       " array([0.00000000e+00, 0.00000000e+00, 0.00000000e+00, ...,\n",
       "        3.09489055e-15, 3.09425133e-15, 3.09361223e-15]),\n",
       " array([0.00000000e+00, 0.00000000e+00, 0.00000000e+00, ...,\n",
       "        1.77706941e-14, 1.77670237e-14, 1.77633541e-14]),\n",
       " array([0.00000000e+00, 0.00000000e+00, 0.00000000e+00, ...,\n",
       "        4.10239062e-14, 4.10154331e-14, 4.10069616e-14]),\n",
       " array([0.00000000e+00, 0.00000000e+00, 0.00000000e+00, ...,\n",
       "        3.70239976e-14, 3.70163506e-14, 3.70087052e-14]),\n",
       " array([0.00000000e+00, 0.00000000e+00, 0.00000000e+00, ...,\n",
       "        1.81828328e-14, 1.81790773e-14, 1.81753225e-14]),\n",
       " array([0.00000000e+00, 0.00000000e+00, 0.00000000e+00, ...,\n",
       "        8.67148343e-15, 8.66969240e-15, 8.66790174e-15]),\n",
       " array([0.00000000e+00, 0.00000000e+00, 0.00000000e+00, ...,\n",
       "        2.39249504e-14, 2.39200089e-14, 2.39150684e-14]),\n",
       " array([0.00000000e+00, 0.00000000e+00, 0.00000000e+00, ...,\n",
       "        1.64799255e-14, 1.64765217e-14, 1.64731186e-14]),\n",
       " array([0.00000000e+00, 0.00000000e+00, 0.00000000e+00, ...,\n",
       "        7.37368752e-15, 7.37216454e-15, 7.37064188e-15]),\n",
       " array([0.00000000e+00, 0.00000000e+00, 0.00000000e+00, ...,\n",
       "        2.25044415e-14, 2.24997933e-14, 2.24951462e-14]),\n",
       " array([0.00000000e+00, 0.00000000e+00, 0.00000000e+00, ...,\n",
       "        1.10330124e-14, 1.10307336e-14, 1.10284553e-14]),\n",
       " array([0.00000000e+00, 0.00000000e+00, 0.00000000e+00, ...,\n",
       "        8.58911432e-15, 8.58734031e-15, 8.58556666e-15]),\n",
       " array([0.00000000e+00, 0.00000000e+00, 0.00000000e+00, ...,\n",
       "        1.07875455e-14, 1.07853175e-14, 1.07830898e-14]),\n",
       " array([0.00000000e+00, 0.00000000e+00, 0.00000000e+00, ...,\n",
       "        1.44325610e-14, 1.44295800e-14, 1.44265997e-14]),\n",
       " array([0.00000000e+00, 0.00000000e+00, 0.00000000e+00, ...,\n",
       "        6.66614281e-14, 6.66476597e-14, 6.66338941e-14]),\n",
       " array([0.00000000e+00, 0.00000000e+00, 0.00000000e+00, ...,\n",
       "        4.16722165e-15, 4.16636094e-15, 4.16550041e-15]),\n",
       " array([0.00000000e+00, 0.00000000e+00, 0.00000000e+00, ...,\n",
       "        1.55342405e-14, 1.55310321e-14, 1.55278243e-14]),\n",
       " array([0.00000000e+00, 0.00000000e+00, 0.00000000e+00, ...,\n",
       "        7.13457018e-15, 7.13309659e-15, 7.13162331e-15]),\n",
       " array([0.00000000e+00, 0.00000000e+00, 0.00000000e+00, ...,\n",
       "        1.10409280e-14, 1.10386476e-14, 1.10363676e-14]),\n",
       " array([0.00000000e+00, 0.00000000e+00, 0.00000000e+00, ...,\n",
       "        1.83938195e-14, 1.83900204e-14, 1.83862221e-14]),\n",
       " array([0.00000000e+00, 0.00000000e+00, 0.00000000e+00, ...,\n",
       "        1.25552931e-14, 1.25526999e-14, 1.25501073e-14]),\n",
       " array([0.00000000e+00, 0.00000000e+00, 0.00000000e+00, ...,\n",
       "        6.82086218e-15, 6.81945338e-15, 6.81804488e-15]),\n",
       " array([0.00000000e+00, 0.00000000e+00, 0.00000000e+00, ...,\n",
       "        6.44083943e-15, 6.43950913e-15, 6.43817910e-15]),\n",
       " array([0.00000000e+00, 0.00000000e+00, 0.00000000e+00, ...,\n",
       "        9.41662900e-15, 9.41468407e-15, 9.41273954e-15]),\n",
       " array([0.00000000e+00, 0.00000000e+00, 0.00000000e+00, ...,\n",
       "        2.87375938e-14, 2.87316582e-14, 2.87257239e-14]),\n",
       " array([0.00000000e+00, 0.00000000e+00, 0.00000000e+00, ...,\n",
       "        1.63026522e-14, 1.62992850e-14, 1.62959185e-14]),\n",
       " array([0.00000000e+00, 0.00000000e+00, 0.00000000e+00, ...,\n",
       "        3.47108282e-15, 3.47036590e-15, 3.46964912e-15]),\n",
       " array([0.00000000e+00, 0.00000000e+00, 0.00000000e+00, ...,\n",
       "        6.43532324e-15, 6.43399407e-15, 6.43266518e-15]),\n",
       " array([0.00000000e+00, 0.00000000e+00, 0.00000000e+00, ...,\n",
       "        9.84372004e-15, 9.84168690e-15, 9.83965417e-15]),\n",
       " array([0.00000000e+00, 0.00000000e+00, 0.00000000e+00, ...,\n",
       "        6.90905592e-15, 6.90762891e-15, 6.90620220e-15]),\n",
       " array([0.00000000e+00, 0.00000000e+00, 0.00000000e+00, ...,\n",
       "        1.51389667e-14, 1.51358398e-14, 1.51327137e-14]),\n",
       " array([0.00000000e+00, 0.00000000e+00, 0.00000000e+00, ...,\n",
       "        8.47917331e-15, 8.47742200e-15, 8.47567106e-15])]"
      ]
     },
     "execution_count": 20,
     "metadata": {},
     "output_type": "execute_result"
    }
   ],
   "source": [
    "test"
   ]
  },
  {
   "cell_type": "code",
   "execution_count": 21,
   "metadata": {},
   "outputs": [
    {
     "data": {
      "text/plain": [
       "[<matplotlib.lines.Line2D at 0x7f74e6900bb0>]"
      ]
     },
     "execution_count": 21,
     "metadata": {},
     "output_type": "execute_result"
    },
    {
     "data": {
      "image/png": "[encoded data removed]",
      "text/plain": [
       "<Figure size 640x480 with 1 Axes>"
      ]
     },
     "metadata": {},
     "output_type": "display_data"
    }
   ],
   "source": [
    "plt.plot(time_array,test[0])"
   ]
  },
  {
   "cell_type": "code",
   "execution_count": 22,
   "metadata": {},
   "outputs": [
    {
     "data": {
      "text/plain": [
       "(0.0095, 0.0105)"
      ]
     },
     "execution_count": 22,
     "metadata": {},
     "output_type": "execute_result"
    },
    {
     "data": {
      "image/png": "[encoded data removed]",
      "text/plain": [
       "<Figure size 640x480 with 1 Axes>"
      ]
     },
     "metadata": {},
     "output_type": "display_data"
    }
   ],
   "source": [
    "plt.plot(time_array,test[2])\n",
    "plt.xlim(0.0095,0.0105)"
   ]
  },
  {
   "cell_type": "code",
   "execution_count": 23,
   "metadata": {},
   "outputs": [
    {
     "data": {
      "text/html": [
       "<table>\n",
       "<thead>\n",
       "<tr><th>#                              </th><th>series_number  </th><th>event_number  </th><th>dump_number  </th><th>event_time  </th><th>series_start_time  </th><th>group_start_time  </th><th>fridge_run_start_time  </th><th>fridge_run_number  </th><th>trigger_index  </th><th>trigger_time  </th><th>trigger_type  </th><th>data_type  </th><th>group_name                     </th><th>processing_id  </th><th>trigger_prod_id  </th><th>trigger_prod_group_name  </th><th>Salt_amplitude                                     </th><th>Salt_energy                                        </th></tr>\n",
       "</thead>\n",
       "<tbody>\n",
       "<tr><td><i style='opacity: 0.6'>0</i>  </td><td>220240712205736</td><td>100010        </td><td>1            </td><td>1720843162  </td><td>107                </td><td>352               </td><td>28762                  </td><td>47                 </td><td>3410339        </td><td>5.4565424     </td><td>3             </td><td>Test       </td><td>continuous_I2_D20240712_T205330</td><td>nan            </td><td>1                </td><td>nan                      </td><td>&#x27;array([0.00000000e+00, 0.00000000e+00, 0.000000...</td><td>&#x27;array([0.00000000e+00, 0.00000000e+00, 0.000000...</td></tr>\n",
       "<tr><td><i style='opacity: 0.6'>1</i>  </td><td>220240712205736</td><td>100021        </td><td>1            </td><td>1720843276  </td><td>221                </td><td>466               </td><td>28876                  </td><td>47                 </td><td>5861246        </td><td>9.3779936     </td><td>3             </td><td>Test       </td><td>continuous_I2_D20240712_T205330</td><td>nan            </td><td>2                </td><td>nan                      </td><td>&#x27;array([0.00000000e+00, 0.00000000e+00, 0.000000...</td><td>&#x27;array([0.00000000e+00, 0.00000000e+00, 0.000000...</td></tr>\n",
       "<tr><td><i style='opacity: 0.6'>2</i>  </td><td>220240712205736</td><td>200017        </td><td>2            </td><td>1720843437  </td><td>382                </td><td>627               </td><td>29037                  </td><td>47                 </td><td>160033         </td><td>0.2560528     </td><td>3             </td><td>Test       </td><td>continuous_I2_D20240712_T205330</td><td>nan            </td><td>3                </td><td>nan                      </td><td>&#x27;array([0.00000000e+00, 0.00000000e+00, 0.000000...</td><td>&#x27;array([0.00000000e+00, 0.00000000e+00, 0.000000...</td></tr>\n",
       "<tr><td><i style='opacity: 0.6'>3</i>  </td><td>220240712205736</td><td>200021        </td><td>2            </td><td>1720843486  </td><td>431                </td><td>676               </td><td>29086                  </td><td>47                 </td><td>5406419        </td><td>8.6502704     </td><td>3             </td><td>Test       </td><td>continuous_I2_D20240712_T205330</td><td>nan            </td><td>4                </td><td>nan                      </td><td>&#x27;array([0.00000000e+00, 0.00000000e+00, 0.000000...</td><td>&#x27;array([0.00000000e+00, 0.00000000e+00, 0.000000...</td></tr>\n",
       "<tr><td><i style='opacity: 0.6'>4</i>  </td><td>220240712205736</td><td>300007        </td><td>3            </td><td>1720843553  </td><td>498                </td><td>743               </td><td>29153                  </td><td>47                 </td><td>3888914        </td><td>6.2222624     </td><td>3             </td><td>Test       </td><td>continuous_I2_D20240712_T205330</td><td>nan            </td><td>5                </td><td>nan                      </td><td>&#x27;array([0.00000000e+00, 0.00000000e+00, 0.000000...</td><td>&#x27;array([0.00000000e+00, 0.00000000e+00, 0.000000...</td></tr>\n",
       "<tr><td>...                            </td><td>...            </td><td>...           </td><td>...          </td><td>...         </td><td>...                </td><td>...               </td><td>...                    </td><td>...                </td><td>...            </td><td>...           </td><td>...           </td><td>...        </td><td>...                            </td><td>...            </td><td>...              </td><td>...                      </td><td>...                                                </td><td>...                                                </td></tr>\n",
       "<tr><td><i style='opacity: 0.6'>97</i> </td><td>220240712234916</td><td>700004        </td><td>7            </td><td>1720854661  </td><td>1306               </td><td>11851             </td><td>40261                  </td><td>47                 </td><td>1874519        </td><td>2.9992304     </td><td>3             </td><td>Test       </td><td>continuous_I2_D20240712_T205330</td><td>nan            </td><td>13               </td><td>nan                      </td><td>&#x27;array([0.00000000e+00, 0.00000000e+00, 0.000000...</td><td>&#x27;array([0.00000000e+00, 0.00000000e+00, 0.000000...</td></tr>\n",
       "<tr><td><i style='opacity: 0.6'>98</i> </td><td>220240712234916</td><td>700014        </td><td>7            </td><td>1720854762  </td><td>1407               </td><td>11952             </td><td>40362                  </td><td>47                 </td><td>2292299        </td><td>3.6676784     </td><td>3             </td><td>Test       </td><td>continuous_I2_D20240712_T205330</td><td>nan            </td><td>14               </td><td>nan                      </td><td>&#x27;array([0.00000000e+00, 0.00000000e+00, 0.000000...</td><td>&#x27;array([0.00000000e+00, 0.00000000e+00, 0.000000...</td></tr>\n",
       "<tr><td><i style='opacity: 0.6'>99</i> </td><td>220240712234916</td><td>800008        </td><td>8            </td><td>1720854910  </td><td>1555               </td><td>12100             </td><td>40510                  </td><td>47                 </td><td>1436901        </td><td>2.2990416     </td><td>3             </td><td>Test       </td><td>continuous_I2_D20240712_T205330</td><td>nan            </td><td>15               </td><td>nan                      </td><td>&#x27;array([0.00000000e+00, 0.00000000e+00, 0.000000...</td><td>&#x27;array([0.00000000e+00, 0.00000000e+00, 0.000000...</td></tr>\n",
       "<tr><td><i style='opacity: 0.6'>100</i></td><td>220240712234916</td><td>800010        </td><td>8            </td><td>1720854929  </td><td>1574               </td><td>12119             </td><td>40529                  </td><td>47                 </td><td>788139         </td><td>1.2610224     </td><td>3             </td><td>Test       </td><td>continuous_I2_D20240712_T205330</td><td>nan            </td><td>16               </td><td>nan                      </td><td>&#x27;array([0.00000000e+00, 0.00000000e+00, 0.000000...</td><td>&#x27;array([0.00000000e+00, 0.00000000e+00, 0.000000...</td></tr>\n",
       "<tr><td><i style='opacity: 0.6'>101</i></td><td>220240712234916</td><td>900011        </td><td>9            </td><td>1720855158  </td><td>1803               </td><td>12348             </td><td>40758                  </td><td>47                 </td><td>6011437        </td><td>9.6182992     </td><td>3             </td><td>Test       </td><td>continuous_I2_D20240712_T205330</td><td>nan            </td><td>17               </td><td>nan                      </td><td>&#x27;array([0.00000000e+00, 0.00000000e+00, 0.000000...</td><td>&#x27;array([0.00000000e+00, 0.00000000e+00, 0.000000...</td></tr>\n",
       "</tbody>\n",
       "</table>"
      ],
      "text/plain": [
       "#    series_number    event_number    dump_number    event_time    series_start_time    group_start_time    fridge_run_start_time    fridge_run_number    trigger_index    trigger_time    trigger_type    data_type    group_name                       processing_id    trigger_prod_id    trigger_prod_group_name    Salt_amplitude                                       Salt_energy\n",
       "0    220240712205736  100010          1              1720843162    107                  352                 28762                    47                   3410339          5.4565424       3               Test         continuous_I2_D20240712_T205330  nan              1                  nan                        'array([0.00000000e+00, 0.00000000e+00, 0.000000...  'array([0.00000000e+00, 0.00000000e+00, 0.000000...\n",
       "1    220240712205736  100021          1              1720843276    221                  466                 28876                    47                   5861246          9.3779936       3               Test         continuous_I2_D20240712_T205330  nan              2                  nan                        'array([0.00000000e+00, 0.00000000e+00, 0.000000...  'array([0.00000000e+00, 0.00000000e+00, 0.000000...\n",
       "2    220240712205736  200017          2              1720843437    382                  627                 29037                    47                   160033           0.2560528       3               Test         continuous_I2_D20240712_T205330  nan              3                  nan                        'array([0.00000000e+00, 0.00000000e+00, 0.000000...  'array([0.00000000e+00, 0.00000000e+00, 0.000000...\n",
       "3    220240712205736  200021          2              1720843486    431                  676                 29086                    47                   5406419          8.6502704       3               Test         continuous_I2_D20240712_T205330  nan              4                  nan                        'array([0.00000000e+00, 0.00000000e+00, 0.000000...  'array([0.00000000e+00, 0.00000000e+00, 0.000000...\n",
       "4    220240712205736  300007          3              1720843553    498                  743                 29153                    47                   3888914          6.2222624       3               Test         continuous_I2_D20240712_T205330  nan              5                  nan                        'array([0.00000000e+00, 0.00000000e+00, 0.000000...  'array([0.00000000e+00, 0.00000000e+00, 0.000000...\n",
       "...  ...              ...             ...            ...           ...                  ...                 ...                      ...                  ...              ...             ...             ...          ...                              ...              ...                ...                        ...                                                  ...\n",
       "97   220240712234916  700004          7              1720854661    1306                 11851               40261                    47                   1874519          2.9992304       3               Test         continuous_I2_D20240712_T205330  nan              13                 nan                        'array([0.00000000e+00, 0.00000000e+00, 0.000000...  'array([0.00000000e+00, 0.00000000e+00, 0.000000...\n",
       "98   220240712234916  700014          7              1720854762    1407                 11952               40362                    47                   2292299          3.6676784       3               Test         continuous_I2_D20240712_T205330  nan              14                 nan                        'array([0.00000000e+00, 0.00000000e+00, 0.000000...  'array([0.00000000e+00, 0.00000000e+00, 0.000000...\n",
       "99   220240712234916  800008          8              1720854910    1555                 12100               40510                    47                   1436901          2.2990416       3               Test         continuous_I2_D20240712_T205330  nan              15                 nan                        'array([0.00000000e+00, 0.00000000e+00, 0.000000...  'array([0.00000000e+00, 0.00000000e+00, 0.000000...\n",
       "100  220240712234916  800010          8              1720854929    1574                 12119               40529                    47                   788139           1.2610224       3               Test         continuous_I2_D20240712_T205330  nan              16                 nan                        'array([0.00000000e+00, 0.00000000e+00, 0.000000...  'array([0.00000000e+00, 0.00000000e+00, 0.000000...\n",
       "101  220240712234916  900011          9              1720855158    1803                 12348               40758                    47                   6011437          9.6182992       3               Test         continuous_I2_D20240712_T205330  nan              17                 nan                        'array([0.00000000e+00, 0.00000000e+00, 0.000000...  'array([0.00000000e+00, 0.00000000e+00, 0.000000..."
      ]
     },
     "execution_count": 23,
     "metadata": {},
     "output_type": "execute_result"
    }
   ],
   "source": [
    "salt._dataframe"
   ]
  },
  {
   "cell_type": "code",
   "execution_count": null,
   "metadata": {},
   "outputs": [],
   "source": []
  }
 ],
 "metadata": {
  "kernelspec": {
   "display_name": "pythonstandard",
   "language": "python",
   "name": "python3"
  },
  "language_info": {
   "codemirror_mode": {
    "name": "ipython",
    "version": 3
   },
   "file_extension": ".py",
   "mimetype": "text/x-python",
   "name": "python",
   "nbconvert_exporter": "python",
   "pygments_lexer": "ipython3",
   "version": "3.10.13"
  }
 },
 "nbformat": 4,
 "nbformat_minor": 2
}
